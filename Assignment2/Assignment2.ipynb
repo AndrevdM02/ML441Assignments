{
 "cells": [
  {
   "cell_type": "code",
   "execution_count": 9,
   "id": "a2a59d8e-08a7-495a-a409-603f018bd67a",
   "metadata": {},
   "outputs": [
    {
     "name": "stdout",
     "output_type": "stream",
     "text": [
      "The autoreload extension is already loaded. To reload it, use:\n",
      "  %reload_ext autoreload\n"
     ]
    }
   ],
   "source": [
    "%matplotlib inline\n",
    "%load_ext autoreload\n",
    "%autoreload 2"
   ]
  },
  {
   "cell_type": "code",
   "execution_count": 10,
   "id": "95a194ae-5faa-466f-988a-cec2e0ded779",
   "metadata": {},
   "outputs": [],
   "source": [
    "import numpy as np # linear algebra\n",
    "import pandas as pd # data processing, CSV file I/O (e.g. pd.read_csv)\n",
    "\n",
    "import warnings\n",
    "warnings.filterwarnings(\"ignore\")\n",
    "\n",
    "from datasets import load_dataset\n",
    "\n",
    "import matplotlib.pyplot as plt\n",
    "import seaborn as sns\n",
    "from sklearn.model_selection import train_test_split\n",
    "from sklearn.metrics import accuracy_score, classification_report, confusion_matrix\n",
    "\n",
    "from copy import deepcopy"
   ]
  },
  {
   "cell_type": "markdown",
   "id": "f0f91c91-17c3-4568-a7c1-2b34f02312c5",
   "metadata": {},
   "source": [
    "### IRIS dataset"
   ]
  },
  {
   "cell_type": "code",
   "execution_count": 5,
   "id": "66f7d9b7-62b4-449b-8082-cc4194945f24",
   "metadata": {},
   "outputs": [],
   "source": [
    "from sklearn import datasets\n",
    "# from FFNN import NeuralNetwork\n",
    "\n",
    "iris = datasets.load_iris()"
   ]
  },
  {
   "cell_type": "code",
   "execution_count": 6,
   "id": "c7ba884b-d841-4c1e-a882-5a9bfbec9410",
   "metadata": {},
   "outputs": [],
   "source": [
    "X = iris.data\n",
    "y = iris.target"
   ]
  },
  {
   "cell_type": "code",
   "execution_count": 307,
   "id": "f6fd226d-4086-40eb-8c57-b5c93b6cbda0",
   "metadata": {},
   "outputs": [],
   "source": [
    "import numpy as np\n",
    "from sklearn.preprocessing import OneHotEncoder\n",
    "\n",
    "# Initialize the OneHotEncoder\n",
    "encoder = OneHotEncoder(sparse_output=False)  # Use sparse_output=False to return an array\n",
    "\n",
    "# Fit the encoder and transform the data\n",
    "one_hot_encoded = encoder.fit_transform(y.reshape(-1,1))\n",
    "y = one_hot_encoded"
   ]
  },
  {
   "cell_type": "code",
   "execution_count": 308,
   "id": "c9fd76c0-c80b-493a-a323-9ae7b1c84d66",
   "metadata": {},
   "outputs": [],
   "source": [
    "X = (X - X.mean()) / X.std()"
   ]
  },
  {
   "cell_type": "code",
   "execution_count": 309,
   "id": "2615ef2c-b2a9-4ec3-ad70-57fb8a171fc2",
   "metadata": {},
   "outputs": [],
   "source": [
    "X_train, X_temp, y_train, y_temp = train_test_split(X,y,test_size=0.3, random_state=0)\n",
    "X_val, X_test, y_val, y_test = train_test_split(X_temp,y_temp,test_size=0.5, random_state=0)"
   ]
  },
  {
   "cell_type": "code",
   "execution_count": 8,
   "id": "b7e46bf8-1fb3-48aa-af95-6ce1dccfb781",
   "metadata": {
    "scrolled": true
   },
   "outputs": [
    {
     "name": "stdout",
     "output_type": "stream",
     "text": [
      "Epoch 1/10, Error: 0.7077599965143377, Avg Weight Change: 0.009522800727795001\n",
      "Validation Error: 0.46721387247565255\n",
      "Epoch 2/10, Error: 0.4281231357267058, Avg Weight Change: 0.011805410950470694\n",
      "Validation Error: 0.3809817313513598\n",
      "Epoch 3/10, Error: 0.3913807904118421, Avg Weight Change: 0.015293273988270434\n",
      "Validation Error: 0.4360034484639339\n",
      "Epoch 4/10, Error: 0.28258342542829706, Avg Weight Change: 0.009941821757663684\n",
      "Validation Error: 0.24863077953525006\n",
      "Epoch 5/10, Error: 0.2649657152733877, Avg Weight Change: 0.013162575542316266\n",
      "Validation Error: 0.25268950577169413\n",
      "Epoch 6/10, Error: 0.2236814964990248, Avg Weight Change: 0.01123291563336782\n",
      "Validation Error: 0.10815144681801914\n",
      "Epoch 7/10, Error: 0.23672065924714253, Avg Weight Change: 0.012519272748209298\n",
      "Validation Error: 0.34058417727549306\n",
      "Epoch 8/10, Error: 0.18326974108785093, Avg Weight Change: 0.007911441155055696\n",
      "Validation Error: 0.15166611049757253\n",
      "Epoch 9/10, Error: 0.16486959967463574, Avg Weight Change: 0.006512374761894693\n",
      "Validation Error: 0.11216586987758137\n",
      "Epoch 10/10, Error: 0.26210171452524594, Avg Weight Change: 0.0115239912092064\n",
      "Validation Error: 0.4714313184416836\n"
     ]
    },
    {
     "data": {
      "text/plain": [
       "0.0"
      ]
     },
     "execution_count": 8,
     "metadata": {},
     "output_type": "execute_result"
    }
   ],
   "source": [
    "nn = NeuralNetwork(num_hidden=3, epochs=10, eta=0.1, alpha=0.9)\n",
    "nn.fit(X_train,y_train, X_val, y_val)\n",
    "y_pred = nn.predict(X_test)\n",
    "np.sum(y_test == y_pred) / len(y_test)"
   ]
  },
  {
   "cell_type": "code",
   "execution_count": 9,
   "id": "c1bf1bbe-44fa-4c31-9301-bcac233da214",
   "metadata": {},
   "outputs": [
    {
     "data": {
      "text/plain": [
       "0.0"
      ]
     },
     "execution_count": 9,
     "metadata": {},
     "output_type": "execute_result"
    }
   ],
   "source": [
    "y_pred = nn.predict(X_val)\n",
    "np.sum(y_val == y_pred) / len(y_val)"
   ]
  },
  {
   "cell_type": "code",
   "execution_count": 10,
   "id": "e3af41d8-7d2e-4c95-93f0-2133a1da3cf6",
   "metadata": {},
   "outputs": [
    {
     "data": {
      "text/plain": [
       "0.0"
      ]
     },
     "execution_count": 10,
     "metadata": {},
     "output_type": "execute_result"
    }
   ],
   "source": [
    "y_pred = nn.predict(X_temp)\n",
    "np.sum(y_temp == y_pred) / len(y_temp)"
   ]
  },
  {
   "cell_type": "code",
   "execution_count": 11,
   "id": "b530de33-5755-48c4-b44d-50ab41e89c47",
   "metadata": {
    "scrolled": true
   },
   "outputs": [
    {
     "name": "stdout",
     "output_type": "stream",
     "text": [
      "Epoch 1/10, Error: 1.5226345972913529, Avg Weight Change: 0.0022912405431206396\n",
      "Validation Error: 1.2259090748242487\n",
      "Epoch 2/10, Error: 1.0495599766763561, Avg Weight Change: 0.002105500299059709\n",
      "Validation Error: 1.0404997489407224\n",
      "Epoch 3/10, Error: 0.9233967872012191, Avg Weight Change: 0.0020284698646844974\n",
      "Validation Error: 0.9181672881447198\n",
      "Epoch 4/10, Error: 0.8553960840608136, Avg Weight Change: 0.0020444901474568327\n",
      "Validation Error: 0.8417550663768073\n",
      "Epoch 5/10, Error: 0.7961748254551996, Avg Weight Change: 0.0021549793680055935\n",
      "Validation Error: 0.7760765826965778\n",
      "Epoch 6/10, Error: 0.7270162108595113, Avg Weight Change: 0.0023311021504926425\n",
      "Validation Error: 0.7576182566729238\n",
      "Epoch 7/10, Error: 0.6328244221678389, Avg Weight Change: 0.0020834035940661077\n",
      "Validation Error: 0.5694867740885848\n",
      "Epoch 8/10, Error: 0.5134030574298345, Avg Weight Change: 0.0017716368523503895\n",
      "Validation Error: 0.4881348086353215\n",
      "Epoch 9/10, Error: 0.46514628333048086, Avg Weight Change: 0.0016281868967681977\n",
      "Validation Error: 0.44362117567821363\n",
      "Epoch 10/10, Error: 0.4206711437388024, Avg Weight Change: 0.0015321557033283438\n",
      "Validation Error: 0.41059101635480155\n"
     ]
    },
    {
     "data": {
      "text/plain": [
       "0.0"
      ]
     },
     "execution_count": 11,
     "metadata": {},
     "output_type": "execute_result"
    }
   ],
   "source": [
    "nn = NeuralNetwork(num_hidden=17, epochs=10, eta=0.1, alpha=0.9, output_activation='sigmoid')\n",
    "nn.fit(X_train,y_train, X_val, y_val)\n",
    "y_pred = nn.predict(X_test)\n",
    "np.sum(y_test == y_pred) / len(y_test)"
   ]
  },
  {
   "cell_type": "code",
   "execution_count": 12,
   "id": "7d2fde13-9a54-48f1-bff3-b53ba342cc2b",
   "metadata": {},
   "outputs": [
    {
     "data": {
      "text/plain": [
       "0.0"
      ]
     },
     "execution_count": 12,
     "metadata": {},
     "output_type": "execute_result"
    }
   ],
   "source": [
    "y_pred = nn.predict(X_val)\n",
    "np.sum(y_val == y_pred) / len(y_val)"
   ]
  },
  {
   "cell_type": "code",
   "execution_count": 13,
   "id": "edfe67c8-5f0d-4610-8d53-fdd4476831dd",
   "metadata": {},
   "outputs": [
    {
     "data": {
      "text/plain": [
       "0.0"
      ]
     },
     "execution_count": 13,
     "metadata": {},
     "output_type": "execute_result"
    }
   ],
   "source": [
    "y_pred = nn.predict(X_temp)\n",
    "np.sum(y_temp == y_pred) / len(y_temp)"
   ]
  },
  {
   "cell_type": "markdown",
   "id": "447297c5-cca4-4320-a5d5-fd5e4463ecdd",
   "metadata": {},
   "source": [
    "### Alzheimer classification"
   ]
  },
  {
   "cell_type": "code",
   "execution_count": 269,
   "id": "e096a51c-2f01-4fa2-92cf-645b3466e251",
   "metadata": {},
   "outputs": [],
   "source": [
    "dataset = load_dataset('Falah/Alzheimer_MRI', split='train')\n",
    "test = load_dataset('Falah/Alzheimer_MRI', split='test')"
   ]
  },
  {
   "cell_type": "code",
   "execution_count": 303,
   "id": "89c96152-0e18-4c22-9b8a-9da892bf6ba3",
   "metadata": {},
   "outputs": [],
   "source": [
    "images = []\n",
    "labels = []\n",
    "\n",
    "for i in dataset:\n",
    "    images += [np.array(i[\"image\"])]\n",
    "    labels += [i[\"label\"]]\n",
    "\n",
    "for i in test:\n",
    "    images += [np.array(i[\"image\"])]\n",
    "    labels += [i[\"label\"]]\n",
    "\n",
    "images = np.array(images)\n",
    "labels = np.array(labels)"
   ]
  },
  {
   "cell_type": "code",
   "execution_count": 304,
   "id": "650817df-0ccc-4a87-bbbd-d4cfee427e55",
   "metadata": {},
   "outputs": [],
   "source": [
    "images = images/255"
   ]
  },
  {
   "cell_type": "code",
   "execution_count": 305,
   "id": "c49e7092-a80c-4c2d-92e8-8846e344510e",
   "metadata": {},
   "outputs": [
    {
     "data": {
      "image/png": "[encoded data removed]",
      "text/plain": [
       "<Figure size 400x300 with 1 Axes>"
      ]
     },
     "metadata": {},
     "output_type": "display_data"
    }
   ],
   "source": [
    "fig = plt.figure(figsize= (4,3))\n",
    "plt.imshow(images[0], cmap='gray')\n",
    "_ = plt.axis('off')"
   ]
  },
  {
   "cell_type": "code",
   "execution_count": 293,
   "id": "6fe45e02-1a5f-4900-bf74-de90b1a227f1",
   "metadata": {},
   "outputs": [],
   "source": [
    "images = images.reshape(6400, -1)"
   ]
  },
  {
   "cell_type": "code",
   "execution_count": 294,
   "id": "16459aad-97a6-4551-8aaf-7807ef9bd027",
   "metadata": {},
   "outputs": [],
   "source": [
    "X_train, X_temp, y_train, y_temp = train_test_split(images,labels,test_size=0.3, random_state=0)\n",
    "X_val, X_test, y_val, y_test = train_test_split(X_temp,y_temp,test_size=0.5, random_state=0)"
   ]
  },
  {
   "cell_type": "code",
   "execution_count": 299,
   "id": "bb36c55a-ce18-47f3-aad6-1ee5d2503894",
   "metadata": {},
   "outputs": [
    {
     "name": "stdout",
     "output_type": "stream",
     "text": [
      "Epoch 1/5, Error: 1.0851501859470378\n",
      "Validation Error: 1.094615050474826\n",
      "Epoch 2/5, Error: 1.0736252895850718\n",
      "Validation Error: 1.0904974434279553\n",
      "Epoch 3/5, Error: 1.0713783617195378\n",
      "Validation Error: 1.1114656111594319\n",
      "Early stopping at epoch 3. Best epoch was 2\n"
     ]
    },
    {
     "data": {
      "text/plain": [
       "0.5260416666666666"
      ]
     },
     "execution_count": 299,
     "metadata": {},
     "output_type": "execute_result"
    }
   ],
   "source": [
    "nn = NeuralNetwork(num_hidden=10, epochs=5, eta=0.1, alpha=0.9)\n",
    "nn.fit(X_train,y_train, X_val, y_val)\n",
    "y_pred = nn.predict(X_test)\n",
    "np.sum(y_test == y_pred) / len(y_test)"
   ]
  },
  {
   "cell_type": "markdown",
   "id": "ad3b680d-3b3b-4e13-a22f-a898cceaf122",
   "metadata": {},
   "source": [
    "### MNIST"
   ]
  },
  {
   "cell_type": "code",
   "execution_count": 610,
   "id": "12778718-fd63-4f8f-9aa2-c170d833cc5c",
   "metadata": {},
   "outputs": [],
   "source": [
    "from sklearn.datasets import fetch_openml\n",
    "X,y= fetch_openml('mnist_784',version=1,return_X_y=True)"
   ]
  },
  {
   "cell_type": "code",
   "execution_count": 611,
   "id": "b40f8ec7-c521-4b58-b0c4-dd7e31fcc32f",
   "metadata": {},
   "outputs": [],
   "source": [
    "X = X.to_numpy()\n",
    "y = y.to_numpy()"
   ]
  },
  {
   "cell_type": "code",
   "execution_count": 612,
   "id": "891e1ebc-9e83-4ef7-a23d-2eec6176fb48",
   "metadata": {},
   "outputs": [
    {
     "data": {
      "image/png": "[encoded data removed]",
      "text/plain": [
       "<Figure size 800x600 with 9 Axes>"
      ]
     },
     "metadata": {},
     "output_type": "display_data"
    }
   ],
   "source": [
    "num_images = 9 # Choose a square number\n",
    "factor = int(np.sqrt(num_images))\n",
    "fig,ax = plt.subplots(nrows=factor,ncols=factor,figsize=(8,6))\n",
    "idx_offset = 0 # take \"num_images\" starting from the index \"idx_offset\"\n",
    "for i in range(factor):\n",
    "  index = idx_offset+i*(factor)\n",
    "  for j in range(factor):\n",
    "    ax[i,j].imshow(X[index+j].reshape(28,28),cmap='gray')\n",
    "    ax[i,j].set_title('Label:{0}'.format(str(y[index+j])))\n",
    "    ax[i,j].set_axis_off()"
   ]
  },
  {
   "cell_type": "code",
   "execution_count": 613,
   "id": "c0c031c3-d40c-40b2-8ef5-121e941c9a2f",
   "metadata": {},
   "outputs": [],
   "source": [
    "X = X/255"
   ]
  },
  {
   "cell_type": "code",
   "execution_count": 614,
   "id": "2d112d52-8ab2-43b2-b267-4dbdf5cf7938",
   "metadata": {},
   "outputs": [],
   "source": [
    "y = y.astype(int)"
   ]
  },
  {
   "cell_type": "code",
   "execution_count": 615,
   "id": "fd1a83e7-6140-4ae8-82e4-a94360bbb3b3",
   "metadata": {},
   "outputs": [],
   "source": [
    "X_train, X_temp, y_train, y_temp = train_test_split(X,y,test_size=0.3, random_state=0)\n",
    "X_val, X_test, y_val, y_test = train_test_split(X_temp,y_temp,test_size=0.5, random_state=0)"
   ]
  },
  {
   "cell_type": "code",
   "execution_count": 616,
   "id": "97fd3f89-a3d6-41e4-8fcc-17f58c17b736",
   "metadata": {},
   "outputs": [
    {
     "name": "stdout",
     "output_type": "stream",
     "text": [
      "Epoch 1/10, Error: nan, Avg Weight Change: nan\n",
      "Validation Error: nan\n",
      "Epoch 2/10, Error: nan, Avg Weight Change: nan\n",
      "Validation Error: nan\n"
     ]
    },
    {
     "ename": "KeyboardInterrupt",
     "evalue": "",
     "output_type": "error",
     "traceback": [
      "\u001b[1;31m---------------------------------------------------------------------------\u001b[0m",
      "\u001b[1;31mKeyboardInterrupt\u001b[0m                         Traceback (most recent call last)",
      "Cell \u001b[1;32mIn[616], line 2\u001b[0m\n\u001b[0;32m      1\u001b[0m nn \u001b[38;5;241m=\u001b[39m NeuralNetwork(num_hidden\u001b[38;5;241m=\u001b[39m\u001b[38;5;241m88\u001b[39m, epochs\u001b[38;5;241m=\u001b[39m\u001b[38;5;241m10\u001b[39m, eta\u001b[38;5;241m=\u001b[39m\u001b[38;5;241m0.1\u001b[39m, alpha\u001b[38;5;241m=\u001b[39m\u001b[38;5;241m0.9\u001b[39m)\n\u001b[1;32m----> 2\u001b[0m \u001b[43mnn\u001b[49m\u001b[38;5;241;43m.\u001b[39;49m\u001b[43mfit\u001b[49m\u001b[43m(\u001b[49m\u001b[43mX_train\u001b[49m\u001b[43m,\u001b[49m\u001b[43my_train\u001b[49m\u001b[43m,\u001b[49m\u001b[43m \u001b[49m\u001b[43mX_val\u001b[49m\u001b[43m,\u001b[49m\u001b[43m \u001b[49m\u001b[43my_val\u001b[49m\u001b[43m)\u001b[49m\n\u001b[0;32m      3\u001b[0m y_pred \u001b[38;5;241m=\u001b[39m nn\u001b[38;5;241m.\u001b[39mpredict(X_test)\n\u001b[0;32m      4\u001b[0m np\u001b[38;5;241m.\u001b[39msum(y_test \u001b[38;5;241m==\u001b[39m y_pred) \u001b[38;5;241m/\u001b[39m \u001b[38;5;28mlen\u001b[39m(y_test)\n",
      "File \u001b[1;32mD:\\ML441\\ML441Assignments\\Assignment2\\FFNN.py:341\u001b[0m, in \u001b[0;36mNeuralNetwork.fit\u001b[1;34m(self, X, y, X_val, y_val)\u001b[0m\n\u001b[0;32m    338\u001b[0m delta_o, delta_y \u001b[38;5;241m=\u001b[39m \u001b[38;5;28mself\u001b[39m\u001b[38;5;241m.\u001b[39mcalculate_error_signals(y[p], hidden_output, output)\n\u001b[0;32m    340\u001b[0m \u001b[38;5;66;03m# Update weights and track changes\u001b[39;00m\n\u001b[1;32m--> 341\u001b[0m hidden_weight_change, output_weight_change \u001b[38;5;241m=\u001b[39m \u001b[38;5;28;43mself\u001b[39;49m\u001b[38;5;241;43m.\u001b[39;49m\u001b[43mupdate_weights\u001b[49m\u001b[43m(\u001b[49m\u001b[43mX\u001b[49m\u001b[43m[\u001b[49m\u001b[43mp\u001b[49m\u001b[43m]\u001b[49m\u001b[43m,\u001b[49m\u001b[43m \u001b[49m\u001b[43mhidden_output\u001b[49m\u001b[43m,\u001b[49m\u001b[43m \u001b[49m\u001b[43mdelta_o\u001b[49m\u001b[43m,\u001b[49m\u001b[43m \u001b[49m\u001b[43mdelta_y\u001b[49m\u001b[43m)\u001b[49m\n\u001b[0;32m    342\u001b[0m total_weight_change \u001b[38;5;241m+\u001b[39m\u001b[38;5;241m=\u001b[39m np\u001b[38;5;241m.\u001b[39msum(np\u001b[38;5;241m.\u001b[39mabs(hidden_weight_change)) \u001b[38;5;241m+\u001b[39m np\u001b[38;5;241m.\u001b[39msum(np\u001b[38;5;241m.\u001b[39mabs(output_weight_change))\n\u001b[0;32m    343\u001b[0m weight_update_count \u001b[38;5;241m+\u001b[39m\u001b[38;5;241m=\u001b[39m \u001b[38;5;28mself\u001b[39m\u001b[38;5;241m.\u001b[39mhidden_weights\u001b[38;5;241m.\u001b[39msize \u001b[38;5;241m+\u001b[39m \u001b[38;5;28mself\u001b[39m\u001b[38;5;241m.\u001b[39mout_weights\u001b[38;5;241m.\u001b[39msize\n",
      "File \u001b[1;32mD:\\ML441\\ML441Assignments\\Assignment2\\FFNN.py:296\u001b[0m, in \u001b[0;36mNeuralNetwork.update_weights\u001b[1;34m(self, x, hidden_output, delta_o, delta_y)\u001b[0m\n\u001b[0;32m    293\u001b[0m output_weight_change \u001b[38;5;241m=\u001b[39m \u001b[38;5;241m-\u001b[39m\u001b[38;5;28mself\u001b[39m\u001b[38;5;241m.\u001b[39moutput_learning_rates \u001b[38;5;241m*\u001b[39m output_gradients\n\u001b[0;32m    294\u001b[0m \u001b[38;5;28mself\u001b[39m\u001b[38;5;241m.\u001b[39mout_weights \u001b[38;5;241m+\u001b[39m\u001b[38;5;241m=\u001b[39m output_weight_change\n\u001b[1;32m--> 296\u001b[0m hidden_weight_change \u001b[38;5;241m=\u001b[39m \u001b[38;5;241;43m-\u001b[39;49m\u001b[38;5;28;43mself\u001b[39;49m\u001b[38;5;241;43m.\u001b[39;49m\u001b[43mhidden_learning_rates\u001b[49m\u001b[43m \u001b[49m\u001b[38;5;241;43m*\u001b[39;49m\u001b[43m \u001b[49m\u001b[43mhidden_gradients\u001b[49m\n\u001b[0;32m    297\u001b[0m \u001b[38;5;28mself\u001b[39m\u001b[38;5;241m.\u001b[39mhidden_weights \u001b[38;5;241m+\u001b[39m\u001b[38;5;241m=\u001b[39m hidden_weight_change\n\u001b[0;32m    299\u001b[0m \u001b[38;5;66;03m# Store current gradients for next iteration\u001b[39;00m\n",
      "\u001b[1;31mKeyboardInterrupt\u001b[0m: "
     ]
    }
   ],
   "source": [
    "nn = NeuralNetwork(num_hidden=88, epochs=10, eta=0.1, alpha=0.9)\n",
    "nn.fit(X_train,y_train, X_val, y_val)\n",
    "y_pred = nn.predict(X_test)\n",
    "np.sum(y_test == y_pred) / len(y_test)"
   ]
  },
  {
   "cell_type": "markdown",
   "id": "edeb87a5-75c2-4657-855d-db8fdccbab77",
   "metadata": {},
   "source": [
    "### Chinese MNIST"
   ]
  },
  {
   "cell_type": "code",
   "execution_count": 11,
   "id": "4c0e6866-0f67-422f-a8f8-9b2c4b1aed36",
   "metadata": {},
   "outputs": [
    {
     "data": {
      "text/html": [
       "<div>\n",
       "<style scoped>\n",
       "    .dataframe tbody tr th:only-of-type {\n",
       "        vertical-align: middle;\n",
       "    }\n",
       "\n",
       "    .dataframe tbody tr th {\n",
       "        vertical-align: top;\n",
       "    }\n",
       "\n",
       "    .dataframe thead th {\n",
       "        text-align: right;\n",
       "    }\n",
       "</style>\n",
       "<table border=\"1\" class=\"dataframe\">\n",
       "  <thead>\n",
       "    <tr style=\"text-align: right;\">\n",
       "      <th></th>\n",
       "      <th>pixel_0</th>\n",
       "      <th>pixel_1</th>\n",
       "      <th>pixel_2</th>\n",
       "      <th>pixel_3</th>\n",
       "      <th>pixel_4</th>\n",
       "      <th>pixel_5</th>\n",
       "      <th>pixel_6</th>\n",
       "      <th>pixel_7</th>\n",
       "      <th>pixel_8</th>\n",
       "      <th>pixel_9</th>\n",
       "      <th>...</th>\n",
       "      <th>pixel_4088</th>\n",
       "      <th>pixel_4089</th>\n",
       "      <th>pixel_4090</th>\n",
       "      <th>pixel_4091</th>\n",
       "      <th>pixel_4092</th>\n",
       "      <th>pixel_4093</th>\n",
       "      <th>pixel_4094</th>\n",
       "      <th>pixel_4095</th>\n",
       "      <th>label</th>\n",
       "      <th>character</th>\n",
       "    </tr>\n",
       "  </thead>\n",
       "  <tbody>\n",
       "    <tr>\n",
       "      <th>0</th>\n",
       "      <td>0</td>\n",
       "      <td>0</td>\n",
       "      <td>0</td>\n",
       "      <td>0</td>\n",
       "      <td>0</td>\n",
       "      <td>0</td>\n",
       "      <td>0</td>\n",
       "      <td>0</td>\n",
       "      <td>0</td>\n",
       "      <td>0</td>\n",
       "      <td>...</td>\n",
       "      <td>0</td>\n",
       "      <td>0</td>\n",
       "      <td>0</td>\n",
       "      <td>0</td>\n",
       "      <td>0</td>\n",
       "      <td>0</td>\n",
       "      <td>0</td>\n",
       "      <td>0</td>\n",
       "      <td>9</td>\n",
       "      <td>九</td>\n",
       "    </tr>\n",
       "    <tr>\n",
       "      <th>1</th>\n",
       "      <td>0</td>\n",
       "      <td>0</td>\n",
       "      <td>0</td>\n",
       "      <td>0</td>\n",
       "      <td>0</td>\n",
       "      <td>0</td>\n",
       "      <td>0</td>\n",
       "      <td>0</td>\n",
       "      <td>0</td>\n",
       "      <td>0</td>\n",
       "      <td>...</td>\n",
       "      <td>0</td>\n",
       "      <td>0</td>\n",
       "      <td>0</td>\n",
       "      <td>0</td>\n",
       "      <td>0</td>\n",
       "      <td>0</td>\n",
       "      <td>0</td>\n",
       "      <td>0</td>\n",
       "      <td>9</td>\n",
       "      <td>九</td>\n",
       "    </tr>\n",
       "    <tr>\n",
       "      <th>2</th>\n",
       "      <td>0</td>\n",
       "      <td>0</td>\n",
       "      <td>0</td>\n",
       "      <td>0</td>\n",
       "      <td>0</td>\n",
       "      <td>0</td>\n",
       "      <td>0</td>\n",
       "      <td>0</td>\n",
       "      <td>0</td>\n",
       "      <td>0</td>\n",
       "      <td>...</td>\n",
       "      <td>0</td>\n",
       "      <td>0</td>\n",
       "      <td>0</td>\n",
       "      <td>0</td>\n",
       "      <td>0</td>\n",
       "      <td>0</td>\n",
       "      <td>0</td>\n",
       "      <td>0</td>\n",
       "      <td>9</td>\n",
       "      <td>九</td>\n",
       "    </tr>\n",
       "    <tr>\n",
       "      <th>3</th>\n",
       "      <td>0</td>\n",
       "      <td>0</td>\n",
       "      <td>0</td>\n",
       "      <td>0</td>\n",
       "      <td>0</td>\n",
       "      <td>0</td>\n",
       "      <td>0</td>\n",
       "      <td>0</td>\n",
       "      <td>0</td>\n",
       "      <td>0</td>\n",
       "      <td>...</td>\n",
       "      <td>0</td>\n",
       "      <td>0</td>\n",
       "      <td>0</td>\n",
       "      <td>0</td>\n",
       "      <td>0</td>\n",
       "      <td>0</td>\n",
       "      <td>0</td>\n",
       "      <td>0</td>\n",
       "      <td>9</td>\n",
       "      <td>九</td>\n",
       "    </tr>\n",
       "    <tr>\n",
       "      <th>4</th>\n",
       "      <td>0</td>\n",
       "      <td>0</td>\n",
       "      <td>0</td>\n",
       "      <td>0</td>\n",
       "      <td>0</td>\n",
       "      <td>0</td>\n",
       "      <td>0</td>\n",
       "      <td>0</td>\n",
       "      <td>0</td>\n",
       "      <td>0</td>\n",
       "      <td>...</td>\n",
       "      <td>0</td>\n",
       "      <td>0</td>\n",
       "      <td>0</td>\n",
       "      <td>0</td>\n",
       "      <td>0</td>\n",
       "      <td>0</td>\n",
       "      <td>0</td>\n",
       "      <td>0</td>\n",
       "      <td>9</td>\n",
       "      <td>九</td>\n",
       "    </tr>\n",
       "    <tr>\n",
       "      <th>...</th>\n",
       "      <td>...</td>\n",
       "      <td>...</td>\n",
       "      <td>...</td>\n",
       "      <td>...</td>\n",
       "      <td>...</td>\n",
       "      <td>...</td>\n",
       "      <td>...</td>\n",
       "      <td>...</td>\n",
       "      <td>...</td>\n",
       "      <td>...</td>\n",
       "      <td>...</td>\n",
       "      <td>...</td>\n",
       "      <td>...</td>\n",
       "      <td>...</td>\n",
       "      <td>...</td>\n",
       "      <td>...</td>\n",
       "      <td>...</td>\n",
       "      <td>...</td>\n",
       "      <td>...</td>\n",
       "      <td>...</td>\n",
       "      <td>...</td>\n",
       "    </tr>\n",
       "    <tr>\n",
       "      <th>14995</th>\n",
       "      <td>0</td>\n",
       "      <td>0</td>\n",
       "      <td>0</td>\n",
       "      <td>0</td>\n",
       "      <td>0</td>\n",
       "      <td>0</td>\n",
       "      <td>0</td>\n",
       "      <td>0</td>\n",
       "      <td>0</td>\n",
       "      <td>0</td>\n",
       "      <td>...</td>\n",
       "      <td>0</td>\n",
       "      <td>0</td>\n",
       "      <td>0</td>\n",
       "      <td>0</td>\n",
       "      <td>0</td>\n",
       "      <td>0</td>\n",
       "      <td>0</td>\n",
       "      <td>0</td>\n",
       "      <td>8</td>\n",
       "      <td>八</td>\n",
       "    </tr>\n",
       "    <tr>\n",
       "      <th>14996</th>\n",
       "      <td>0</td>\n",
       "      <td>0</td>\n",
       "      <td>0</td>\n",
       "      <td>0</td>\n",
       "      <td>0</td>\n",
       "      <td>0</td>\n",
       "      <td>0</td>\n",
       "      <td>0</td>\n",
       "      <td>0</td>\n",
       "      <td>0</td>\n",
       "      <td>...</td>\n",
       "      <td>0</td>\n",
       "      <td>0</td>\n",
       "      <td>0</td>\n",
       "      <td>0</td>\n",
       "      <td>0</td>\n",
       "      <td>0</td>\n",
       "      <td>0</td>\n",
       "      <td>0</td>\n",
       "      <td>8</td>\n",
       "      <td>八</td>\n",
       "    </tr>\n",
       "    <tr>\n",
       "      <th>14997</th>\n",
       "      <td>0</td>\n",
       "      <td>0</td>\n",
       "      <td>0</td>\n",
       "      <td>0</td>\n",
       "      <td>0</td>\n",
       "      <td>0</td>\n",
       "      <td>0</td>\n",
       "      <td>0</td>\n",
       "      <td>0</td>\n",
       "      <td>0</td>\n",
       "      <td>...</td>\n",
       "      <td>0</td>\n",
       "      <td>0</td>\n",
       "      <td>0</td>\n",
       "      <td>0</td>\n",
       "      <td>0</td>\n",
       "      <td>0</td>\n",
       "      <td>0</td>\n",
       "      <td>0</td>\n",
       "      <td>8</td>\n",
       "      <td>八</td>\n",
       "    </tr>\n",
       "    <tr>\n",
       "      <th>14998</th>\n",
       "      <td>0</td>\n",
       "      <td>0</td>\n",
       "      <td>0</td>\n",
       "      <td>0</td>\n",
       "      <td>0</td>\n",
       "      <td>0</td>\n",
       "      <td>0</td>\n",
       "      <td>0</td>\n",
       "      <td>0</td>\n",
       "      <td>0</td>\n",
       "      <td>...</td>\n",
       "      <td>0</td>\n",
       "      <td>0</td>\n",
       "      <td>0</td>\n",
       "      <td>0</td>\n",
       "      <td>0</td>\n",
       "      <td>0</td>\n",
       "      <td>0</td>\n",
       "      <td>0</td>\n",
       "      <td>8</td>\n",
       "      <td>八</td>\n",
       "    </tr>\n",
       "    <tr>\n",
       "      <th>14999</th>\n",
       "      <td>0</td>\n",
       "      <td>0</td>\n",
       "      <td>0</td>\n",
       "      <td>0</td>\n",
       "      <td>0</td>\n",
       "      <td>0</td>\n",
       "      <td>0</td>\n",
       "      <td>0</td>\n",
       "      <td>0</td>\n",
       "      <td>0</td>\n",
       "      <td>...</td>\n",
       "      <td>0</td>\n",
       "      <td>0</td>\n",
       "      <td>0</td>\n",
       "      <td>0</td>\n",
       "      <td>0</td>\n",
       "      <td>0</td>\n",
       "      <td>0</td>\n",
       "      <td>0</td>\n",
       "      <td>8</td>\n",
       "      <td>八</td>\n",
       "    </tr>\n",
       "  </tbody>\n",
       "</table>\n",
       "<p>15000 rows × 4098 columns</p>\n",
       "</div>"
      ],
      "text/plain": [
       "       pixel_0  pixel_1  pixel_2  pixel_3  pixel_4  pixel_5  pixel_6  pixel_7  \\\n",
       "0            0        0        0        0        0        0        0        0   \n",
       "1            0        0        0        0        0        0        0        0   \n",
       "2            0        0        0        0        0        0        0        0   \n",
       "3            0        0        0        0        0        0        0        0   \n",
       "4            0        0        0        0        0        0        0        0   \n",
       "...        ...      ...      ...      ...      ...      ...      ...      ...   \n",
       "14995        0        0        0        0        0        0        0        0   \n",
       "14996        0        0        0        0        0        0        0        0   \n",
       "14997        0        0        0        0        0        0        0        0   \n",
       "14998        0        0        0        0        0        0        0        0   \n",
       "14999        0        0        0        0        0        0        0        0   \n",
       "\n",
       "       pixel_8  pixel_9  ...  pixel_4088  pixel_4089  pixel_4090  pixel_4091  \\\n",
       "0            0        0  ...           0           0           0           0   \n",
       "1            0        0  ...           0           0           0           0   \n",
       "2            0        0  ...           0           0           0           0   \n",
       "3            0        0  ...           0           0           0           0   \n",
       "4            0        0  ...           0           0           0           0   \n",
       "...        ...      ...  ...         ...         ...         ...         ...   \n",
       "14995        0        0  ...           0           0           0           0   \n",
       "14996        0        0  ...           0           0           0           0   \n",
       "14997        0        0  ...           0           0           0           0   \n",
       "14998        0        0  ...           0           0           0           0   \n",
       "14999        0        0  ...           0           0           0           0   \n",
       "\n",
       "       pixel_4092  pixel_4093  pixel_4094  pixel_4095  label  character  \n",
       "0               0           0           0           0      9          九  \n",
       "1               0           0           0           0      9          九  \n",
       "2               0           0           0           0      9          九  \n",
       "3               0           0           0           0      9          九  \n",
       "4               0           0           0           0      9          九  \n",
       "...           ...         ...         ...         ...    ...        ...  \n",
       "14995           0           0           0           0      8          八  \n",
       "14996           0           0           0           0      8          八  \n",
       "14997           0           0           0           0      8          八  \n",
       "14998           0           0           0           0      8          八  \n",
       "14999           0           0           0           0      8          八  \n",
       "\n",
       "[15000 rows x 4098 columns]"
      ]
     },
     "execution_count": 11,
     "metadata": {},
     "output_type": "execute_result"
    }
   ],
   "source": [
    "df = pd.read_csv('data/chineseMNIST.csv')\n",
    "df"
   ]
  },
  {
   "cell_type": "code",
   "execution_count": 12,
   "id": "2a260459-89a3-4afc-a7ab-5f93d3b1f933",
   "metadata": {},
   "outputs": [
    {
     "data": {
      "text/plain": [
       "label      character\n",
       "0          零            1000\n",
       "1          一            1000\n",
       "2          二            1000\n",
       "3          三            1000\n",
       "4          四            1000\n",
       "5          五            1000\n",
       "6          六            1000\n",
       "7          七            1000\n",
       "8          八            1000\n",
       "9          九            1000\n",
       "10         十            1000\n",
       "100        百            1000\n",
       "1000       千            1000\n",
       "10000      万            1000\n",
       "100000000  亿            1000\n",
       "dtype: int64"
      ]
     },
     "execution_count": 12,
     "metadata": {},
     "output_type": "execute_result"
    }
   ],
   "source": [
    "df.groupby([\"label\",\"character\"]).size()"
   ]
  },
  {
   "cell_type": "code",
   "execution_count": 13,
   "id": "c09c57ca-5a50-4da8-8bac-b0c85a7a0391",
   "metadata": {},
   "outputs": [],
   "source": [
    "dataset_shuffled = df.sample(frac=1, random_state=0)"
   ]
  },
  {
   "cell_type": "code",
   "execution_count": 14,
   "id": "87552afd-c511-4699-bdc4-ed268eb70543",
   "metadata": {},
   "outputs": [],
   "source": [
    "X =dataset_shuffled.iloc[:,0:4096]\n",
    "X = np.asarray(X)\n",
    "labels =dataset_shuffled.iloc[:,4096:4098]\n",
    "y = labels.iloc[:,0]"
   ]
  },
  {
   "cell_type": "code",
   "execution_count": 15,
   "id": "207ce6ab-79d5-4cc7-9a3f-c118e0a17c81",
   "metadata": {},
   "outputs": [
    {
     "data": {
      "text/plain": [
       "(15000, 4096)"
      ]
     },
     "execution_count": 15,
     "metadata": {},
     "output_type": "execute_result"
    }
   ],
   "source": [
    "X.shape"
   ]
  },
  {
   "cell_type": "code",
   "execution_count": 16,
   "id": "4a906355-fe87-4d89-b6f6-54fcff726c94",
   "metadata": {},
   "outputs": [
    {
     "data": {
      "text/plain": [
       "array([  0,   1,   2,   3,   4,   5,   6,   7,   8,   9,  10,  11,  12,\n",
       "        13,  14,  15,  16,  17,  18,  19,  20,  21,  22,  23,  24,  25,\n",
       "        26,  27,  28,  29,  30,  31,  32,  33,  34,  35,  36,  37,  38,\n",
       "        39,  40,  41,  42,  43,  44,  45,  46,  47,  48,  49,  50,  51,\n",
       "        52,  53,  54,  55,  56,  57,  58,  59,  60,  61,  62,  63,  64,\n",
       "        65,  66,  67,  68,  69,  70,  71,  72,  73,  74,  75,  76,  77,\n",
       "        78,  79,  80,  81,  82,  83,  84,  85,  86,  87,  88,  89,  90,\n",
       "        91,  92,  93,  94,  95,  96,  97,  98,  99, 100, 101, 102, 103,\n",
       "       104, 105, 106, 107, 108, 109, 110, 111, 112, 113, 114, 115, 116,\n",
       "       117, 118, 119, 120, 121, 122, 123, 124, 125, 126, 127, 128, 129,\n",
       "       130, 131, 132, 133, 134, 135, 136, 137, 138, 139, 140, 141, 142,\n",
       "       143, 144, 145, 146, 147, 148, 149, 150, 151, 152, 153, 154, 155,\n",
       "       156, 157, 158, 159, 160, 161, 162, 163, 164, 165, 166, 167, 168,\n",
       "       169, 170, 171, 172, 173, 174, 175, 176, 177, 178, 179, 180, 181,\n",
       "       182, 183, 184, 185, 186, 187, 188, 189, 190, 191, 192, 193, 194,\n",
       "       195, 196, 197, 198, 199, 200, 201, 202, 203, 204, 205, 206, 207,\n",
       "       208, 209, 210, 211, 212, 213, 214, 215, 216, 217, 218, 219, 220,\n",
       "       221, 222, 223, 224, 225, 226, 227, 228, 229, 230, 231, 232, 233,\n",
       "       234, 235, 236, 237, 238, 239, 240, 241, 242, 243, 244, 245, 246,\n",
       "       247, 248, 249, 250, 251, 252, 253, 254, 255], dtype=int64)"
      ]
     },
     "execution_count": 16,
     "metadata": {},
     "output_type": "execute_result"
    }
   ],
   "source": [
    "np.unique(X)"
   ]
  },
  {
   "cell_type": "code",
   "execution_count": 17,
   "id": "76df4d22-d58a-4901-8ffd-426e8610c3d3",
   "metadata": {},
   "outputs": [
    {
     "data": {
      "text/plain": [
       "array([0.        , 0.00392157, 0.00784314, 0.01176471, 0.01568627,\n",
       "       0.01960784, 0.02352941, 0.02745098, 0.03137255, 0.03529412,\n",
       "       0.03921569, 0.04313725, 0.04705882, 0.05098039, 0.05490196,\n",
       "       0.05882353, 0.0627451 , 0.06666667, 0.07058824, 0.0745098 ,\n",
       "       0.07843137, 0.08235294, 0.08627451, 0.09019608, 0.09411765,\n",
       "       0.09803922, 0.10196078, 0.10588235, 0.10980392, 0.11372549,\n",
       "       0.11764706, 0.12156863, 0.1254902 , 0.12941176, 0.13333333,\n",
       "       0.1372549 , 0.14117647, 0.14509804, 0.14901961, 0.15294118,\n",
       "       0.15686275, 0.16078431, 0.16470588, 0.16862745, 0.17254902,\n",
       "       0.17647059, 0.18039216, 0.18431373, 0.18823529, 0.19215686,\n",
       "       0.19607843, 0.2       , 0.20392157, 0.20784314, 0.21176471,\n",
       "       0.21568627, 0.21960784, 0.22352941, 0.22745098, 0.23137255,\n",
       "       0.23529412, 0.23921569, 0.24313725, 0.24705882, 0.25098039,\n",
       "       0.25490196, 0.25882353, 0.2627451 , 0.26666667, 0.27058824,\n",
       "       0.2745098 , 0.27843137, 0.28235294, 0.28627451, 0.29019608,\n",
       "       0.29411765, 0.29803922, 0.30196078, 0.30588235, 0.30980392,\n",
       "       0.31372549, 0.31764706, 0.32156863, 0.3254902 , 0.32941176,\n",
       "       0.33333333, 0.3372549 , 0.34117647, 0.34509804, 0.34901961,\n",
       "       0.35294118, 0.35686275, 0.36078431, 0.36470588, 0.36862745,\n",
       "       0.37254902, 0.37647059, 0.38039216, 0.38431373, 0.38823529,\n",
       "       0.39215686, 0.39607843, 0.4       , 0.40392157, 0.40784314,\n",
       "       0.41176471, 0.41568627, 0.41960784, 0.42352941, 0.42745098,\n",
       "       0.43137255, 0.43529412, 0.43921569, 0.44313725, 0.44705882,\n",
       "       0.45098039, 0.45490196, 0.45882353, 0.4627451 , 0.46666667,\n",
       "       0.47058824, 0.4745098 , 0.47843137, 0.48235294, 0.48627451,\n",
       "       0.49019608, 0.49411765, 0.49803922, 0.50196078, 0.50588235,\n",
       "       0.50980392, 0.51372549, 0.51764706, 0.52156863, 0.5254902 ,\n",
       "       0.52941176, 0.53333333, 0.5372549 , 0.54117647, 0.54509804,\n",
       "       0.54901961, 0.55294118, 0.55686275, 0.56078431, 0.56470588,\n",
       "       0.56862745, 0.57254902, 0.57647059, 0.58039216, 0.58431373,\n",
       "       0.58823529, 0.59215686, 0.59607843, 0.6       , 0.60392157,\n",
       "       0.60784314, 0.61176471, 0.61568627, 0.61960784, 0.62352941,\n",
       "       0.62745098, 0.63137255, 0.63529412, 0.63921569, 0.64313725,\n",
       "       0.64705882, 0.65098039, 0.65490196, 0.65882353, 0.6627451 ,\n",
       "       0.66666667, 0.67058824, 0.6745098 , 0.67843137, 0.68235294,\n",
       "       0.68627451, 0.69019608, 0.69411765, 0.69803922, 0.70196078,\n",
       "       0.70588235, 0.70980392, 0.71372549, 0.71764706, 0.72156863,\n",
       "       0.7254902 , 0.72941176, 0.73333333, 0.7372549 , 0.74117647,\n",
       "       0.74509804, 0.74901961, 0.75294118, 0.75686275, 0.76078431,\n",
       "       0.76470588, 0.76862745, 0.77254902, 0.77647059, 0.78039216,\n",
       "       0.78431373, 0.78823529, 0.79215686, 0.79607843, 0.8       ,\n",
       "       0.80392157, 0.80784314, 0.81176471, 0.81568627, 0.81960784,\n",
       "       0.82352941, 0.82745098, 0.83137255, 0.83529412, 0.83921569,\n",
       "       0.84313725, 0.84705882, 0.85098039, 0.85490196, 0.85882353,\n",
       "       0.8627451 , 0.86666667, 0.87058824, 0.8745098 , 0.87843137,\n",
       "       0.88235294, 0.88627451, 0.89019608, 0.89411765, 0.89803922,\n",
       "       0.90196078, 0.90588235, 0.90980392, 0.91372549, 0.91764706,\n",
       "       0.92156863, 0.9254902 , 0.92941176, 0.93333333, 0.9372549 ,\n",
       "       0.94117647, 0.94509804, 0.94901961, 0.95294118, 0.95686275,\n",
       "       0.96078431, 0.96470588, 0.96862745, 0.97254902, 0.97647059,\n",
       "       0.98039216, 0.98431373, 0.98823529, 0.99215686, 0.99607843,\n",
       "       1.        ])"
      ]
     },
     "execution_count": 17,
     "metadata": {},
     "output_type": "execute_result"
    }
   ],
   "source": [
    "X = X / 255\n",
    "np.unique(X)"
   ]
  },
  {
   "cell_type": "code",
   "execution_count": 18,
   "id": "5e425707-8d8d-41f2-9975-80e165b2fe73",
   "metadata": {},
   "outputs": [
    {
     "data": {
      "text/plain": [
       "array([        0,         1,         2,         3,         4,         5,\n",
       "               6,         7,         8,         9,        10,       100,\n",
       "            1000,     10000, 100000000], dtype=int64)"
      ]
     },
     "execution_count": 18,
     "metadata": {},
     "output_type": "execute_result"
    }
   ],
   "source": [
    "X = X.reshape(15000, -1)\n",
    "y = np.asarray(y).flatten()\n",
    "np.unique(y)"
   ]
  },
  {
   "cell_type": "code",
   "execution_count": 19,
   "id": "af702386-0939-4ec5-8596-cc3fd601cb44",
   "metadata": {},
   "outputs": [],
   "source": [
    "import numpy as np\n",
    "from sklearn.preprocessing import OneHotEncoder\n",
    "\n",
    "# Initialize the OneHotEncoder\n",
    "encoder = OneHotEncoder(sparse_output=False)  # Use sparse_output=False to return an array\n",
    "\n",
    "# Fit the encoder and transform the data\n",
    "one_hot_encoded = encoder.fit_transform(y.reshape(-1,1))\n",
    "y = one_hot_encoded"
   ]
  },
  {
   "cell_type": "code",
   "execution_count": 20,
   "id": "f1e6e933-f057-4059-be54-a505d6a41aaf",
   "metadata": {},
   "outputs": [],
   "source": [
    "X_train, X_temp, y_train, y_temp = train_test_split(X,y,test_size=0.3, random_state=0)\n",
    "X_val, X_test, y_val, y_test = train_test_split(X_temp,y_temp,test_size=0.5, random_state=0)"
   ]
  },
  {
   "cell_type": "code",
   "execution_count": 21,
   "id": "e8904925-eac8-4489-9876-5f546b888afa",
   "metadata": {},
   "outputs": [
    {
     "ename": "KeyboardInterrupt",
     "evalue": "",
     "output_type": "error",
     "traceback": [
      "\u001b[1;31m---------------------------------------------------------------------------\u001b[0m",
      "\u001b[1;31mKeyboardInterrupt\u001b[0m                         Traceback (most recent call last)",
      "Cell \u001b[1;32mIn[21], line 4\u001b[0m\n\u001b[0;32m      1\u001b[0m \u001b[38;5;28;01mfrom\u001b[39;00m \u001b[38;5;21;01mStochasticGradientDescent\u001b[39;00m \u001b[38;5;28;01mimport\u001b[39;00m SGD\n\u001b[0;32m      3\u001b[0m sgd \u001b[38;5;241m=\u001b[39m SGD(num_hidden\u001b[38;5;241m=\u001b[39m\u001b[38;5;241m248\u001b[39m, epochs\u001b[38;5;241m=\u001b[39m\u001b[38;5;241m10\u001b[39m, eta\u001b[38;5;241m=\u001b[39m\u001b[38;5;241m0.15\u001b[39m, alpha\u001b[38;5;241m=\u001b[39m\u001b[38;5;241m0.9\u001b[39m, reg_parameter\u001b[38;5;241m=\u001b[39m\u001b[38;5;241m0.01\u001b[39m)\n\u001b[1;32m----> 4\u001b[0m \u001b[43msgd\u001b[49m\u001b[38;5;241;43m.\u001b[39;49m\u001b[43mfit\u001b[49m\u001b[43m(\u001b[49m\u001b[43mX_train\u001b[49m\u001b[43m,\u001b[49m\u001b[43my_train\u001b[49m\u001b[43m,\u001b[49m\u001b[43m \u001b[49m\u001b[43mX_val\u001b[49m\u001b[43m,\u001b[49m\u001b[43m \u001b[49m\u001b[43my_val\u001b[49m\u001b[43m)\u001b[49m\n",
      "File \u001b[1;32mD:\\ML441\\ML441Assignments\\Assignment2\\StochasticGradientDescent.py:347\u001b[0m, in \u001b[0;36mSGD.fit\u001b[1;34m(self, X, y, X_val, y_val)\u001b[0m\n\u001b[0;32m    344\u001b[0m delta_o, delta_y \u001b[38;5;241m=\u001b[39m \u001b[38;5;28mself\u001b[39m\u001b[38;5;241m.\u001b[39mcalculate_error_signals(y[p], hidden_output, output)\n\u001b[0;32m    346\u001b[0m \u001b[38;5;66;03m# Update weights and track changes\u001b[39;00m\n\u001b[1;32m--> 347\u001b[0m hidden_weight_change, output_weight_change \u001b[38;5;241m=\u001b[39m \u001b[38;5;28;43mself\u001b[39;49m\u001b[38;5;241;43m.\u001b[39;49m\u001b[43mupdate_weights\u001b[49m\u001b[43m(\u001b[49m\u001b[43mX\u001b[49m\u001b[43m[\u001b[49m\u001b[43mp\u001b[49m\u001b[43m]\u001b[49m\u001b[43m,\u001b[49m\u001b[43m \u001b[49m\u001b[43mhidden_output\u001b[49m\u001b[43m,\u001b[49m\u001b[43m \u001b[49m\u001b[43mdelta_o\u001b[49m\u001b[43m,\u001b[49m\u001b[43m \u001b[49m\u001b[43mdelta_y\u001b[49m\u001b[43m)\u001b[49m\n\u001b[0;32m    348\u001b[0m total_weight_change \u001b[38;5;241m+\u001b[39m\u001b[38;5;241m=\u001b[39m np\u001b[38;5;241m.\u001b[39msum(np\u001b[38;5;241m.\u001b[39mabs(hidden_weight_change)) \u001b[38;5;241m+\u001b[39m np\u001b[38;5;241m.\u001b[39msum(np\u001b[38;5;241m.\u001b[39mabs(output_weight_change))\n\u001b[0;32m    349\u001b[0m weight_update_count \u001b[38;5;241m+\u001b[39m\u001b[38;5;241m=\u001b[39m \u001b[38;5;28mself\u001b[39m\u001b[38;5;241m.\u001b[39mhidden_weights\u001b[38;5;241m.\u001b[39msize \u001b[38;5;241m+\u001b[39m \u001b[38;5;28mself\u001b[39m\u001b[38;5;241m.\u001b[39mout_weights\u001b[38;5;241m.\u001b[39msize\n",
      "File \u001b[1;32mD:\\ML441\\ML441Assignments\\Assignment2\\StochasticGradientDescent.py:316\u001b[0m, in \u001b[0;36mSGD.update_weights\u001b[1;34m(self, x, hidden_output, delta_o, delta_y)\u001b[0m\n\u001b[0;32m    313\u001b[0m \u001b[38;5;28mself\u001b[39m\u001b[38;5;241m.\u001b[39mout_weights \u001b[38;5;241m+\u001b[39m\u001b[38;5;241m=\u001b[39m output_weight_change\n\u001b[0;32m    314\u001b[0m \u001b[38;5;28mself\u001b[39m\u001b[38;5;241m.\u001b[39mprev_output_weights \u001b[38;5;241m=\u001b[39m delta_w_kj\n\u001b[1;32m--> 316\u001b[0m delta_v_ji \u001b[38;5;241m=\u001b[39m \u001b[38;5;241m-\u001b[39m\u001b[38;5;28mself\u001b[39m\u001b[38;5;241m.\u001b[39meta \u001b[38;5;241m*\u001b[39m (np\u001b[38;5;241m.\u001b[39mouter(delta_y, x_with_bias) \u001b[38;5;241m+\u001b[39m \u001b[38;5;28;43mself\u001b[39;49m\u001b[38;5;241;43m.\u001b[39;49m\u001b[43mreg_parameter\u001b[49m\u001b[43m \u001b[49m\u001b[38;5;241;43m*\u001b[39;49m\u001b[43m \u001b[49m\u001b[38;5;28;43mself\u001b[39;49m\u001b[38;5;241;43m.\u001b[39;49m\u001b[43mhidden_weights\u001b[49m)\n\u001b[0;32m    317\u001b[0m hidden_weight_change \u001b[38;5;241m=\u001b[39m delta_v_ji \u001b[38;5;241m+\u001b[39m \u001b[38;5;28mself\u001b[39m\u001b[38;5;241m.\u001b[39malpha \u001b[38;5;241m*\u001b[39m \u001b[38;5;28mself\u001b[39m\u001b[38;5;241m.\u001b[39mprev_hidden_weights\n\u001b[0;32m    318\u001b[0m \u001b[38;5;28mself\u001b[39m\u001b[38;5;241m.\u001b[39mhidden_weights \u001b[38;5;241m+\u001b[39m\u001b[38;5;241m=\u001b[39m hidden_weight_change\n",
      "\u001b[1;31mKeyboardInterrupt\u001b[0m: "
     ]
    }
   ],
   "source": [
    "from StochasticGradientDescent import SGD\n",
    "\n",
    "sgd = SGD(num_hidden=248, epochs=10, eta=0.01, alpha=0.9, reg_parameter=0.01)\n",
    "sgd.fit(X_train,y_train, X_val, y_val)"
   ]
  },
  {
   "cell_type": "code",
   "execution_count": 673,
   "id": "c3fc9dce-7555-42a8-a612-d2e842deb0e1",
   "metadata": {},
   "outputs": [],
   "source": [
    "y_test_values = encoder.inverse_transform(y_test).reshape(-1)\n",
    "y_train_values = encoder.inverse_transform(y_train).reshape(-1)\n",
    "y_val_values = encoder.inverse_transform(y_val).reshape(-1)"
   ]
  },
  {
   "cell_type": "code",
   "execution_count": 674,
   "id": "e5f4cb73-9b6a-4834-b070-0fc2ae1efd7c",
   "metadata": {},
   "outputs": [
    {
     "data": {
      "text/plain": [
       "0.5751111111111111"
      ]
     },
     "execution_count": 674,
     "metadata": {},
     "output_type": "execute_result"
    }
   ],
   "source": [
    "y_pred = nn.predict(X_test)\n",
    "np.sum(y_test_values == y_pred.argmax(axis=1)) / len(y_test_values)"
   ]
  },
  {
   "cell_type": "code",
   "execution_count": 675,
   "id": "03ab6251-4cc3-49d7-a359-05e0ada22500",
   "metadata": {},
   "outputs": [
    {
     "data": {
      "text/plain": [
       "0.7311428571428571"
      ]
     },
     "execution_count": 675,
     "metadata": {},
     "output_type": "execute_result"
    }
   ],
   "source": [
    "y_pred = nn.predict(X_train)\n",
    "np.sum(y_train_values == y_pred.argmax(axis=1)) / len(y_train_values)"
   ]
  },
  {
   "cell_type": "markdown",
   "id": "95f445dd-54fe-41f9-8a5d-c51770c85c0b",
   "metadata": {},
   "source": [
    "### Tensorflow of Chinese MNIST"
   ]
  },
  {
   "cell_type": "code",
   "execution_count": 307,
   "id": "40f9e48b-8855-4436-b17d-7274e5d12284",
   "metadata": {},
   "outputs": [],
   "source": [
    "# Import the libraries\n",
    "import numpy as np\n",
    "import tensorflow as tf\n",
    "\n",
    "# We can import the methods we will use directly, or call them from tf.\n",
    "# We will be using fully-connected layers called Dense layers\n",
    "from tensorflow.keras.layers import Input, Dense\n",
    "# This is the sequential model API\n",
    "from tensorflow.keras import Sequential\n",
    "# This is used for the functional model API\n",
    "from tensorflow.keras import Model\n",
    "\n",
    "# Further methods required\n",
    "# To change the class label to dummy variables\n",
    "from tensorflow.keras.utils import to_categorical\n",
    "# The data is stored in Tensorflow already\n",
    "from tensorflow.keras.datasets import mnist\n",
    "\n",
    "# For graphics\n",
    "import matplotlib.pyplot as plt"
   ]
  },
  {
   "cell_type": "code",
   "execution_count": 308,
   "id": "86c485e9-91b9-4c57-86d6-840cd64b2961",
   "metadata": {},
   "outputs": [],
   "source": [
    "X_train = tf.cast(X_train, dtype='float32')\n",
    "X_test = tf.cast(X_test, dtype='float32')\n",
    "X_val = tf.cast(X_val, dtype='float32')\n",
    "\n",
    "y_train = tf.cast(y_train, 'int32')\n",
    "y_test = tf.cast(y_test, 'int32')\n",
    "y_val = tf.cast(y_val, 'int32')"
   ]
  },
  {
   "cell_type": "code",
   "execution_count": 309,
   "id": "305b9240-4b1d-4a6c-954b-93ca0f817db4",
   "metadata": {},
   "outputs": [],
   "source": [
    "input_shape = (4096,)\n",
    "K1 = 248\n",
    "Kout = 15"
   ]
  },
  {
   "cell_type": "code",
   "execution_count": 310,
   "id": "98bb4392-c911-4b7e-9f56-682085d64ba1",
   "metadata": {},
   "outputs": [],
   "source": [
    "# Initialise a sequential model\n",
    "model_sequential = Sequential()\n",
    "\n",
    "# Adding layers using the add() method of the Sequential model class - \n",
    "# here we add the input layer.\n",
    "model_sequential.add(\n",
    "    # Add the Input layer. Note this is the tensorflow.keras.layers.Input\n",
    "    Input(shape = input_shape, name='input_layer')\n",
    ")"
   ]
  },
  {
   "cell_type": "code",
   "execution_count": 311,
   "id": "38e07fa7-70b3-484b-bba0-f56f0d11b1e9",
   "metadata": {},
   "outputs": [
    {
     "data": {
      "text/html": [
       "<pre style=\"white-space:pre;overflow-x:auto;line-height:normal;font-family:Menlo,'DejaVu Sans Mono',consolas,'Courier New',monospace\"><span style=\"font-weight: bold\">Model: \"sequential_16\"</span>\n",
       "</pre>\n"
      ],
      "text/plain": [
       "\u001b[1mModel: \"sequential_16\"\u001b[0m\n"
      ]
     },
     "metadata": {},
     "output_type": "display_data"
    },
    {
     "data": {
      "text/html": [
       "<pre style=\"white-space:pre;overflow-x:auto;line-height:normal;font-family:Menlo,'DejaVu Sans Mono',consolas,'Courier New',monospace\">┏━━━━━━━━━━━━━━━━━━━━━━━━━━━━━━━━━━━━━━┳━━━━━━━━━━━━━━━━━━━━━━━━━━━━━┳━━━━━━━━━━━━━━━━━┓\n",
       "┃<span style=\"font-weight: bold\"> Layer (type)                         </span>┃<span style=\"font-weight: bold\"> Output Shape                </span>┃<span style=\"font-weight: bold\">         Param # </span>┃\n",
       "┡━━━━━━━━━━━━━━━━━━━━━━━━━━━━━━━━━━━━━━╇━━━━━━━━━━━━━━━━━━━━━━━━━━━━━╇━━━━━━━━━━━━━━━━━┩\n",
       "└──────────────────────────────────────┴─────────────────────────────┴─────────────────┘\n",
       "</pre>\n"
      ],
      "text/plain": [
       "┏━━━━━━━━━━━━━━━━━━━━━━━━━━━━━━━━━━━━━━┳━━━━━━━━━━━━━━━━━━━━━━━━━━━━━┳━━━━━━━━━━━━━━━━━┓\n",
       "┃\u001b[1m \u001b[0m\u001b[1mLayer (type)                        \u001b[0m\u001b[1m \u001b[0m┃\u001b[1m \u001b[0m\u001b[1mOutput Shape               \u001b[0m\u001b[1m \u001b[0m┃\u001b[1m \u001b[0m\u001b[1m        Param #\u001b[0m\u001b[1m \u001b[0m┃\n",
       "┡━━━━━━━━━━━━━━━━━━━━━━━━━━━━━━━━━━━━━━╇━━━━━━━━━━━━━━━━━━━━━━━━━━━━━╇━━━━━━━━━━━━━━━━━┩\n",
       "└──────────────────────────────────────┴─────────────────────────────┴─────────────────┘\n"
      ]
     },
     "metadata": {},
     "output_type": "display_data"
    },
    {
     "data": {
      "text/html": [
       "<pre style=\"white-space:pre;overflow-x:auto;line-height:normal;font-family:Menlo,'DejaVu Sans Mono',consolas,'Courier New',monospace\"><span style=\"font-weight: bold\"> Total params: </span><span style=\"color: #00af00; text-decoration-color: #00af00\">0</span> (0.00 B)\n",
       "</pre>\n"
      ],
      "text/plain": [
       "\u001b[1m Total params: \u001b[0m\u001b[38;5;34m0\u001b[0m (0.00 B)\n"
      ]
     },
     "metadata": {},
     "output_type": "display_data"
    },
    {
     "data": {
      "text/html": [
       "<pre style=\"white-space:pre;overflow-x:auto;line-height:normal;font-family:Menlo,'DejaVu Sans Mono',consolas,'Courier New',monospace\"><span style=\"font-weight: bold\"> Trainable params: </span><span style=\"color: #00af00; text-decoration-color: #00af00\">0</span> (0.00 B)\n",
       "</pre>\n"
      ],
      "text/plain": [
       "\u001b[1m Trainable params: \u001b[0m\u001b[38;5;34m0\u001b[0m (0.00 B)\n"
      ]
     },
     "metadata": {},
     "output_type": "display_data"
    },
    {
     "data": {
      "text/html": [
       "<pre style=\"white-space:pre;overflow-x:auto;line-height:normal;font-family:Menlo,'DejaVu Sans Mono',consolas,'Courier New',monospace\"><span style=\"font-weight: bold\"> Non-trainable params: </span><span style=\"color: #00af00; text-decoration-color: #00af00\">0</span> (0.00 B)\n",
       "</pre>\n"
      ],
      "text/plain": [
       "\u001b[1m Non-trainable params: \u001b[0m\u001b[38;5;34m0\u001b[0m (0.00 B)\n"
      ]
     },
     "metadata": {},
     "output_type": "display_data"
    }
   ],
   "source": [
    "model_sequential.summary()"
   ]
  },
  {
   "cell_type": "code",
   "execution_count": 312,
   "id": "95bc8f30-eaff-44d1-970c-ed5a61d70fca",
   "metadata": {},
   "outputs": [
    {
     "data": {
      "text/html": [
       "<pre style=\"white-space:pre;overflow-x:auto;line-height:normal;font-family:Menlo,'DejaVu Sans Mono',consolas,'Courier New',monospace\"><span style=\"font-weight: bold\">Model: \"sequential_16\"</span>\n",
       "</pre>\n"
      ],
      "text/plain": [
       "\u001b[1mModel: \"sequential_16\"\u001b[0m\n"
      ]
     },
     "metadata": {},
     "output_type": "display_data"
    },
    {
     "data": {
      "text/html": [
       "<pre style=\"white-space:pre;overflow-x:auto;line-height:normal;font-family:Menlo,'DejaVu Sans Mono',consolas,'Courier New',monospace\">┏━━━━━━━━━━━━━━━━━━━━━━━━━━━━━━━━━━━━━━┳━━━━━━━━━━━━━━━━━━━━━━━━━━━━━┳━━━━━━━━━━━━━━━━━┓\n",
       "┃<span style=\"font-weight: bold\"> Layer (type)                         </span>┃<span style=\"font-weight: bold\"> Output Shape                </span>┃<span style=\"font-weight: bold\">         Param # </span>┃\n",
       "┡━━━━━━━━━━━━━━━━━━━━━━━━━━━━━━━━━━━━━━╇━━━━━━━━━━━━━━━━━━━━━━━━━━━━━╇━━━━━━━━━━━━━━━━━┩\n",
       "│ hidden_1 (<span style=\"color: #0087ff; text-decoration-color: #0087ff\">Dense</span>)                     │ (<span style=\"color: #00d7ff; text-decoration-color: #00d7ff\">None</span>, <span style=\"color: #00af00; text-decoration-color: #00af00\">248</span>)                 │       <span style=\"color: #00af00; text-decoration-color: #00af00\">1,016,056</span> │\n",
       "└──────────────────────────────────────┴─────────────────────────────┴─────────────────┘\n",
       "</pre>\n"
      ],
      "text/plain": [
       "┏━━━━━━━━━━━━━━━━━━━━━━━━━━━━━━━━━━━━━━┳━━━━━━━━━━━━━━━━━━━━━━━━━━━━━┳━━━━━━━━━━━━━━━━━┓\n",
       "┃\u001b[1m \u001b[0m\u001b[1mLayer (type)                        \u001b[0m\u001b[1m \u001b[0m┃\u001b[1m \u001b[0m\u001b[1mOutput Shape               \u001b[0m\u001b[1m \u001b[0m┃\u001b[1m \u001b[0m\u001b[1m        Param #\u001b[0m\u001b[1m \u001b[0m┃\n",
       "┡━━━━━━━━━━━━━━━━━━━━━━━━━━━━━━━━━━━━━━╇━━━━━━━━━━━━━━━━━━━━━━━━━━━━━╇━━━━━━━━━━━━━━━━━┩\n",
       "│ hidden_1 (\u001b[38;5;33mDense\u001b[0m)                     │ (\u001b[38;5;45mNone\u001b[0m, \u001b[38;5;34m248\u001b[0m)                 │       \u001b[38;5;34m1,016,056\u001b[0m │\n",
       "└──────────────────────────────────────┴─────────────────────────────┴─────────────────┘\n"
      ]
     },
     "metadata": {},
     "output_type": "display_data"
    },
    {
     "data": {
      "text/html": [
       "<pre style=\"white-space:pre;overflow-x:auto;line-height:normal;font-family:Menlo,'DejaVu Sans Mono',consolas,'Courier New',monospace\"><span style=\"font-weight: bold\"> Total params: </span><span style=\"color: #00af00; text-decoration-color: #00af00\">1,016,056</span> (3.88 MB)\n",
       "</pre>\n"
      ],
      "text/plain": [
       "\u001b[1m Total params: \u001b[0m\u001b[38;5;34m1,016,056\u001b[0m (3.88 MB)\n"
      ]
     },
     "metadata": {},
     "output_type": "display_data"
    },
    {
     "data": {
      "text/html": [
       "<pre style=\"white-space:pre;overflow-x:auto;line-height:normal;font-family:Menlo,'DejaVu Sans Mono',consolas,'Courier New',monospace\"><span style=\"font-weight: bold\"> Trainable params: </span><span style=\"color: #00af00; text-decoration-color: #00af00\">1,016,056</span> (3.88 MB)\n",
       "</pre>\n"
      ],
      "text/plain": [
       "\u001b[1m Trainable params: \u001b[0m\u001b[38;5;34m1,016,056\u001b[0m (3.88 MB)\n"
      ]
     },
     "metadata": {},
     "output_type": "display_data"
    },
    {
     "data": {
      "text/html": [
       "<pre style=\"white-space:pre;overflow-x:auto;line-height:normal;font-family:Menlo,'DejaVu Sans Mono',consolas,'Courier New',monospace\"><span style=\"font-weight: bold\"> Non-trainable params: </span><span style=\"color: #00af00; text-decoration-color: #00af00\">0</span> (0.00 B)\n",
       "</pre>\n"
      ],
      "text/plain": [
       "\u001b[1m Non-trainable params: \u001b[0m\u001b[38;5;34m0\u001b[0m (0.00 B)\n"
      ]
     },
     "metadata": {},
     "output_type": "display_data"
    }
   ],
   "source": [
    "# Add the first hidden layer\n",
    "model_sequential.add(\n",
    "    Dense(units=K1, activation='sigmoid', name='hidden_1')\n",
    ")\n",
    "\n",
    "model_sequential.summary()"
   ]
  },
  {
   "cell_type": "code",
   "execution_count": 313,
   "id": "a8834b45-10db-4fc4-969c-a4f69a053c0a",
   "metadata": {},
   "outputs": [
    {
     "data": {
      "text/html": [
       "<pre style=\"white-space:pre;overflow-x:auto;line-height:normal;font-family:Menlo,'DejaVu Sans Mono',consolas,'Courier New',monospace\"><span style=\"font-weight: bold\">Model: \"sequential_16\"</span>\n",
       "</pre>\n"
      ],
      "text/plain": [
       "\u001b[1mModel: \"sequential_16\"\u001b[0m\n"
      ]
     },
     "metadata": {},
     "output_type": "display_data"
    },
    {
     "data": {
      "text/html": [
       "<pre style=\"white-space:pre;overflow-x:auto;line-height:normal;font-family:Menlo,'DejaVu Sans Mono',consolas,'Courier New',monospace\">┏━━━━━━━━━━━━━━━━━━━━━━━━━━━━━━━━━━━━━━┳━━━━━━━━━━━━━━━━━━━━━━━━━━━━━┳━━━━━━━━━━━━━━━━━┓\n",
       "┃<span style=\"font-weight: bold\"> Layer (type)                         </span>┃<span style=\"font-weight: bold\"> Output Shape                </span>┃<span style=\"font-weight: bold\">         Param # </span>┃\n",
       "┡━━━━━━━━━━━━━━━━━━━━━━━━━━━━━━━━━━━━━━╇━━━━━━━━━━━━━━━━━━━━━━━━━━━━━╇━━━━━━━━━━━━━━━━━┩\n",
       "│ hidden_1 (<span style=\"color: #0087ff; text-decoration-color: #0087ff\">Dense</span>)                     │ (<span style=\"color: #00d7ff; text-decoration-color: #00d7ff\">None</span>, <span style=\"color: #00af00; text-decoration-color: #00af00\">248</span>)                 │       <span style=\"color: #00af00; text-decoration-color: #00af00\">1,016,056</span> │\n",
       "├──────────────────────────────────────┼─────────────────────────────┼─────────────────┤\n",
       "│ output_layer (<span style=\"color: #0087ff; text-decoration-color: #0087ff\">Dense</span>)                 │ (<span style=\"color: #00d7ff; text-decoration-color: #00d7ff\">None</span>, <span style=\"color: #00af00; text-decoration-color: #00af00\">15</span>)                  │           <span style=\"color: #00af00; text-decoration-color: #00af00\">3,735</span> │\n",
       "└──────────────────────────────────────┴─────────────────────────────┴─────────────────┘\n",
       "</pre>\n"
      ],
      "text/plain": [
       "┏━━━━━━━━━━━━━━━━━━━━━━━━━━━━━━━━━━━━━━┳━━━━━━━━━━━━━━━━━━━━━━━━━━━━━┳━━━━━━━━━━━━━━━━━┓\n",
       "┃\u001b[1m \u001b[0m\u001b[1mLayer (type)                        \u001b[0m\u001b[1m \u001b[0m┃\u001b[1m \u001b[0m\u001b[1mOutput Shape               \u001b[0m\u001b[1m \u001b[0m┃\u001b[1m \u001b[0m\u001b[1m        Param #\u001b[0m\u001b[1m \u001b[0m┃\n",
       "┡━━━━━━━━━━━━━━━━━━━━━━━━━━━━━━━━━━━━━━╇━━━━━━━━━━━━━━━━━━━━━━━━━━━━━╇━━━━━━━━━━━━━━━━━┩\n",
       "│ hidden_1 (\u001b[38;5;33mDense\u001b[0m)                     │ (\u001b[38;5;45mNone\u001b[0m, \u001b[38;5;34m248\u001b[0m)                 │       \u001b[38;5;34m1,016,056\u001b[0m │\n",
       "├──────────────────────────────────────┼─────────────────────────────┼─────────────────┤\n",
       "│ output_layer (\u001b[38;5;33mDense\u001b[0m)                 │ (\u001b[38;5;45mNone\u001b[0m, \u001b[38;5;34m15\u001b[0m)                  │           \u001b[38;5;34m3,735\u001b[0m │\n",
       "└──────────────────────────────────────┴─────────────────────────────┴─────────────────┘\n"
      ]
     },
     "metadata": {},
     "output_type": "display_data"
    },
    {
     "data": {
      "text/html": [
       "<pre style=\"white-space:pre;overflow-x:auto;line-height:normal;font-family:Menlo,'DejaVu Sans Mono',consolas,'Courier New',monospace\"><span style=\"font-weight: bold\"> Total params: </span><span style=\"color: #00af00; text-decoration-color: #00af00\">1,019,791</span> (3.89 MB)\n",
       "</pre>\n"
      ],
      "text/plain": [
       "\u001b[1m Total params: \u001b[0m\u001b[38;5;34m1,019,791\u001b[0m (3.89 MB)\n"
      ]
     },
     "metadata": {},
     "output_type": "display_data"
    },
    {
     "data": {
      "text/html": [
       "<pre style=\"white-space:pre;overflow-x:auto;line-height:normal;font-family:Menlo,'DejaVu Sans Mono',consolas,'Courier New',monospace\"><span style=\"font-weight: bold\"> Trainable params: </span><span style=\"color: #00af00; text-decoration-color: #00af00\">1,019,791</span> (3.89 MB)\n",
       "</pre>\n"
      ],
      "text/plain": [
       "\u001b[1m Trainable params: \u001b[0m\u001b[38;5;34m1,019,791\u001b[0m (3.89 MB)\n"
      ]
     },
     "metadata": {},
     "output_type": "display_data"
    },
    {
     "data": {
      "text/html": [
       "<pre style=\"white-space:pre;overflow-x:auto;line-height:normal;font-family:Menlo,'DejaVu Sans Mono',consolas,'Courier New',monospace\"><span style=\"font-weight: bold\"> Non-trainable params: </span><span style=\"color: #00af00; text-decoration-color: #00af00\">0</span> (0.00 B)\n",
       "</pre>\n"
      ],
      "text/plain": [
       "\u001b[1m Non-trainable params: \u001b[0m\u001b[38;5;34m0\u001b[0m (0.00 B)\n"
      ]
     },
     "metadata": {},
     "output_type": "display_data"
    }
   ],
   "source": [
    "#Adding output layer\n",
    "model_sequential.add(\n",
    "    Dense(Kout, activation='softmax', name='output_layer')\n",
    ")\n",
    "\n",
    "model_sequential.summary()"
   ]
  },
  {
   "cell_type": "code",
   "execution_count": 314,
   "id": "124bd995-54ba-4bd2-98e5-c30f0215ff20",
   "metadata": {},
   "outputs": [
    {
     "data": {
      "text/html": [
       "<pre style=\"white-space:pre;overflow-x:auto;line-height:normal;font-family:Menlo,'DejaVu Sans Mono',consolas,'Courier New',monospace\"><span style=\"font-weight: bold\">Model: \"sequential_17\"</span>\n",
       "</pre>\n"
      ],
      "text/plain": [
       "\u001b[1mModel: \"sequential_17\"\u001b[0m\n"
      ]
     },
     "metadata": {},
     "output_type": "display_data"
    },
    {
     "data": {
      "text/html": [
       "<pre style=\"white-space:pre;overflow-x:auto;line-height:normal;font-family:Menlo,'DejaVu Sans Mono',consolas,'Courier New',monospace\">┏━━━━━━━━━━━━━━━━━━━━━━━━━━━━━━━━━━━━━━┳━━━━━━━━━━━━━━━━━━━━━━━━━━━━━┳━━━━━━━━━━━━━━━━━┓\n",
       "┃<span style=\"font-weight: bold\"> Layer (type)                         </span>┃<span style=\"font-weight: bold\"> Output Shape                </span>┃<span style=\"font-weight: bold\">         Param # </span>┃\n",
       "┡━━━━━━━━━━━━━━━━━━━━━━━━━━━━━━━━━━━━━━╇━━━━━━━━━━━━━━━━━━━━━━━━━━━━━╇━━━━━━━━━━━━━━━━━┩\n",
       "│ hidden_1 (<span style=\"color: #0087ff; text-decoration-color: #0087ff\">Dense</span>)                     │ (<span style=\"color: #00d7ff; text-decoration-color: #00d7ff\">None</span>, <span style=\"color: #00af00; text-decoration-color: #00af00\">248</span>)                 │       <span style=\"color: #00af00; text-decoration-color: #00af00\">1,016,056</span> │\n",
       "├──────────────────────────────────────┼─────────────────────────────┼─────────────────┤\n",
       "│ output_layer (<span style=\"color: #0087ff; text-decoration-color: #0087ff\">Dense</span>)                 │ (<span style=\"color: #00d7ff; text-decoration-color: #00d7ff\">None</span>, <span style=\"color: #00af00; text-decoration-color: #00af00\">15</span>)                  │           <span style=\"color: #00af00; text-decoration-color: #00af00\">3,735</span> │\n",
       "└──────────────────────────────────────┴─────────────────────────────┴─────────────────┘\n",
       "</pre>\n"
      ],
      "text/plain": [
       "┏━━━━━━━━━━━━━━━━━━━━━━━━━━━━━━━━━━━━━━┳━━━━━━━━━━━━━━━━━━━━━━━━━━━━━┳━━━━━━━━━━━━━━━━━┓\n",
       "┃\u001b[1m \u001b[0m\u001b[1mLayer (type)                        \u001b[0m\u001b[1m \u001b[0m┃\u001b[1m \u001b[0m\u001b[1mOutput Shape               \u001b[0m\u001b[1m \u001b[0m┃\u001b[1m \u001b[0m\u001b[1m        Param #\u001b[0m\u001b[1m \u001b[0m┃\n",
       "┡━━━━━━━━━━━━━━━━━━━━━━━━━━━━━━━━━━━━━━╇━━━━━━━━━━━━━━━━━━━━━━━━━━━━━╇━━━━━━━━━━━━━━━━━┩\n",
       "│ hidden_1 (\u001b[38;5;33mDense\u001b[0m)                     │ (\u001b[38;5;45mNone\u001b[0m, \u001b[38;5;34m248\u001b[0m)                 │       \u001b[38;5;34m1,016,056\u001b[0m │\n",
       "├──────────────────────────────────────┼─────────────────────────────┼─────────────────┤\n",
       "│ output_layer (\u001b[38;5;33mDense\u001b[0m)                 │ (\u001b[38;5;45mNone\u001b[0m, \u001b[38;5;34m15\u001b[0m)                  │           \u001b[38;5;34m3,735\u001b[0m │\n",
       "└──────────────────────────────────────┴─────────────────────────────┴─────────────────┘\n"
      ]
     },
     "metadata": {},
     "output_type": "display_data"
    },
    {
     "data": {
      "text/html": [
       "<pre style=\"white-space:pre;overflow-x:auto;line-height:normal;font-family:Menlo,'DejaVu Sans Mono',consolas,'Courier New',monospace\"><span style=\"font-weight: bold\"> Total params: </span><span style=\"color: #00af00; text-decoration-color: #00af00\">1,019,791</span> (3.89 MB)\n",
       "</pre>\n"
      ],
      "text/plain": [
       "\u001b[1m Total params: \u001b[0m\u001b[38;5;34m1,019,791\u001b[0m (3.89 MB)\n"
      ]
     },
     "metadata": {},
     "output_type": "display_data"
    },
    {
     "data": {
      "text/html": [
       "<pre style=\"white-space:pre;overflow-x:auto;line-height:normal;font-family:Menlo,'DejaVu Sans Mono',consolas,'Courier New',monospace\"><span style=\"font-weight: bold\"> Trainable params: </span><span style=\"color: #00af00; text-decoration-color: #00af00\">1,019,791</span> (3.89 MB)\n",
       "</pre>\n"
      ],
      "text/plain": [
       "\u001b[1m Trainable params: \u001b[0m\u001b[38;5;34m1,019,791\u001b[0m (3.89 MB)\n"
      ]
     },
     "metadata": {},
     "output_type": "display_data"
    },
    {
     "data": {
      "text/html": [
       "<pre style=\"white-space:pre;overflow-x:auto;line-height:normal;font-family:Menlo,'DejaVu Sans Mono',consolas,'Courier New',monospace\"><span style=\"font-weight: bold\"> Non-trainable params: </span><span style=\"color: #00af00; text-decoration-color: #00af00\">0</span> (0.00 B)\n",
       "</pre>\n"
      ],
      "text/plain": [
       "\u001b[1m Non-trainable params: \u001b[0m\u001b[38;5;34m0\u001b[0m (0.00 B)\n"
      ]
     },
     "metadata": {},
     "output_type": "display_data"
    }
   ],
   "source": [
    "temp_model = Sequential(\n",
    "    [\n",
    "        Input(shape=(4096,)),\n",
    "        Dense(units=K1, activation='sigmoid', name='hidden_1'),\n",
    "        Dense(units=Kout, activation='softmax', name='output_layer')\n",
    "    ]\n",
    ")\n",
    "\n",
    "temp_model.summary()"
   ]
  },
  {
   "cell_type": "code",
   "execution_count": 315,
   "id": "2749979c-845e-4dc1-a517-a3590d2b0846",
   "metadata": {},
   "outputs": [],
   "source": [
    "input_layer = Input(shape=(4096,))\n",
    "x = Dense(units=K1, activation='sigmoid', name='hidden_1')(input_layer)\n",
    "output_layer = Dense(units=Kout, activation='softmax', name='output_layer')(x)\n",
    "\n",
    "model_functional = Model(inputs = input_layer, outputs = output_layer)"
   ]
  },
  {
   "cell_type": "code",
   "execution_count": 316,
   "id": "48c6ca73-0ac4-4566-840d-c60a0b7778e7",
   "metadata": {},
   "outputs": [
    {
     "data": {
      "text/html": [
       "<pre style=\"white-space:pre;overflow-x:auto;line-height:normal;font-family:Menlo,'DejaVu Sans Mono',consolas,'Courier New',monospace\"><span style=\"font-weight: bold\">Model: \"functional_37\"</span>\n",
       "</pre>\n"
      ],
      "text/plain": [
       "\u001b[1mModel: \"functional_37\"\u001b[0m\n"
      ]
     },
     "metadata": {},
     "output_type": "display_data"
    },
    {
     "data": {
      "text/html": [
       "<pre style=\"white-space:pre;overflow-x:auto;line-height:normal;font-family:Menlo,'DejaVu Sans Mono',consolas,'Courier New',monospace\">┏━━━━━━━━━━━━━━━━━━━━━━━━━━━━━━━━━━━━━━┳━━━━━━━━━━━━━━━━━━━━━━━━━━━━━┳━━━━━━━━━━━━━━━━━┓\n",
       "┃<span style=\"font-weight: bold\"> Layer (type)                         </span>┃<span style=\"font-weight: bold\"> Output Shape                </span>┃<span style=\"font-weight: bold\">         Param # </span>┃\n",
       "┡━━━━━━━━━━━━━━━━━━━━━━━━━━━━━━━━━━━━━━╇━━━━━━━━━━━━━━━━━━━━━━━━━━━━━╇━━━━━━━━━━━━━━━━━┩\n",
       "│ input_layer_20 (<span style=\"color: #0087ff; text-decoration-color: #0087ff\">InputLayer</span>)          │ (<span style=\"color: #00d7ff; text-decoration-color: #00d7ff\">None</span>, <span style=\"color: #00af00; text-decoration-color: #00af00\">4096</span>)                │               <span style=\"color: #00af00; text-decoration-color: #00af00\">0</span> │\n",
       "├──────────────────────────────────────┼─────────────────────────────┼─────────────────┤\n",
       "│ hidden_1 (<span style=\"color: #0087ff; text-decoration-color: #0087ff\">Dense</span>)                     │ (<span style=\"color: #00d7ff; text-decoration-color: #00d7ff\">None</span>, <span style=\"color: #00af00; text-decoration-color: #00af00\">248</span>)                 │       <span style=\"color: #00af00; text-decoration-color: #00af00\">1,016,056</span> │\n",
       "├──────────────────────────────────────┼─────────────────────────────┼─────────────────┤\n",
       "│ output_layer (<span style=\"color: #0087ff; text-decoration-color: #0087ff\">Dense</span>)                 │ (<span style=\"color: #00d7ff; text-decoration-color: #00d7ff\">None</span>, <span style=\"color: #00af00; text-decoration-color: #00af00\">15</span>)                  │           <span style=\"color: #00af00; text-decoration-color: #00af00\">3,735</span> │\n",
       "└──────────────────────────────────────┴─────────────────────────────┴─────────────────┘\n",
       "</pre>\n"
      ],
      "text/plain": [
       "┏━━━━━━━━━━━━━━━━━━━━━━━━━━━━━━━━━━━━━━┳━━━━━━━━━━━━━━━━━━━━━━━━━━━━━┳━━━━━━━━━━━━━━━━━┓\n",
       "┃\u001b[1m \u001b[0m\u001b[1mLayer (type)                        \u001b[0m\u001b[1m \u001b[0m┃\u001b[1m \u001b[0m\u001b[1mOutput Shape               \u001b[0m\u001b[1m \u001b[0m┃\u001b[1m \u001b[0m\u001b[1m        Param #\u001b[0m\u001b[1m \u001b[0m┃\n",
       "┡━━━━━━━━━━━━━━━━━━━━━━━━━━━━━━━━━━━━━━╇━━━━━━━━━━━━━━━━━━━━━━━━━━━━━╇━━━━━━━━━━━━━━━━━┩\n",
       "│ input_layer_20 (\u001b[38;5;33mInputLayer\u001b[0m)          │ (\u001b[38;5;45mNone\u001b[0m, \u001b[38;5;34m4096\u001b[0m)                │               \u001b[38;5;34m0\u001b[0m │\n",
       "├──────────────────────────────────────┼─────────────────────────────┼─────────────────┤\n",
       "│ hidden_1 (\u001b[38;5;33mDense\u001b[0m)                     │ (\u001b[38;5;45mNone\u001b[0m, \u001b[38;5;34m248\u001b[0m)                 │       \u001b[38;5;34m1,016,056\u001b[0m │\n",
       "├──────────────────────────────────────┼─────────────────────────────┼─────────────────┤\n",
       "│ output_layer (\u001b[38;5;33mDense\u001b[0m)                 │ (\u001b[38;5;45mNone\u001b[0m, \u001b[38;5;34m15\u001b[0m)                  │           \u001b[38;5;34m3,735\u001b[0m │\n",
       "└──────────────────────────────────────┴─────────────────────────────┴─────────────────┘\n"
      ]
     },
     "metadata": {},
     "output_type": "display_data"
    },
    {
     "data": {
      "text/html": [
       "<pre style=\"white-space:pre;overflow-x:auto;line-height:normal;font-family:Menlo,'DejaVu Sans Mono',consolas,'Courier New',monospace\"><span style=\"font-weight: bold\"> Total params: </span><span style=\"color: #00af00; text-decoration-color: #00af00\">1,019,791</span> (3.89 MB)\n",
       "</pre>\n"
      ],
      "text/plain": [
       "\u001b[1m Total params: \u001b[0m\u001b[38;5;34m1,019,791\u001b[0m (3.89 MB)\n"
      ]
     },
     "metadata": {},
     "output_type": "display_data"
    },
    {
     "data": {
      "text/html": [
       "<pre style=\"white-space:pre;overflow-x:auto;line-height:normal;font-family:Menlo,'DejaVu Sans Mono',consolas,'Courier New',monospace\"><span style=\"font-weight: bold\"> Trainable params: </span><span style=\"color: #00af00; text-decoration-color: #00af00\">1,019,791</span> (3.89 MB)\n",
       "</pre>\n"
      ],
      "text/plain": [
       "\u001b[1m Trainable params: \u001b[0m\u001b[38;5;34m1,019,791\u001b[0m (3.89 MB)\n"
      ]
     },
     "metadata": {},
     "output_type": "display_data"
    },
    {
     "data": {
      "text/html": [
       "<pre style=\"white-space:pre;overflow-x:auto;line-height:normal;font-family:Menlo,'DejaVu Sans Mono',consolas,'Courier New',monospace\"><span style=\"font-weight: bold\"> Non-trainable params: </span><span style=\"color: #00af00; text-decoration-color: #00af00\">0</span> (0.00 B)\n",
       "</pre>\n"
      ],
      "text/plain": [
       "\u001b[1m Non-trainable params: \u001b[0m\u001b[38;5;34m0\u001b[0m (0.00 B)\n"
      ]
     },
     "metadata": {},
     "output_type": "display_data"
    }
   ],
   "source": [
    "model_functional.summary()"
   ]
  },
  {
   "cell_type": "code",
   "execution_count": 317,
   "id": "2ffc0e69-0296-404a-b503-0a3b5794c801",
   "metadata": {},
   "outputs": [
    {
     "data": {
      "text/plain": [
       "[<InputLayer name=input_layer_20, built=True>,\n",
       " <Dense name=hidden_1, built=True>,\n",
       " <Dense name=output_layer, built=True>]"
      ]
     },
     "execution_count": 317,
     "metadata": {},
     "output_type": "execute_result"
    }
   ],
   "source": [
    "model_functional.layers"
   ]
  },
  {
   "cell_type": "code",
   "execution_count": 318,
   "id": "e9208bb5-95dd-4958-9907-bbad96efd684",
   "metadata": {},
   "outputs": [],
   "source": [
    "last_weight_matrix, last_bias_vector = model_functional.layers[-1].get_weights()"
   ]
  },
  {
   "cell_type": "code",
   "execution_count": 319,
   "id": "06d4ee83-db47-4f68-baa3-4f5aedb439c2",
   "metadata": {
    "scrolled": true
   },
   "outputs": [
    {
     "name": "stdout",
     "output_type": "stream",
     "text": [
      "Epoch 1/25\n",
      "\u001b[1m329/329\u001b[0m \u001b[32m━━━━━━━━━━━━━━━━━━━━\u001b[0m\u001b[37m\u001b[0m \u001b[1m3s\u001b[0m 7ms/step - acc: 0.1405 - loss: 2.8066 - val_acc: 0.3529 - val_loss: 2.0376\n",
      "Epoch 2/25\n",
      "\u001b[1m329/329\u001b[0m \u001b[32m━━━━━━━━━━━━━━━━━━━━\u001b[0m\u001b[37m\u001b[0m \u001b[1m2s\u001b[0m 7ms/step - acc: 0.3989 - loss: 1.9066 - val_acc: 0.4222 - val_loss: 1.8044\n",
      "Epoch 3/25\n",
      "\u001b[1m329/329\u001b[0m \u001b[32m━━━━━━━━━━━━━━━━━━━━\u001b[0m\u001b[37m\u001b[0m \u001b[1m2s\u001b[0m 6ms/step - acc: 0.4808 - loss: 1.6806 - val_acc: 0.4338 - val_loss: 1.7960\n",
      "Epoch 4/25\n",
      "\u001b[1m329/329\u001b[0m \u001b[32m━━━━━━━━━━━━━━━━━━━━\u001b[0m\u001b[37m\u001b[0m \u001b[1m2s\u001b[0m 6ms/step - acc: 0.5312 - loss: 1.5407 - val_acc: 0.5049 - val_loss: 1.5625\n",
      "Epoch 5/25\n",
      "\u001b[1m329/329\u001b[0m \u001b[32m━━━━━━━━━━━━━━━━━━━━\u001b[0m\u001b[37m\u001b[0m \u001b[1m2s\u001b[0m 6ms/step - acc: 0.5780 - loss: 1.3781 - val_acc: 0.5520 - val_loss: 1.4322\n",
      "Epoch 6/25\n",
      "\u001b[1m329/329\u001b[0m \u001b[32m━━━━━━━━━━━━━━━━━━━━\u001b[0m\u001b[37m\u001b[0m \u001b[1m2s\u001b[0m 6ms/step - acc: 0.6319 - loss: 1.1954 - val_acc: 0.5689 - val_loss: 1.3545\n",
      "Epoch 7/25\n",
      "\u001b[1m329/329\u001b[0m \u001b[32m━━━━━━━━━━━━━━━━━━━━\u001b[0m\u001b[37m\u001b[0m \u001b[1m2s\u001b[0m 7ms/step - acc: 0.6855 - loss: 1.0438 - val_acc: 0.6000 - val_loss: 1.2486\n",
      "Epoch 8/25\n",
      "\u001b[1m329/329\u001b[0m \u001b[32m━━━━━━━━━━━━━━━━━━━━\u001b[0m\u001b[37m\u001b[0m \u001b[1m2s\u001b[0m 7ms/step - acc: 0.7322 - loss: 0.8781 - val_acc: 0.6400 - val_loss: 1.1781\n",
      "Epoch 9/25\n",
      "\u001b[1m329/329\u001b[0m \u001b[32m━━━━━━━━━━━━━━━━━━━━\u001b[0m\u001b[37m\u001b[0m \u001b[1m2s\u001b[0m 7ms/step - acc: 0.7655 - loss: 0.7598 - val_acc: 0.6547 - val_loss: 1.0765\n",
      "Epoch 10/25\n",
      "\u001b[1m329/329\u001b[0m \u001b[32m━━━━━━━━━━━━━━━━━━━━\u001b[0m\u001b[37m\u001b[0m \u001b[1m2s\u001b[0m 7ms/step - acc: 0.8068 - loss: 0.6575 - val_acc: 0.6707 - val_loss: 1.0205\n",
      "Epoch 11/25\n",
      "\u001b[1m329/329\u001b[0m \u001b[32m━━━━━━━━━━━━━━━━━━━━\u001b[0m\u001b[37m\u001b[0m \u001b[1m2s\u001b[0m 6ms/step - acc: 0.8257 - loss: 0.5705 - val_acc: 0.6818 - val_loss: 1.0036\n",
      "Epoch 12/25\n",
      "\u001b[1m329/329\u001b[0m \u001b[32m━━━━━━━━━━━━━━━━━━━━\u001b[0m\u001b[37m\u001b[0m \u001b[1m2s\u001b[0m 6ms/step - acc: 0.8498 - loss: 0.5148 - val_acc: 0.7013 - val_loss: 0.9642\n",
      "Epoch 13/25\n",
      "\u001b[1m329/329\u001b[0m \u001b[32m━━━━━━━━━━━━━━━━━━━━\u001b[0m\u001b[37m\u001b[0m \u001b[1m2s\u001b[0m 6ms/step - acc: 0.8759 - loss: 0.4340 - val_acc: 0.7129 - val_loss: 0.9088\n",
      "Epoch 14/25\n",
      "\u001b[1m329/329\u001b[0m \u001b[32m━━━━━━━━━━━━━━━━━━━━\u001b[0m\u001b[37m\u001b[0m \u001b[1m2s\u001b[0m 7ms/step - acc: 0.8924 - loss: 0.3940 - val_acc: 0.7200 - val_loss: 0.9075\n",
      "Epoch 15/25\n",
      "\u001b[1m329/329\u001b[0m \u001b[32m━━━━━━━━━━━━━━━━━━━━\u001b[0m\u001b[37m\u001b[0m \u001b[1m2s\u001b[0m 7ms/step - acc: 0.9130 - loss: 0.3424 - val_acc: 0.7396 - val_loss: 0.8802\n",
      "Epoch 16/25\n",
      "\u001b[1m329/329\u001b[0m \u001b[32m━━━━━━━━━━━━━━━━━━━━\u001b[0m\u001b[37m\u001b[0m \u001b[1m2s\u001b[0m 7ms/step - acc: 0.9210 - loss: 0.3061 - val_acc: 0.7471 - val_loss: 0.8583\n",
      "Epoch 17/25\n",
      "\u001b[1m329/329\u001b[0m \u001b[32m━━━━━━━━━━━━━━━━━━━━\u001b[0m\u001b[37m\u001b[0m \u001b[1m2s\u001b[0m 6ms/step - acc: 0.9303 - loss: 0.2749 - val_acc: 0.7453 - val_loss: 0.8561\n",
      "Epoch 18/25\n",
      "\u001b[1m329/329\u001b[0m \u001b[32m━━━━━━━━━━━━━━━━━━━━\u001b[0m\u001b[37m\u001b[0m \u001b[1m2s\u001b[0m 6ms/step - acc: 0.9463 - loss: 0.2270 - val_acc: 0.7431 - val_loss: 0.8755\n",
      "Epoch 19/25\n",
      "\u001b[1m329/329\u001b[0m \u001b[32m━━━━━━━━━━━━━━━━━━━━\u001b[0m\u001b[37m\u001b[0m \u001b[1m2s\u001b[0m 6ms/step - acc: 0.9541 - loss: 0.2093 - val_acc: 0.7569 - val_loss: 0.8510\n",
      "Epoch 20/25\n",
      "\u001b[1m329/329\u001b[0m \u001b[32m━━━━━━━━━━━━━━━━━━━━\u001b[0m\u001b[37m\u001b[0m \u001b[1m2s\u001b[0m 6ms/step - acc: 0.9571 - loss: 0.1982 - val_acc: 0.7369 - val_loss: 0.9089\n",
      "Epoch 21/25\n",
      "\u001b[1m329/329\u001b[0m \u001b[32m━━━━━━━━━━━━━━━━━━━━\u001b[0m\u001b[37m\u001b[0m \u001b[1m3s\u001b[0m 8ms/step - acc: 0.9657 - loss: 0.1736 - val_acc: 0.7671 - val_loss: 0.8519\n",
      "Epoch 22/25\n",
      "\u001b[1m329/329\u001b[0m \u001b[32m━━━━━━━━━━━━━━━━━━━━\u001b[0m\u001b[37m\u001b[0m \u001b[1m2s\u001b[0m 7ms/step - acc: 0.9640 - loss: 0.1621 - val_acc: 0.7622 - val_loss: 0.8609\n",
      "Epoch 23/25\n",
      "\u001b[1m329/329\u001b[0m \u001b[32m━━━━━━━━━━━━━━━━━━━━\u001b[0m\u001b[37m\u001b[0m \u001b[1m2s\u001b[0m 7ms/step - acc: 0.9729 - loss: 0.1411 - val_acc: 0.7587 - val_loss: 0.8733\n",
      "Epoch 24/25\n",
      "\u001b[1m329/329\u001b[0m \u001b[32m━━━━━━━━━━━━━━━━━━━━\u001b[0m\u001b[37m\u001b[0m \u001b[1m2s\u001b[0m 7ms/step - acc: 0.9779 - loss: 0.1261 - val_acc: 0.7662 - val_loss: 0.8688\n",
      "Epoch 25/25\n",
      "\u001b[1m329/329\u001b[0m \u001b[32m━━━━━━━━━━━━━━━━━━━━\u001b[0m\u001b[37m\u001b[0m \u001b[1m2s\u001b[0m 7ms/step - acc: 0.9808 - loss: 0.1183 - val_acc: 0.7693 - val_loss: 0.8586\n"
     ]
    }
   ],
   "source": [
    "# Use the SGD optimizer with the custom learning rate and momentum\n",
    "optimizer = tf.keras.optimizers.SGD(learning_rate=0.1, momentum=0.9)\n",
    "\n",
    "model_functional.compile(optimizer=optimizer, \n",
    "                         loss='categorical_crossentropy', \n",
    "                         metrics=['acc'])\n",
    "history = model_functional.fit(x=X_train,\n",
    "                               y=y_train,\n",
    "                               epochs=100,\n",
    "                               validation_data=(X_val, y_val),\n",
    "                               verbose=1)"
   ]
  },
  {
   "cell_type": "markdown",
   "id": "c1bb9a59-adaf-4d10-bce3-34faf4855eaf",
   "metadata": {},
   "source": [
    "### Body Performance dataset"
   ]
  },
  {
   "cell_type": "code",
   "execution_count": 329,
   "id": "350a49b7-fd38-4c0b-90c4-822019942a53",
   "metadata": {},
   "outputs": [
    {
     "data": {
      "text/html": [
       "<div>\n",
       "<style scoped>\n",
       "    .dataframe tbody tr th:only-of-type {\n",
       "        vertical-align: middle;\n",
       "    }\n",
       "\n",
       "    .dataframe tbody tr th {\n",
       "        vertical-align: top;\n",
       "    }\n",
       "\n",
       "    .dataframe thead th {\n",
       "        text-align: right;\n",
       "    }\n",
       "</style>\n",
       "<table border=\"1\" class=\"dataframe\">\n",
       "  <thead>\n",
       "    <tr style=\"text-align: right;\">\n",
       "      <th></th>\n",
       "      <th>age</th>\n",
       "      <th>gender</th>\n",
       "      <th>height_cm</th>\n",
       "      <th>weight_kg</th>\n",
       "      <th>body fat_%</th>\n",
       "      <th>diastolic</th>\n",
       "      <th>systolic</th>\n",
       "      <th>gripForce</th>\n",
       "      <th>sit and bend forward_cm</th>\n",
       "      <th>sit-ups counts</th>\n",
       "      <th>broad jump_cm</th>\n",
       "      <th>class</th>\n",
       "    </tr>\n",
       "  </thead>\n",
       "  <tbody>\n",
       "    <tr>\n",
       "      <th>0</th>\n",
       "      <td>27.0</td>\n",
       "      <td>M</td>\n",
       "      <td>172.3</td>\n",
       "      <td>75.24</td>\n",
       "      <td>21.3</td>\n",
       "      <td>80.0</td>\n",
       "      <td>130.0</td>\n",
       "      <td>54.9</td>\n",
       "      <td>18.4</td>\n",
       "      <td>60.0</td>\n",
       "      <td>217.0</td>\n",
       "      <td>C</td>\n",
       "    </tr>\n",
       "    <tr>\n",
       "      <th>1</th>\n",
       "      <td>25.0</td>\n",
       "      <td>M</td>\n",
       "      <td>165.0</td>\n",
       "      <td>55.80</td>\n",
       "      <td>15.7</td>\n",
       "      <td>77.0</td>\n",
       "      <td>126.0</td>\n",
       "      <td>36.4</td>\n",
       "      <td>16.3</td>\n",
       "      <td>53.0</td>\n",
       "      <td>229.0</td>\n",
       "      <td>A</td>\n",
       "    </tr>\n",
       "    <tr>\n",
       "      <th>2</th>\n",
       "      <td>31.0</td>\n",
       "      <td>M</td>\n",
       "      <td>179.6</td>\n",
       "      <td>78.00</td>\n",
       "      <td>20.1</td>\n",
       "      <td>92.0</td>\n",
       "      <td>152.0</td>\n",
       "      <td>44.8</td>\n",
       "      <td>12.0</td>\n",
       "      <td>49.0</td>\n",
       "      <td>181.0</td>\n",
       "      <td>C</td>\n",
       "    </tr>\n",
       "    <tr>\n",
       "      <th>3</th>\n",
       "      <td>32.0</td>\n",
       "      <td>M</td>\n",
       "      <td>174.5</td>\n",
       "      <td>71.10</td>\n",
       "      <td>18.4</td>\n",
       "      <td>76.0</td>\n",
       "      <td>147.0</td>\n",
       "      <td>41.4</td>\n",
       "      <td>15.2</td>\n",
       "      <td>53.0</td>\n",
       "      <td>219.0</td>\n",
       "      <td>B</td>\n",
       "    </tr>\n",
       "    <tr>\n",
       "      <th>4</th>\n",
       "      <td>28.0</td>\n",
       "      <td>M</td>\n",
       "      <td>173.8</td>\n",
       "      <td>67.70</td>\n",
       "      <td>17.1</td>\n",
       "      <td>70.0</td>\n",
       "      <td>127.0</td>\n",
       "      <td>43.5</td>\n",
       "      <td>27.1</td>\n",
       "      <td>45.0</td>\n",
       "      <td>217.0</td>\n",
       "      <td>B</td>\n",
       "    </tr>\n",
       "  </tbody>\n",
       "</table>\n",
       "</div>"
      ],
      "text/plain": [
       "    age gender  height_cm  weight_kg  body fat_%  diastolic  systolic  \\\n",
       "0  27.0      M      172.3      75.24        21.3       80.0     130.0   \n",
       "1  25.0      M      165.0      55.80        15.7       77.0     126.0   \n",
       "2  31.0      M      179.6      78.00        20.1       92.0     152.0   \n",
       "3  32.0      M      174.5      71.10        18.4       76.0     147.0   \n",
       "4  28.0      M      173.8      67.70        17.1       70.0     127.0   \n",
       "\n",
       "   gripForce  sit and bend forward_cm  sit-ups counts  broad jump_cm class  \n",
       "0       54.9                     18.4            60.0          217.0     C  \n",
       "1       36.4                     16.3            53.0          229.0     A  \n",
       "2       44.8                     12.0            49.0          181.0     C  \n",
       "3       41.4                     15.2            53.0          219.0     B  \n",
       "4       43.5                     27.1            45.0          217.0     B  "
      ]
     },
     "execution_count": 329,
     "metadata": {},
     "output_type": "execute_result"
    }
   ],
   "source": [
    "body_performance = pd.read_csv(\"data/bodyPerformance.csv\")\n",
    "body_performance.head()"
   ]
  },
  {
   "cell_type": "code",
   "execution_count": 330,
   "id": "0ab9d267-3cc2-4b65-b5a5-d232419560b9",
   "metadata": {},
   "outputs": [
    {
     "data": {
      "text/plain": [
       "age                        0\n",
       "gender                     0\n",
       "height_cm                  0\n",
       "weight_kg                  0\n",
       "body fat_%                 0\n",
       "diastolic                  0\n",
       "systolic                   0\n",
       "gripForce                  0\n",
       "sit and bend forward_cm    0\n",
       "sit-ups counts             0\n",
       "broad jump_cm              0\n",
       "class                      0\n",
       "dtype: int64"
      ]
     },
     "execution_count": 330,
     "metadata": {},
     "output_type": "execute_result"
    }
   ],
   "source": [
    "body_performance.isna().sum()"
   ]
  },
  {
   "cell_type": "code",
   "execution_count": 331,
   "id": "3d9fc962-6739-42d2-8e52-a1601de17c1a",
   "metadata": {},
   "outputs": [
    {
     "data": {
      "text/plain": [
       "class\n",
       "C    3349\n",
       "D    3349\n",
       "A    3348\n",
       "B    3347\n",
       "Name: count, dtype: int64"
      ]
     },
     "execution_count": 331,
     "metadata": {},
     "output_type": "execute_result"
    }
   ],
   "source": [
    "body_performance['class'].value_counts()"
   ]
  },
  {
   "cell_type": "code",
   "execution_count": 332,
   "id": "a9c3785f-144b-460b-8b1f-6701cf8c6400",
   "metadata": {},
   "outputs": [
    {
     "data": {
      "text/html": [
       "<div>\n",
       "<style scoped>\n",
       "    .dataframe tbody tr th:only-of-type {\n",
       "        vertical-align: middle;\n",
       "    }\n",
       "\n",
       "    .dataframe tbody tr th {\n",
       "        vertical-align: top;\n",
       "    }\n",
       "\n",
       "    .dataframe thead th {\n",
       "        text-align: right;\n",
       "    }\n",
       "</style>\n",
       "<table border=\"1\" class=\"dataframe\">\n",
       "  <thead>\n",
       "    <tr style=\"text-align: right;\">\n",
       "      <th></th>\n",
       "      <th>age</th>\n",
       "      <th>gender</th>\n",
       "      <th>height_cm</th>\n",
       "      <th>weight_kg</th>\n",
       "      <th>body fat_%</th>\n",
       "      <th>diastolic</th>\n",
       "      <th>systolic</th>\n",
       "      <th>gripForce</th>\n",
       "      <th>sit and bend forward_cm</th>\n",
       "      <th>sit-ups counts</th>\n",
       "      <th>broad jump_cm</th>\n",
       "      <th>class</th>\n",
       "    </tr>\n",
       "  </thead>\n",
       "  <tbody>\n",
       "    <tr>\n",
       "      <th>0</th>\n",
       "      <td>27.0</td>\n",
       "      <td>0</td>\n",
       "      <td>172.3</td>\n",
       "      <td>75.24</td>\n",
       "      <td>21.3</td>\n",
       "      <td>80.0</td>\n",
       "      <td>130.0</td>\n",
       "      <td>54.9</td>\n",
       "      <td>18.4</td>\n",
       "      <td>60.0</td>\n",
       "      <td>217.0</td>\n",
       "      <td>C</td>\n",
       "    </tr>\n",
       "    <tr>\n",
       "      <th>1</th>\n",
       "      <td>25.0</td>\n",
       "      <td>0</td>\n",
       "      <td>165.0</td>\n",
       "      <td>55.80</td>\n",
       "      <td>15.7</td>\n",
       "      <td>77.0</td>\n",
       "      <td>126.0</td>\n",
       "      <td>36.4</td>\n",
       "      <td>16.3</td>\n",
       "      <td>53.0</td>\n",
       "      <td>229.0</td>\n",
       "      <td>A</td>\n",
       "    </tr>\n",
       "    <tr>\n",
       "      <th>2</th>\n",
       "      <td>31.0</td>\n",
       "      <td>0</td>\n",
       "      <td>179.6</td>\n",
       "      <td>78.00</td>\n",
       "      <td>20.1</td>\n",
       "      <td>92.0</td>\n",
       "      <td>152.0</td>\n",
       "      <td>44.8</td>\n",
       "      <td>12.0</td>\n",
       "      <td>49.0</td>\n",
       "      <td>181.0</td>\n",
       "      <td>C</td>\n",
       "    </tr>\n",
       "    <tr>\n",
       "      <th>3</th>\n",
       "      <td>32.0</td>\n",
       "      <td>0</td>\n",
       "      <td>174.5</td>\n",
       "      <td>71.10</td>\n",
       "      <td>18.4</td>\n",
       "      <td>76.0</td>\n",
       "      <td>147.0</td>\n",
       "      <td>41.4</td>\n",
       "      <td>15.2</td>\n",
       "      <td>53.0</td>\n",
       "      <td>219.0</td>\n",
       "      <td>B</td>\n",
       "    </tr>\n",
       "    <tr>\n",
       "      <th>4</th>\n",
       "      <td>28.0</td>\n",
       "      <td>0</td>\n",
       "      <td>173.8</td>\n",
       "      <td>67.70</td>\n",
       "      <td>17.1</td>\n",
       "      <td>70.0</td>\n",
       "      <td>127.0</td>\n",
       "      <td>43.5</td>\n",
       "      <td>27.1</td>\n",
       "      <td>45.0</td>\n",
       "      <td>217.0</td>\n",
       "      <td>B</td>\n",
       "    </tr>\n",
       "    <tr>\n",
       "      <th>...</th>\n",
       "      <td>...</td>\n",
       "      <td>...</td>\n",
       "      <td>...</td>\n",
       "      <td>...</td>\n",
       "      <td>...</td>\n",
       "      <td>...</td>\n",
       "      <td>...</td>\n",
       "      <td>...</td>\n",
       "      <td>...</td>\n",
       "      <td>...</td>\n",
       "      <td>...</td>\n",
       "      <td>...</td>\n",
       "    </tr>\n",
       "    <tr>\n",
       "      <th>13388</th>\n",
       "      <td>25.0</td>\n",
       "      <td>0</td>\n",
       "      <td>172.1</td>\n",
       "      <td>71.80</td>\n",
       "      <td>16.2</td>\n",
       "      <td>74.0</td>\n",
       "      <td>141.0</td>\n",
       "      <td>35.8</td>\n",
       "      <td>17.4</td>\n",
       "      <td>47.0</td>\n",
       "      <td>198.0</td>\n",
       "      <td>C</td>\n",
       "    </tr>\n",
       "    <tr>\n",
       "      <th>13389</th>\n",
       "      <td>21.0</td>\n",
       "      <td>0</td>\n",
       "      <td>179.7</td>\n",
       "      <td>63.90</td>\n",
       "      <td>12.1</td>\n",
       "      <td>74.0</td>\n",
       "      <td>128.0</td>\n",
       "      <td>33.0</td>\n",
       "      <td>1.1</td>\n",
       "      <td>48.0</td>\n",
       "      <td>167.0</td>\n",
       "      <td>D</td>\n",
       "    </tr>\n",
       "    <tr>\n",
       "      <th>13390</th>\n",
       "      <td>39.0</td>\n",
       "      <td>0</td>\n",
       "      <td>177.2</td>\n",
       "      <td>80.50</td>\n",
       "      <td>20.1</td>\n",
       "      <td>78.0</td>\n",
       "      <td>132.0</td>\n",
       "      <td>63.5</td>\n",
       "      <td>16.4</td>\n",
       "      <td>45.0</td>\n",
       "      <td>229.0</td>\n",
       "      <td>A</td>\n",
       "    </tr>\n",
       "    <tr>\n",
       "      <th>13391</th>\n",
       "      <td>64.0</td>\n",
       "      <td>1</td>\n",
       "      <td>146.1</td>\n",
       "      <td>57.70</td>\n",
       "      <td>40.4</td>\n",
       "      <td>68.0</td>\n",
       "      <td>121.0</td>\n",
       "      <td>19.3</td>\n",
       "      <td>9.2</td>\n",
       "      <td>0.0</td>\n",
       "      <td>75.0</td>\n",
       "      <td>D</td>\n",
       "    </tr>\n",
       "    <tr>\n",
       "      <th>13392</th>\n",
       "      <td>34.0</td>\n",
       "      <td>0</td>\n",
       "      <td>164.0</td>\n",
       "      <td>66.10</td>\n",
       "      <td>19.5</td>\n",
       "      <td>82.0</td>\n",
       "      <td>150.0</td>\n",
       "      <td>35.9</td>\n",
       "      <td>7.1</td>\n",
       "      <td>51.0</td>\n",
       "      <td>180.0</td>\n",
       "      <td>C</td>\n",
       "    </tr>\n",
       "  </tbody>\n",
       "</table>\n",
       "<p>13393 rows × 12 columns</p>\n",
       "</div>"
      ],
      "text/plain": [
       "        age  gender  height_cm  weight_kg  body fat_%  diastolic  systolic  \\\n",
       "0      27.0       0      172.3      75.24        21.3       80.0     130.0   \n",
       "1      25.0       0      165.0      55.80        15.7       77.0     126.0   \n",
       "2      31.0       0      179.6      78.00        20.1       92.0     152.0   \n",
       "3      32.0       0      174.5      71.10        18.4       76.0     147.0   \n",
       "4      28.0       0      173.8      67.70        17.1       70.0     127.0   \n",
       "...     ...     ...        ...        ...         ...        ...       ...   \n",
       "13388  25.0       0      172.1      71.80        16.2       74.0     141.0   \n",
       "13389  21.0       0      179.7      63.90        12.1       74.0     128.0   \n",
       "13390  39.0       0      177.2      80.50        20.1       78.0     132.0   \n",
       "13391  64.0       1      146.1      57.70        40.4       68.0     121.0   \n",
       "13392  34.0       0      164.0      66.10        19.5       82.0     150.0   \n",
       "\n",
       "       gripForce  sit and bend forward_cm  sit-ups counts  broad jump_cm class  \n",
       "0           54.9                     18.4            60.0          217.0     C  \n",
       "1           36.4                     16.3            53.0          229.0     A  \n",
       "2           44.8                     12.0            49.0          181.0     C  \n",
       "3           41.4                     15.2            53.0          219.0     B  \n",
       "4           43.5                     27.1            45.0          217.0     B  \n",
       "...          ...                      ...             ...            ...   ...  \n",
       "13388       35.8                     17.4            47.0          198.0     C  \n",
       "13389       33.0                      1.1            48.0          167.0     D  \n",
       "13390       63.5                     16.4            45.0          229.0     A  \n",
       "13391       19.3                      9.2             0.0           75.0     D  \n",
       "13392       35.9                      7.1            51.0          180.0     C  \n",
       "\n",
       "[13393 rows x 12 columns]"
      ]
     },
     "execution_count": 332,
     "metadata": {},
     "output_type": "execute_result"
    }
   ],
   "source": [
    "# Create a mapping from gender to numeric values\n",
    "gender_mapping = {'M': 0, 'F': 1}\n",
    "\n",
    "body_performance['gender'] = body_performance['gender'].map(gender_mapping)\n",
    "body_performance"
   ]
  },
  {
   "cell_type": "code",
   "execution_count": 333,
   "id": "f2669dce-6230-42e3-9023-87e092f67619",
   "metadata": {},
   "outputs": [
    {
     "data": {
      "text/plain": [
       "0       -0.717405\n",
       "1       -0.864187\n",
       "2       -0.423841\n",
       "3       -0.350450\n",
       "4       -0.644014\n",
       "           ...   \n",
       "13388   -0.864187\n",
       "13389   -1.157752\n",
       "13390    0.163287\n",
       "13391    1.998064\n",
       "13392   -0.203668\n",
       "Name: age, Length: 13393, dtype: float64"
      ]
     },
     "execution_count": 333,
     "metadata": {},
     "output_type": "execute_result"
    }
   ],
   "source": [
    "((body_performance['age'] - body_performance['age'].mean()) / body_performance['age'].std())"
   ]
  },
  {
   "cell_type": "code",
   "execution_count": 334,
   "id": "a6efe0c8-9222-4c1b-bf60-5220e77fad2f",
   "metadata": {},
   "outputs": [
    {
     "data": {
      "text/html": [
       "<div>\n",
       "<style scoped>\n",
       "    .dataframe tbody tr th:only-of-type {\n",
       "        vertical-align: middle;\n",
       "    }\n",
       "\n",
       "    .dataframe tbody tr th {\n",
       "        vertical-align: top;\n",
       "    }\n",
       "\n",
       "    .dataframe thead th {\n",
       "        text-align: right;\n",
       "    }\n",
       "</style>\n",
       "<table border=\"1\" class=\"dataframe\">\n",
       "  <thead>\n",
       "    <tr style=\"text-align: right;\">\n",
       "      <th></th>\n",
       "      <th>age</th>\n",
       "      <th>height_cm</th>\n",
       "      <th>weight_kg</th>\n",
       "      <th>body fat_%</th>\n",
       "      <th>diastolic</th>\n",
       "      <th>systolic</th>\n",
       "      <th>gripForce</th>\n",
       "      <th>sit and bend forward_cm</th>\n",
       "      <th>sit-ups counts</th>\n",
       "      <th>broad jump_cm</th>\n",
       "    </tr>\n",
       "  </thead>\n",
       "  <tbody>\n",
       "    <tr>\n",
       "      <th>0</th>\n",
       "      <td>27.0</td>\n",
       "      <td>172.3</td>\n",
       "      <td>75.24</td>\n",
       "      <td>21.3</td>\n",
       "      <td>80.0</td>\n",
       "      <td>130.0</td>\n",
       "      <td>54.9</td>\n",
       "      <td>18.4</td>\n",
       "      <td>60.0</td>\n",
       "      <td>217.0</td>\n",
       "    </tr>\n",
       "    <tr>\n",
       "      <th>1</th>\n",
       "      <td>25.0</td>\n",
       "      <td>165.0</td>\n",
       "      <td>55.80</td>\n",
       "      <td>15.7</td>\n",
       "      <td>77.0</td>\n",
       "      <td>126.0</td>\n",
       "      <td>36.4</td>\n",
       "      <td>16.3</td>\n",
       "      <td>53.0</td>\n",
       "      <td>229.0</td>\n",
       "    </tr>\n",
       "    <tr>\n",
       "      <th>2</th>\n",
       "      <td>31.0</td>\n",
       "      <td>179.6</td>\n",
       "      <td>78.00</td>\n",
       "      <td>20.1</td>\n",
       "      <td>92.0</td>\n",
       "      <td>152.0</td>\n",
       "      <td>44.8</td>\n",
       "      <td>12.0</td>\n",
       "      <td>49.0</td>\n",
       "      <td>181.0</td>\n",
       "    </tr>\n",
       "    <tr>\n",
       "      <th>3</th>\n",
       "      <td>32.0</td>\n",
       "      <td>174.5</td>\n",
       "      <td>71.10</td>\n",
       "      <td>18.4</td>\n",
       "      <td>76.0</td>\n",
       "      <td>147.0</td>\n",
       "      <td>41.4</td>\n",
       "      <td>15.2</td>\n",
       "      <td>53.0</td>\n",
       "      <td>219.0</td>\n",
       "    </tr>\n",
       "    <tr>\n",
       "      <th>4</th>\n",
       "      <td>28.0</td>\n",
       "      <td>173.8</td>\n",
       "      <td>67.70</td>\n",
       "      <td>17.1</td>\n",
       "      <td>70.0</td>\n",
       "      <td>127.0</td>\n",
       "      <td>43.5</td>\n",
       "      <td>27.1</td>\n",
       "      <td>45.0</td>\n",
       "      <td>217.0</td>\n",
       "    </tr>\n",
       "  </tbody>\n",
       "</table>\n",
       "</div>"
      ],
      "text/plain": [
       "    age  height_cm  weight_kg  body fat_%  diastolic  systolic  gripForce  \\\n",
       "0  27.0      172.3      75.24        21.3       80.0     130.0       54.9   \n",
       "1  25.0      165.0      55.80        15.7       77.0     126.0       36.4   \n",
       "2  31.0      179.6      78.00        20.1       92.0     152.0       44.8   \n",
       "3  32.0      174.5      71.10        18.4       76.0     147.0       41.4   \n",
       "4  28.0      173.8      67.70        17.1       70.0     127.0       43.5   \n",
       "\n",
       "   sit and bend forward_cm  sit-ups counts  broad jump_cm  \n",
       "0                     18.4            60.0          217.0  \n",
       "1                     16.3            53.0          229.0  \n",
       "2                     12.0            49.0          181.0  \n",
       "3                     15.2            53.0          219.0  \n",
       "4                     27.1            45.0          217.0  "
      ]
     },
     "execution_count": 334,
     "metadata": {},
     "output_type": "execute_result"
    }
   ],
   "source": [
    "body_performance_categorical = body_performance[['gender', 'class']]\n",
    "body_performance_numeric = body_performance.drop(['gender', 'class'], axis=1)\n",
    "body_performance_numeric.head()"
   ]
  },
  {
   "cell_type": "code",
   "execution_count": 335,
   "id": "de9934d8-8b2b-423e-96cd-ef068f4e956d",
   "metadata": {},
   "outputs": [
    {
     "data": {
      "text/html": [
       "<div>\n",
       "<style scoped>\n",
       "    .dataframe tbody tr th:only-of-type {\n",
       "        vertical-align: middle;\n",
       "    }\n",
       "\n",
       "    .dataframe tbody tr th {\n",
       "        vertical-align: top;\n",
       "    }\n",
       "\n",
       "    .dataframe thead th {\n",
       "        text-align: right;\n",
       "    }\n",
       "</style>\n",
       "<table border=\"1\" class=\"dataframe\">\n",
       "  <thead>\n",
       "    <tr style=\"text-align: right;\">\n",
       "      <th></th>\n",
       "      <th>age</th>\n",
       "      <th>height_cm</th>\n",
       "      <th>weight_kg</th>\n",
       "      <th>body fat_%</th>\n",
       "      <th>diastolic</th>\n",
       "      <th>systolic</th>\n",
       "      <th>gripForce</th>\n",
       "      <th>sit and bend forward_cm</th>\n",
       "      <th>sit-ups counts</th>\n",
       "      <th>broad jump_cm</th>\n",
       "    </tr>\n",
       "  </thead>\n",
       "  <tbody>\n",
       "    <tr>\n",
       "      <th>0</th>\n",
       "      <td>-0.717405</td>\n",
       "      <td>0.443856</td>\n",
       "      <td>0.652126</td>\n",
       "      <td>-0.267357</td>\n",
       "      <td>0.112005</td>\n",
       "      <td>-0.015959</td>\n",
       "      <td>1.688127</td>\n",
       "      <td>0.377303</td>\n",
       "      <td>1.416909</td>\n",
       "      <td>0.673983</td>\n",
       "    </tr>\n",
       "    <tr>\n",
       "      <th>1</th>\n",
       "      <td>-0.864187</td>\n",
       "      <td>-0.422450</td>\n",
       "      <td>-0.974698</td>\n",
       "      <td>-1.039042</td>\n",
       "      <td>-0.167272</td>\n",
       "      <td>-0.287810</td>\n",
       "      <td>-0.053071</td>\n",
       "      <td>0.128979</td>\n",
       "      <td>0.926599</td>\n",
       "      <td>0.974977</td>\n",
       "    </tr>\n",
       "    <tr>\n",
       "      <th>2</th>\n",
       "      <td>-0.423841</td>\n",
       "      <td>1.310163</td>\n",
       "      <td>0.883094</td>\n",
       "      <td>-0.432718</td>\n",
       "      <td>1.229112</td>\n",
       "      <td>1.479221</td>\n",
       "      <td>0.737527</td>\n",
       "      <td>-0.379495</td>\n",
       "      <td>0.646422</td>\n",
       "      <td>-0.228996</td>\n",
       "    </tr>\n",
       "    <tr>\n",
       "      <th>3</th>\n",
       "      <td>-0.350450</td>\n",
       "      <td>0.704935</td>\n",
       "      <td>0.305672</td>\n",
       "      <td>-0.666979</td>\n",
       "      <td>-0.260364</td>\n",
       "      <td>1.139407</td>\n",
       "      <td>0.417523</td>\n",
       "      <td>-0.001096</td>\n",
       "      <td>0.926599</td>\n",
       "      <td>0.724149</td>\n",
       "    </tr>\n",
       "    <tr>\n",
       "      <th>4</th>\n",
       "      <td>-0.644014</td>\n",
       "      <td>0.621865</td>\n",
       "      <td>0.021146</td>\n",
       "      <td>-0.846121</td>\n",
       "      <td>-0.818918</td>\n",
       "      <td>-0.219847</td>\n",
       "      <td>0.615172</td>\n",
       "      <td>1.406076</td>\n",
       "      <td>0.366245</td>\n",
       "      <td>0.673983</td>\n",
       "    </tr>\n",
       "  </tbody>\n",
       "</table>\n",
       "</div>"
      ],
      "text/plain": [
       "        age  height_cm  weight_kg  body fat_%  diastolic  systolic  gripForce  \\\n",
       "0 -0.717405   0.443856   0.652126   -0.267357   0.112005 -0.015959   1.688127   \n",
       "1 -0.864187  -0.422450  -0.974698   -1.039042  -0.167272 -0.287810  -0.053071   \n",
       "2 -0.423841   1.310163   0.883094   -0.432718   1.229112  1.479221   0.737527   \n",
       "3 -0.350450   0.704935   0.305672   -0.666979  -0.260364  1.139407   0.417523   \n",
       "4 -0.644014   0.621865   0.021146   -0.846121  -0.818918 -0.219847   0.615172   \n",
       "\n",
       "   sit and bend forward_cm  sit-ups counts  broad jump_cm  \n",
       "0                 0.377303        1.416909       0.673983  \n",
       "1                 0.128979        0.926599       0.974977  \n",
       "2                -0.379495        0.646422      -0.228996  \n",
       "3                -0.001096        0.926599       0.724149  \n",
       "4                 1.406076        0.366245       0.673983  "
      ]
     },
     "execution_count": 335,
     "metadata": {},
     "output_type": "execute_result"
    }
   ],
   "source": [
    "body_performance_scaled = (body_performance_numeric - body_performance_numeric.mean()) / body_performance_numeric.std()\n",
    "body_performance_scaled.head()"
   ]
  },
  {
   "cell_type": "code",
   "execution_count": 336,
   "id": "d57203ad-496d-4bea-a2d2-48ae313eac80",
   "metadata": {},
   "outputs": [
    {
     "data": {
      "text/html": [
       "<div>\n",
       "<style scoped>\n",
       "    .dataframe tbody tr th:only-of-type {\n",
       "        vertical-align: middle;\n",
       "    }\n",
       "\n",
       "    .dataframe tbody tr th {\n",
       "        vertical-align: top;\n",
       "    }\n",
       "\n",
       "    .dataframe thead th {\n",
       "        text-align: right;\n",
       "    }\n",
       "</style>\n",
       "<table border=\"1\" class=\"dataframe\">\n",
       "  <thead>\n",
       "    <tr style=\"text-align: right;\">\n",
       "      <th></th>\n",
       "      <th>age</th>\n",
       "      <th>height_cm</th>\n",
       "      <th>weight_kg</th>\n",
       "      <th>body fat_%</th>\n",
       "      <th>diastolic</th>\n",
       "      <th>systolic</th>\n",
       "      <th>gripForce</th>\n",
       "      <th>sit and bend forward_cm</th>\n",
       "      <th>sit-ups counts</th>\n",
       "      <th>broad jump_cm</th>\n",
       "      <th>gender</th>\n",
       "      <th>class</th>\n",
       "    </tr>\n",
       "  </thead>\n",
       "  <tbody>\n",
       "    <tr>\n",
       "      <th>0</th>\n",
       "      <td>-0.717405</td>\n",
       "      <td>0.443856</td>\n",
       "      <td>0.652126</td>\n",
       "      <td>-0.267357</td>\n",
       "      <td>0.112005</td>\n",
       "      <td>-0.015959</td>\n",
       "      <td>1.688127</td>\n",
       "      <td>0.377303</td>\n",
       "      <td>1.416909</td>\n",
       "      <td>0.673983</td>\n",
       "      <td>0</td>\n",
       "      <td>C</td>\n",
       "    </tr>\n",
       "    <tr>\n",
       "      <th>1</th>\n",
       "      <td>-0.864187</td>\n",
       "      <td>-0.422450</td>\n",
       "      <td>-0.974698</td>\n",
       "      <td>-1.039042</td>\n",
       "      <td>-0.167272</td>\n",
       "      <td>-0.287810</td>\n",
       "      <td>-0.053071</td>\n",
       "      <td>0.128979</td>\n",
       "      <td>0.926599</td>\n",
       "      <td>0.974977</td>\n",
       "      <td>0</td>\n",
       "      <td>A</td>\n",
       "    </tr>\n",
       "    <tr>\n",
       "      <th>2</th>\n",
       "      <td>-0.423841</td>\n",
       "      <td>1.310163</td>\n",
       "      <td>0.883094</td>\n",
       "      <td>-0.432718</td>\n",
       "      <td>1.229112</td>\n",
       "      <td>1.479221</td>\n",
       "      <td>0.737527</td>\n",
       "      <td>-0.379495</td>\n",
       "      <td>0.646422</td>\n",
       "      <td>-0.228996</td>\n",
       "      <td>0</td>\n",
       "      <td>C</td>\n",
       "    </tr>\n",
       "    <tr>\n",
       "      <th>3</th>\n",
       "      <td>-0.350450</td>\n",
       "      <td>0.704935</td>\n",
       "      <td>0.305672</td>\n",
       "      <td>-0.666979</td>\n",
       "      <td>-0.260364</td>\n",
       "      <td>1.139407</td>\n",
       "      <td>0.417523</td>\n",
       "      <td>-0.001096</td>\n",
       "      <td>0.926599</td>\n",
       "      <td>0.724149</td>\n",
       "      <td>0</td>\n",
       "      <td>B</td>\n",
       "    </tr>\n",
       "    <tr>\n",
       "      <th>4</th>\n",
       "      <td>-0.644014</td>\n",
       "      <td>0.621865</td>\n",
       "      <td>0.021146</td>\n",
       "      <td>-0.846121</td>\n",
       "      <td>-0.818918</td>\n",
       "      <td>-0.219847</td>\n",
       "      <td>0.615172</td>\n",
       "      <td>1.406076</td>\n",
       "      <td>0.366245</td>\n",
       "      <td>0.673983</td>\n",
       "      <td>0</td>\n",
       "      <td>B</td>\n",
       "    </tr>\n",
       "    <tr>\n",
       "      <th>...</th>\n",
       "      <td>...</td>\n",
       "      <td>...</td>\n",
       "      <td>...</td>\n",
       "      <td>...</td>\n",
       "      <td>...</td>\n",
       "      <td>...</td>\n",
       "      <td>...</td>\n",
       "      <td>...</td>\n",
       "      <td>...</td>\n",
       "      <td>...</td>\n",
       "      <td>...</td>\n",
       "      <td>...</td>\n",
       "    </tr>\n",
       "    <tr>\n",
       "      <th>13388</th>\n",
       "      <td>-0.864187</td>\n",
       "      <td>0.420122</td>\n",
       "      <td>0.364252</td>\n",
       "      <td>-0.970141</td>\n",
       "      <td>-0.446549</td>\n",
       "      <td>0.731631</td>\n",
       "      <td>-0.109543</td>\n",
       "      <td>0.259053</td>\n",
       "      <td>0.506334</td>\n",
       "      <td>0.197411</td>\n",
       "      <td>0</td>\n",
       "      <td>C</td>\n",
       "    </tr>\n",
       "    <tr>\n",
       "      <th>13389</th>\n",
       "      <td>-1.157752</td>\n",
       "      <td>1.322030</td>\n",
       "      <td>-0.296855</td>\n",
       "      <td>-1.535125</td>\n",
       "      <td>-0.446549</td>\n",
       "      <td>-0.151884</td>\n",
       "      <td>-0.373076</td>\n",
       "      <td>-1.668418</td>\n",
       "      <td>0.576378</td>\n",
       "      <td>-0.580155</td>\n",
       "      <td>0</td>\n",
       "      <td>D</td>\n",
       "    </tr>\n",
       "    <tr>\n",
       "      <th>13390</th>\n",
       "      <td>0.163287</td>\n",
       "      <td>1.025350</td>\n",
       "      <td>1.092305</td>\n",
       "      <td>-0.432718</td>\n",
       "      <td>-0.074180</td>\n",
       "      <td>0.119967</td>\n",
       "      <td>2.497549</td>\n",
       "      <td>0.140804</td>\n",
       "      <td>0.366245</td>\n",
       "      <td>0.974977</td>\n",
       "      <td>0</td>\n",
       "      <td>A</td>\n",
       "    </tr>\n",
       "    <tr>\n",
       "      <th>13391</th>\n",
       "      <td>1.998064</td>\n",
       "      <td>-2.665352</td>\n",
       "      <td>-0.815698</td>\n",
       "      <td>2.364642</td>\n",
       "      <td>-1.005102</td>\n",
       "      <td>-0.627623</td>\n",
       "      <td>-1.662504</td>\n",
       "      <td>-0.710595</td>\n",
       "      <td>-2.785744</td>\n",
       "      <td>-2.887770</td>\n",
       "      <td>1</td>\n",
       "      <td>D</td>\n",
       "    </tr>\n",
       "    <tr>\n",
       "      <th>13392</th>\n",
       "      <td>-0.203668</td>\n",
       "      <td>-0.541122</td>\n",
       "      <td>-0.112749</td>\n",
       "      <td>-0.515398</td>\n",
       "      <td>0.298189</td>\n",
       "      <td>1.343295</td>\n",
       "      <td>-0.100131</td>\n",
       "      <td>-0.958919</td>\n",
       "      <td>0.786511</td>\n",
       "      <td>-0.254079</td>\n",
       "      <td>0</td>\n",
       "      <td>C</td>\n",
       "    </tr>\n",
       "  </tbody>\n",
       "</table>\n",
       "<p>13393 rows × 12 columns</p>\n",
       "</div>"
      ],
      "text/plain": [
       "            age  height_cm  weight_kg  body fat_%  diastolic  systolic  \\\n",
       "0     -0.717405   0.443856   0.652126   -0.267357   0.112005 -0.015959   \n",
       "1     -0.864187  -0.422450  -0.974698   -1.039042  -0.167272 -0.287810   \n",
       "2     -0.423841   1.310163   0.883094   -0.432718   1.229112  1.479221   \n",
       "3     -0.350450   0.704935   0.305672   -0.666979  -0.260364  1.139407   \n",
       "4     -0.644014   0.621865   0.021146   -0.846121  -0.818918 -0.219847   \n",
       "...         ...        ...        ...         ...        ...       ...   \n",
       "13388 -0.864187   0.420122   0.364252   -0.970141  -0.446549  0.731631   \n",
       "13389 -1.157752   1.322030  -0.296855   -1.535125  -0.446549 -0.151884   \n",
       "13390  0.163287   1.025350   1.092305   -0.432718  -0.074180  0.119967   \n",
       "13391  1.998064  -2.665352  -0.815698    2.364642  -1.005102 -0.627623   \n",
       "13392 -0.203668  -0.541122  -0.112749   -0.515398   0.298189  1.343295   \n",
       "\n",
       "       gripForce  sit and bend forward_cm  sit-ups counts  broad jump_cm  \\\n",
       "0       1.688127                 0.377303        1.416909       0.673983   \n",
       "1      -0.053071                 0.128979        0.926599       0.974977   \n",
       "2       0.737527                -0.379495        0.646422      -0.228996   \n",
       "3       0.417523                -0.001096        0.926599       0.724149   \n",
       "4       0.615172                 1.406076        0.366245       0.673983   \n",
       "...          ...                      ...             ...            ...   \n",
       "13388  -0.109543                 0.259053        0.506334       0.197411   \n",
       "13389  -0.373076                -1.668418        0.576378      -0.580155   \n",
       "13390   2.497549                 0.140804        0.366245       0.974977   \n",
       "13391  -1.662504                -0.710595       -2.785744      -2.887770   \n",
       "13392  -0.100131                -0.958919        0.786511      -0.254079   \n",
       "\n",
       "       gender class  \n",
       "0           0     C  \n",
       "1           0     A  \n",
       "2           0     C  \n",
       "3           0     B  \n",
       "4           0     B  \n",
       "...       ...   ...  \n",
       "13388       0     C  \n",
       "13389       0     D  \n",
       "13390       0     A  \n",
       "13391       1     D  \n",
       "13392       0     C  \n",
       "\n",
       "[13393 rows x 12 columns]"
      ]
     },
     "execution_count": 336,
     "metadata": {},
     "output_type": "execute_result"
    }
   ],
   "source": [
    "body_performance_final = pd.concat((body_performance_scaled, body_performance_categorical), axis=1)\n",
    "body_performance_final"
   ]
  },
  {
   "cell_type": "code",
   "execution_count": 337,
   "id": "b34f587b-93de-47e7-9d6b-2a0bf12b27ff",
   "metadata": {},
   "outputs": [],
   "source": [
    "X = body_performance_final.drop('class', axis=1)\n",
    "y = body_performance_final['class']\n",
    "y = np.asarray(y)"
   ]
  },
  {
   "cell_type": "code",
   "execution_count": 338,
   "id": "f70c0439-3ece-4ed0-82cd-f0104e59303d",
   "metadata": {},
   "outputs": [],
   "source": [
    "import numpy as np\n",
    "from sklearn.preprocessing import OneHotEncoder\n",
    "\n",
    "# Initialize the OneHotEncoder\n",
    "encoder = OneHotEncoder(sparse_output=False)  # Use sparse_output=False to return an array\n",
    "\n",
    "# Fit the encoder and transform the data\n",
    "one_hot_encoded = encoder.fit_transform(y.reshape(-1,1))\n",
    "y = one_hot_encoded"
   ]
  },
  {
   "cell_type": "code",
   "execution_count": 339,
   "id": "e59a43d4-27df-40c7-985c-4e84ff396693",
   "metadata": {},
   "outputs": [],
   "source": [
    "X_train, X_temp, y_train, y_temp = train_test_split(np.asarray(X),y,test_size=0.3, random_state=0)\n",
    "X_val, X_test, y_val, y_test = train_test_split(X_temp,y_temp,test_size=0.25, random_state=0)"
   ]
  },
  {
   "cell_type": "code",
   "execution_count": 142,
   "id": "93df4a38-72d5-4b29-b854-8005f52f0be0",
   "metadata": {
    "scrolled": true
   },
   "outputs": [
    {
     "name": "stdout",
     "output_type": "stream",
     "text": [
      "Epoch 1/100, Error: 0.9361712754030452, Avg Weight Change: 0.0012590953607195885\n",
      "Validation Error: 0.8660260689321262\n",
      "Epoch 2/100, Error: 0.8467635602581058, Avg Weight Change: 0.0014204791488670902\n",
      "Validation Error: 0.8058926663928194\n",
      "Epoch 3/100, Error: 0.8117348568201567, Avg Weight Change: 0.0014159425138192444\n",
      "Validation Error: 0.7939555540024391\n",
      "Epoch 4/100, Error: 0.7841259918718281, Avg Weight Change: 0.0013867087971146297\n",
      "Validation Error: 0.7844119180746383\n",
      "Epoch 5/100, Error: 0.7637334371899301, Avg Weight Change: 0.001354113874356569\n",
      "Validation Error: 0.7604236787954465\n",
      "Epoch 6/100, Error: 0.7487079794458195, Avg Weight Change: 0.0013210110724164834\n",
      "Validation Error: 0.7355424495025594\n",
      "Epoch 7/100, Error: 0.7403867934561856, Avg Weight Change: 0.0013056465745472936\n",
      "Validation Error: 0.7391342807144757\n",
      "Epoch 8/100, Error: 0.7375531501613602, Avg Weight Change: 0.0013082518234724051\n",
      "Validation Error: 0.7213395367575061\n",
      "Epoch 9/100, Error: 0.7288068955827927, Avg Weight Change: 0.0012827726745021412\n",
      "Validation Error: 0.7481098613013067\n",
      "Epoch 10/100, Error: 0.7325931889452107, Avg Weight Change: 0.001297100269419039\n",
      "Validation Error: 0.7291727945948104\n",
      "Epoch 11/100, Error: 0.7321909006256281, Avg Weight Change: 0.0012664531017748189\n",
      "Validation Error: 0.7235093779091281\n",
      "Epoch 12/100, Error: 0.7294741564871783, Avg Weight Change: 0.001270769721601007\n",
      "Validation Error: 0.7195153609206554\n",
      "Epoch 13/100, Error: 0.723914974276838, Avg Weight Change: 0.0012552404234598765\n",
      "Validation Error: 0.7225509565053423\n",
      "Epoch 14/100, Error: 0.7279502848461926, Avg Weight Change: 0.0012493311383569737\n",
      "Validation Error: 0.7336582188432211\n",
      "Epoch 15/100, Error: 0.7265978815694979, Avg Weight Change: 0.0012521770582046867\n",
      "Validation Error: 0.7738074323901636\n",
      "Epoch 16/100, Error: 0.7232426296828196, Avg Weight Change: 0.0012501206314308043\n",
      "Validation Error: 0.7366254923583804\n",
      "Epoch 17/100, Error: 0.7226593917021578, Avg Weight Change: 0.0012564854595108778\n",
      "Validation Error: 0.7317667964173855\n",
      "Epoch 18/100, Error: 0.7249005994046062, Avg Weight Change: 0.0012500914435983126\n",
      "Validation Error: 0.7080096593794045\n",
      "Epoch 19/100, Error: 0.7249897234309739, Avg Weight Change: 0.0012370666231097658\n",
      "Validation Error: 0.7563616306695512\n",
      "Epoch 20/100, Error: 0.7261196714867647, Avg Weight Change: 0.0012288183086173823\n",
      "Validation Error: 0.737965559886761\n",
      "Epoch 21/100, Error: 0.7209045264298232, Avg Weight Change: 0.0012359608796252389\n",
      "Validation Error: 0.7180217619360433\n",
      "Epoch 22/100, Error: 0.7237221120155278, Avg Weight Change: 0.0012470826538116858\n",
      "Validation Error: 0.7555740736367436\n",
      "Epoch 23/100, Error: 0.7237854328375132, Avg Weight Change: 0.0012274731340519345\n",
      "Validation Error: 0.7336488412832741\n",
      "Epoch 24/100, Error: 0.7244257525494765, Avg Weight Change: 0.001243437393553139\n",
      "Validation Error: 0.7215037843736185\n",
      "Epoch 25/100, Error: 0.7226177618198728, Avg Weight Change: 0.0012273508964597518\n",
      "Validation Error: 0.7298610668280547\n",
      "Epoch 26/100, Error: 0.7206874646317082, Avg Weight Change: 0.0012287304795806117\n",
      "Validation Error: 0.7094751206648569\n",
      "Epoch 27/100, Error: 0.7218083846102393, Avg Weight Change: 0.0012220107308159155\n",
      "Validation Error: 0.7153184557277802\n",
      "Epoch 28/100, Error: 0.7195795652587632, Avg Weight Change: 0.0012216419425386965\n",
      "Validation Error: 0.7151815758775164\n",
      "Epoch 29/100, Error: 0.7229110686627099, Avg Weight Change: 0.0012282583895642425\n",
      "Validation Error: 0.726882656741074\n",
      "Epoch 30/100, Error: 0.7213178073303624, Avg Weight Change: 0.0012367000744878435\n",
      "Validation Error: 0.7511154650165455\n",
      "Epoch 31/100, Error: 0.7191082461530092, Avg Weight Change: 0.0012211163507728213\n",
      "Validation Error: 0.7089441781241042\n",
      "Epoch 32/100, Error: 0.7188454643117788, Avg Weight Change: 0.0012269597385943633\n",
      "Validation Error: 0.7252403193249269\n",
      "Epoch 33/100, Error: 0.7204795241675035, Avg Weight Change: 0.0012212718353448663\n",
      "Validation Error: 0.7253338989271546\n",
      "Epoch 34/100, Error: 0.7181003797226108, Avg Weight Change: 0.001203549686482916\n",
      "Validation Error: 0.7010513044822564\n",
      "Epoch 35/100, Error: 0.7190831188720886, Avg Weight Change: 0.0011928318119821786\n",
      "Validation Error: 0.7166227812003815\n",
      "Epoch 36/100, Error: 0.7200467151181729, Avg Weight Change: 0.0011898724252917808\n",
      "Validation Error: 0.7404176198491284\n",
      "Epoch 37/100, Error: 0.7200553115386847, Avg Weight Change: 0.001197808130472393\n",
      "Validation Error: 0.7024288704048532\n",
      "Epoch 38/100, Error: 0.7212553036396994, Avg Weight Change: 0.0011953083761832134\n",
      "Validation Error: 0.7556696507736363\n",
      "Epoch 39/100, Error: 0.7218505886558635, Avg Weight Change: 0.0011734398557659551\n",
      "Validation Error: 0.7174973302926781\n",
      "Epoch 40/100, Error: 0.720844795092396, Avg Weight Change: 0.001192299309027492\n",
      "Validation Error: 0.7197220887654598\n",
      "Epoch 41/100, Error: 0.7239764035750456, Avg Weight Change: 0.0011868850514217843\n",
      "Validation Error: 0.7478335284543212\n",
      "Epoch 42/100, Error: 0.7212158404111447, Avg Weight Change: 0.0011933012803296674\n",
      "Validation Error: 0.7098887464635154\n",
      "Epoch 43/100, Error: 0.7199591451566008, Avg Weight Change: 0.0011843796674991676\n",
      "Validation Error: 0.7404631769259996\n",
      "Epoch 44/100, Error: 0.7223635922752462, Avg Weight Change: 0.0012059805071665854\n",
      "Validation Error: 0.7282127422354402\n",
      "Epoch 45/100, Error: 0.7162718458793491, Avg Weight Change: 0.001178109031662393\n",
      "Validation Error: 0.7197344295305492\n",
      "Epoch 46/100, Error: 0.7178665657318154, Avg Weight Change: 0.0011901801043917926\n",
      "Validation Error: 0.714368127951404\n",
      "Epoch 47/100, Error: 0.7159835251065362, Avg Weight Change: 0.0011776304285734526\n",
      "Validation Error: 0.717715696797142\n",
      "Epoch 48/100, Error: 0.7178714231623259, Avg Weight Change: 0.0011783689645001132\n",
      "Validation Error: 0.7299824179421172\n",
      "Epoch 49/100, Error: 0.7183361921024819, Avg Weight Change: 0.0011613972642555974\n",
      "Validation Error: 0.7234255692269026\n",
      "Epoch 50/100, Error: 0.7186593139107269, Avg Weight Change: 0.0011653490389422442\n",
      "Validation Error: 0.7517038584906383\n",
      "Epoch 51/100, Error: 0.7200402102056677, Avg Weight Change: 0.001153838090891098\n",
      "Validation Error: 0.7137622746807397\n",
      "Epoch 52/100, Error: 0.7186398985613816, Avg Weight Change: 0.0011658363576038033\n",
      "Validation Error: 0.7156066902494862\n",
      "Epoch 53/100, Error: 0.7221008347765757, Avg Weight Change: 0.0011693054646900695\n",
      "Validation Error: 0.7203416025698054\n",
      "Epoch 54/100, Error: 0.7199391994687714, Avg Weight Change: 0.0011610417948574778\n",
      "Validation Error: 0.7211533380874859\n",
      "Epoch 55/100, Error: 0.7193365834779144, Avg Weight Change: 0.0011592887108577135\n",
      "Validation Error: 0.715256056579163\n",
      "Epoch 56/100, Error: 0.7191737001314629, Avg Weight Change: 0.0011757702947347377\n",
      "Validation Error: 0.7080040406685357\n",
      "Epoch 57/100, Error: 0.7190561778909551, Avg Weight Change: 0.001161062340496\n",
      "Validation Error: 0.6971354241712536\n",
      "Epoch 58/100, Error: 0.7215048314620662, Avg Weight Change: 0.0011755806053213302\n",
      "Validation Error: 0.7131144480927952\n",
      "Epoch 59/100, Error: 0.7222414514247166, Avg Weight Change: 0.0011862470453669028\n",
      "Validation Error: 0.729971155906074\n",
      "Epoch 60/100, Error: 0.7198819424601335, Avg Weight Change: 0.001152446751056532\n",
      "Validation Error: 0.7224541985539481\n",
      "Epoch 61/100, Error: 0.719044746764067, Avg Weight Change: 0.001154782084322056\n",
      "Validation Error: 0.7117047487067886\n",
      "Epoch 62/100, Error: 0.7221404423135913, Avg Weight Change: 0.0011564482506707333\n",
      "Validation Error: 0.7227356173388776\n",
      "Epoch 63/100, Error: 0.7190972133555388, Avg Weight Change: 0.0011635123811009522\n",
      "Validation Error: 0.7180187169516015\n",
      "Epoch 64/100, Error: 0.7190383779515237, Avg Weight Change: 0.0011433243870155577\n",
      "Validation Error: 0.7207900308804213\n",
      "Epoch 65/100, Error: 0.7178566160771788, Avg Weight Change: 0.001151277972960158\n",
      "Validation Error: 0.7288744932698662\n",
      "Epoch 66/100, Error: 0.7159852220879191, Avg Weight Change: 0.001146393731481978\n",
      "Validation Error: 0.7241705003870849\n",
      "Epoch 67/100, Error: 0.7179787578402935, Avg Weight Change: 0.001160822944499095\n",
      "Validation Error: 0.7247234084050771\n",
      "Epoch 68/100, Error: 0.7204889728164495, Avg Weight Change: 0.00116008798767049\n",
      "Validation Error: 0.7377282563953277\n",
      "Epoch 69/100, Error: 0.7177048892721812, Avg Weight Change: 0.0011564421706543216\n",
      "Validation Error: 0.713823821814871\n",
      "Epoch 70/100, Error: 0.7199804507561312, Avg Weight Change: 0.0011400245660416488\n",
      "Validation Error: 0.7368792535675552\n",
      "Epoch 71/100, Error: 0.7242425425296786, Avg Weight Change: 0.0011628860197799614\n",
      "Validation Error: 0.7146695476981659\n",
      "Epoch 72/100, Error: 0.7173775068100415, Avg Weight Change: 0.0011468196640997928\n",
      "Validation Error: 0.7358245098735459\n",
      "Epoch 73/100, Error: 0.7192608639618514, Avg Weight Change: 0.0011570488954788635\n",
      "Validation Error: 0.7218310366241746\n",
      "Epoch 74/100, Error: 0.7178445694194063, Avg Weight Change: 0.001150255979844559\n",
      "Validation Error: 0.7400368902795841\n",
      "Epoch 75/100, Error: 0.7216149508094934, Avg Weight Change: 0.0011682622019914704\n",
      "Validation Error: 0.7517512264120811\n",
      "Epoch 76/100, Error: 0.7229926617904375, Avg Weight Change: 0.001145772431559913\n",
      "Validation Error: 0.7118995712195766\n",
      "Epoch 77/100, Error: 0.7165642855626553, Avg Weight Change: 0.001140253121650446\n",
      "Validation Error: 0.7289904520343928\n",
      "Epoch 78/100, Error: 0.7201300706627919, Avg Weight Change: 0.0011459097919236173\n",
      "Validation Error: 0.7189895719464714\n",
      "Epoch 79/100, Error: 0.7145716139683294, Avg Weight Change: 0.0011460706564371842\n",
      "Validation Error: 0.705704766670072\n",
      "Epoch 80/100, Error: 0.7184585636052641, Avg Weight Change: 0.0011521925815929537\n",
      "Validation Error: 0.7089258277635112\n",
      "Epoch 81/100, Error: 0.7150646245755339, Avg Weight Change: 0.0011526970508665766\n",
      "Validation Error: 0.7242349711707647\n",
      "Epoch 82/100, Error: 0.7180501441630684, Avg Weight Change: 0.001143712419402232\n",
      "Validation Error: 0.70934251150458\n",
      "Epoch 83/100, Error: 0.7162851676773754, Avg Weight Change: 0.0011354254351765697\n",
      "Validation Error: 0.7100000897705949\n",
      "Epoch 84/100, Error: 0.7164346768040061, Avg Weight Change: 0.001132491755607476\n",
      "Validation Error: 0.7018781776383348\n",
      "Epoch 85/100, Error: 0.7170701253397758, Avg Weight Change: 0.0011411106192648782\n",
      "Validation Error: 0.702831138658917\n",
      "Epoch 86/100, Error: 0.7154769671195996, Avg Weight Change: 0.0011334740559982102\n",
      "Validation Error: 0.706518784615491\n",
      "Epoch 87/100, Error: 0.7193849482084256, Avg Weight Change: 0.0011413681893877791\n",
      "Validation Error: 0.7213319950964225\n",
      "Epoch 88/100, Error: 0.7175498694543979, Avg Weight Change: 0.0011355389367716004\n",
      "Validation Error: 0.7197702667087271\n",
      "Epoch 89/100, Error: 0.7176504706085695, Avg Weight Change: 0.0011378110021753557\n",
      "Validation Error: 0.7269957682163168\n",
      "Epoch 90/100, Error: 0.7196425975701296, Avg Weight Change: 0.0011482824005890455\n",
      "Validation Error: 0.7260726287969881\n",
      "Epoch 91/100, Error: 0.7157412185204248, Avg Weight Change: 0.0011508383145164974\n",
      "Validation Error: 0.7225197794668258\n",
      "Epoch 92/100, Error: 0.7153425175369529, Avg Weight Change: 0.0011470679400102219\n",
      "Validation Error: 0.7663531427982063\n",
      "Epoch 93/100, Error: 0.7192400450247695, Avg Weight Change: 0.0011352735402153774\n",
      "Validation Error: 0.7236204514595883\n",
      "Epoch 94/100, Error: 0.7190827828401141, Avg Weight Change: 0.0011450915645838874\n",
      "Validation Error: 0.7032080219025085\n",
      "Epoch 95/100, Error: 0.7156549895194987, Avg Weight Change: 0.0011427536708157892\n",
      "Validation Error: 0.7399010701699877\n",
      "Epoch 96/100, Error: 0.7158110252138622, Avg Weight Change: 0.0011368376398626335\n",
      "Validation Error: 0.7400715630293484\n",
      "Epoch 97/100, Error: 0.7177794959218398, Avg Weight Change: 0.0011539983438827407\n",
      "Validation Error: 0.7144891044145716\n",
      "Epoch 98/100, Error: 0.7169312501625981, Avg Weight Change: 0.0011349767701894255\n",
      "Validation Error: 0.7113832315968204\n",
      "Epoch 99/100, Error: 0.7162084071990413, Avg Weight Change: 0.0011328600973887172\n",
      "Validation Error: 0.722285938423775\n",
      "Epoch 100/100, Error: 0.7162210278943808, Avg Weight Change: 0.001130347487812368\n",
      "Validation Error: 0.7086514452280646\n"
     ]
    }
   ],
   "source": [
    "from FFNN import NeuralNetwork\n",
    "\n",
    "nn = NeuralNetwork(num_hidden=7, epochs=100, eta=0.01, alpha=0.1)\n",
    "nn.fit(X_train,y_train, X_val, y_val)"
   ]
  },
  {
   "cell_type": "code",
   "execution_count": 143,
   "id": "1653a3fb-971d-4d77-9e7e-ebc27a8498d1",
   "metadata": {},
   "outputs": [
    {
     "data": {
      "text/plain": [
       "0.7144278606965174"
      ]
     },
     "execution_count": 143,
     "metadata": {},
     "output_type": "execute_result"
    }
   ],
   "source": [
    "y_pred = nn.predict(X_test)\n",
    "np.sum(y_test.argmax(axis=1) == y_pred.argmax(axis=1)) / len(y_test)"
   ]
  },
  {
   "cell_type": "code",
   "execution_count": 144,
   "id": "3668873c-661f-4604-9eaa-b8e40498c8c0",
   "metadata": {},
   "outputs": [
    {
     "data": {
      "text/plain": [
       "0.69632"
      ]
     },
     "execution_count": 144,
     "metadata": {},
     "output_type": "execute_result"
    }
   ],
   "source": [
    "y_pred = nn.predict(X_train)\n",
    "np.sum(y_train.argmax(axis=1) == y_pred.argmax(axis=1)) / len(y_train)"
   ]
  },
  {
   "cell_type": "code",
   "execution_count": null,
   "id": "d2377a66-a012-442f-9fe8-10b377d61c2e",
   "metadata": {},
   "outputs": [],
   "source": [
    "X_train = tf.cast(X_train, dtype='float32')\n",
    "X_test = tf.cast(X_test, dtype='float32')\n",
    "X_val = tf.cast(X_val, dtype='float32')\n",
    "\n",
    "y_train = tf.cast(y_train, 'int32')\n",
    "y_test = tf.cast(y_test, 'int32')\n",
    "y_val = tf.cast(y_val, 'int32')"
   ]
  },
  {
   "cell_type": "code",
   "execution_count": null,
   "id": "44aa9aec-f2a0-4e02-80a9-23c7d09949d8",
   "metadata": {},
   "outputs": [],
   "source": [
    "input_shape = (11,)\n",
    "K1 = 7\n",
    "Kout = 4"
   ]
  },
  {
   "cell_type": "code",
   "execution_count": null,
   "id": "ae72319b-22b7-4396-9c7c-1cc98071e998",
   "metadata": {},
   "outputs": [],
   "source": [
    "# Initialise a sequential model\n",
    "model_sequential = Sequential()\n",
    "\n",
    "# Adding layers using the add() method of the Sequential model class - \n",
    "# here we add the input layer.\n",
    "model_sequential.add(\n",
    "    # Add the Input layer. Note this is the tensorflow.keras.layers.Input\n",
    "    Input(shape = input_shape, name='input_layer')\n",
    ")"
   ]
  },
  {
   "cell_type": "code",
   "execution_count": null,
   "id": "3963a9a6-5365-432a-910a-ff91d07581e4",
   "metadata": {},
   "outputs": [],
   "source": [
    "model_sequential.summary()"
   ]
  },
  {
   "cell_type": "code",
   "execution_count": null,
   "id": "b057a71c-8f4f-4550-a839-8d5921320f96",
   "metadata": {},
   "outputs": [],
   "source": [
    "# Add the first hidden layer\n",
    "model_sequential.add(\n",
    "    Dense(units=K1, activation='sigmoid', name='hidden_1')\n",
    ")\n",
    "\n",
    "model_sequential.summary()"
   ]
  },
  {
   "cell_type": "code",
   "execution_count": null,
   "id": "4d103991-b4c0-4b20-b462-17f0ef3a1a02",
   "metadata": {},
   "outputs": [],
   "source": [
    "#Adding output layer\n",
    "model_sequential.add(\n",
    "    Dense(Kout, activation='softmax', name='output_layer')\n",
    ")\n",
    "\n",
    "model_sequential.summary()"
   ]
  },
  {
   "cell_type": "code",
   "execution_count": null,
   "id": "c40f6ee9-3877-45a8-baba-12f1d7946f98",
   "metadata": {},
   "outputs": [],
   "source": [
    "temp_model = Sequential(\n",
    "    [\n",
    "        Input(shape=(11,)),\n",
    "        Dense(units=K1, activation='sigmoid', name='hidden_1'),\n",
    "        Dense(units=Kout, activation='softmax', name='output_layer')\n",
    "    ]\n",
    ")\n",
    "\n",
    "temp_model.summary()"
   ]
  },
  {
   "cell_type": "code",
   "execution_count": null,
   "id": "069c4fcb-4a77-4991-bd81-d718c7140df5",
   "metadata": {},
   "outputs": [],
   "source": [
    "input_layer = Input(shape=(11,))\n",
    "x = Dense(units=K1, activation='sigmoid', name='hidden_1')(input_layer)\n",
    "output_layer = Dense(units=Kout, activation='softmax', name='output_layer')(x)\n",
    "\n",
    "model_functional = Model(inputs = input_layer, outputs = output_layer)"
   ]
  },
  {
   "cell_type": "code",
   "execution_count": null,
   "id": "fcd5fe17-8b59-461d-b4f8-1adabae4ca2f",
   "metadata": {},
   "outputs": [],
   "source": [
    "model_functional.summary()"
   ]
  },
  {
   "cell_type": "code",
   "execution_count": null,
   "id": "79704e03-42e1-4c81-a84e-d36ca2e7c403",
   "metadata": {},
   "outputs": [],
   "source": [
    "last_weight_matrix, last_bias_vector = model_functional.layers[-1].get_weights()"
   ]
  },
  {
   "cell_type": "code",
   "execution_count": null,
   "id": "53449f77-f1d7-4c33-bed0-a63c07038adc",
   "metadata": {},
   "outputs": [],
   "source": [
    "# Use the SGD optimizer with the custom learning rate and momentum\n",
    "optimizer = tf.keras.optimizers.SGD(learning_rate=0.1, momentum=0.5)\n",
    "\n",
    "model_functional.compile(optimizer=optimizer, \n",
    "                         loss='categorical_crossentropy', \n",
    "                         metrics=['acc'])\n",
    "history = model_functional.fit(x=X_train,\n",
    "                               y=y_train,\n",
    "                               epochs=25,\n",
    "                               validation_data=(X_val, y_val),\n",
    "                               verbose=1)"
   ]
  },
  {
   "cell_type": "markdown",
   "id": "4ff2dac6-1a89-49d9-bce9-a7cbb7642c17",
   "metadata": {},
   "source": [
    "## SCG"
   ]
  },
  {
   "cell_type": "code",
   "execution_count": 50,
   "id": "ee9c6294-735a-4d8f-afe5-057e15c3af61",
   "metadata": {
    "scrolled": true
   },
   "outputs": [
    {
     "name": "stdout",
     "output_type": "stream",
     "text": [
      "Training error is: 2.7012704383674175 and validation error is: 2.7131102983678104\n",
      "Training error is: 2.63194002384875 and validation error is: 2.6471351840635595\n",
      "Training error is: 2.5451639639104155 and validation error is: 2.5598013934539425\n",
      "Training error is: 2.3599046404531836 and validation error is: 2.3755726911410346\n",
      "Training error is: 2.256902255731156 and validation error is: 2.3032404249826652\n",
      "Training error is: 2.2126111983579517 and validation error is: 2.269322647365357\n",
      "Training error is: 2.1783323151026885 and validation error is: 2.2227656860060128\n",
      "Training error is: 2.1511676778289743 and validation error is: 2.1946085217285107\n",
      "Training error is: 2.1120342491640516 and validation error is: 2.1697790762586107\n",
      "Training error is: 2.066311922159298 and validation error is: 2.1254682252342656\n",
      "Training error is: 2.0398242139349376 and validation error is: 2.085983280349753\n",
      "Training error is: 1.9933823093408694 and validation error is: 2.038740820876777\n",
      "Training error is: 1.9593382340087315 and validation error is: 2.0107575991600832\n",
      "Training error is: 1.931494954499648 and validation error is: 1.9831345682956352\n",
      "Training error is: 1.910952835571074 and validation error is: 1.9636501156694286\n",
      "Training error is: 1.892437666347125 and validation error is: 1.9499107839581604\n",
      "Training error is: 1.8535945828961264 and validation error is: 1.9193092220776524\n",
      "Training error is: 1.8207919070645555 and validation error is: 1.8971683409304372\n"
     ]
    },
    {
     "ename": "KeyboardInterrupt",
     "evalue": "",
     "output_type": "error",
     "traceback": [
      "\u001b[1;31m---------------------------------------------------------------------------\u001b[0m",
      "\u001b[1;31mKeyboardInterrupt\u001b[0m                         Traceback (most recent call last)",
      "Cell \u001b[1;32mIn[50], line 4\u001b[0m\n\u001b[0;32m      1\u001b[0m \u001b[38;5;28;01mfrom\u001b[39;00m \u001b[38;5;21;01mScaledConjugateGradient\u001b[39;00m \u001b[38;5;28;01mimport\u001b[39;00m SCG\n\u001b[0;32m      3\u001b[0m scg \u001b[38;5;241m=\u001b[39m SCG(num_hidden\u001b[38;5;241m=\u001b[39m\u001b[38;5;241m100\u001b[39m, bias\u001b[38;5;241m=\u001b[39m\u001b[38;5;241m-\u001b[39m\u001b[38;5;241m1\u001b[39m, max_iter\u001b[38;5;241m=\u001b[39m\u001b[38;5;241m10000\u001b[39m,random_state\u001b[38;5;241m=\u001b[39m\u001b[38;5;241m0\u001b[39m,reg_parameter\u001b[38;5;241m=\u001b[39m\u001b[38;5;241m0.003\u001b[39m)\n\u001b[1;32m----> 4\u001b[0m \u001b[43mscg\u001b[49m\u001b[38;5;241;43m.\u001b[39;49m\u001b[43mfit\u001b[49m\u001b[43m(\u001b[49m\u001b[43mX_train\u001b[49m\u001b[43m,\u001b[49m\u001b[43m \u001b[49m\u001b[43my_train\u001b[49m\u001b[43m,\u001b[49m\u001b[43m \u001b[49m\u001b[43mX_temp\u001b[49m\u001b[43m,\u001b[49m\u001b[43m \u001b[49m\u001b[43my_temp\u001b[49m\u001b[43m)\u001b[49m\n",
      "File \u001b[1;32mD:\\ML441\\ML441Assignments\\Assignment2\\ScaledConjugateGradient.py:218\u001b[0m, in \u001b[0;36mSCG.fit\u001b[1;34m(self, X, y, X_val, y_val)\u001b[0m\n\u001b[0;32m    215\u001b[0m     \u001b[38;5;28mself\u001b[39m\u001b[38;5;241m.\u001b[39mlambda_parameter \u001b[38;5;241m=\u001b[39m \u001b[38;5;28mself\u001b[39m\u001b[38;5;241m.\u001b[39mlambda_parameter \u001b[38;5;241m*\u001b[39m \u001b[38;5;241m4\u001b[39m\n\u001b[0;32m    217\u001b[0m \u001b[38;5;66;03m# Calculate the training and validation error and check for overfitting\u001b[39;00m\n\u001b[1;32m--> 218\u001b[0m t_error \u001b[38;5;241m=\u001b[39m \u001b[38;5;28;43mself\u001b[39;49m\u001b[38;5;241;43m.\u001b[39;49m\u001b[43mcalculate_error_for_weights\u001b[49m\u001b[43m(\u001b[49m\u001b[38;5;28;43mself\u001b[39;49m\u001b[38;5;241;43m.\u001b[39;49m\u001b[43mweights\u001b[49m\u001b[43m,\u001b[49m\u001b[43m \u001b[49m\u001b[43mX\u001b[49m\u001b[43m,\u001b[49m\u001b[43m \u001b[49m\u001b[43my\u001b[49m\u001b[43m)\u001b[49m\n\u001b[0;32m    219\u001b[0m val_error \u001b[38;5;241m=\u001b[39m \u001b[38;5;28mself\u001b[39m\u001b[38;5;241m.\u001b[39mcalculate_error_for_weights(\u001b[38;5;28mself\u001b[39m\u001b[38;5;241m.\u001b[39mweights,X_val,y_val)\n\u001b[0;32m    220\u001b[0m \u001b[38;5;28mprint\u001b[39m(\u001b[38;5;124mf\u001b[39m\u001b[38;5;124m\"\u001b[39m\u001b[38;5;124mTraining error is: \u001b[39m\u001b[38;5;132;01m{\u001b[39;00mt_error\u001b[38;5;132;01m}\u001b[39;00m\u001b[38;5;124m and validation error is: \u001b[39m\u001b[38;5;132;01m{\u001b[39;00mval_error\u001b[38;5;132;01m}\u001b[39;00m\u001b[38;5;124m\"\u001b[39m)\n",
      "File \u001b[1;32mD:\\ML441\\ML441Assignments\\Assignment2\\ScaledConjugateGradient.py:103\u001b[0m, in \u001b[0;36mSCG.calculate_error_for_weights\u001b[1;34m(self, weights, X, y)\u001b[0m\n\u001b[0;32m    102\u001b[0m \u001b[38;5;28;01mdef\u001b[39;00m \u001b[38;5;21mcalculate_error_for_weights\u001b[39m(\u001b[38;5;28mself\u001b[39m, weights, X, y):\n\u001b[1;32m--> 103\u001b[0m     _, output \u001b[38;5;241m=\u001b[39m \u001b[38;5;28;43mself\u001b[39;49m\u001b[38;5;241;43m.\u001b[39;49m\u001b[43mforward_pass\u001b[49m\u001b[43m(\u001b[49m\u001b[43mX\u001b[49m\u001b[43m,\u001b[49m\u001b[43m \u001b[49m\u001b[43mweights\u001b[49m\u001b[43m)\u001b[49m\n\u001b[0;32m    104\u001b[0m     \u001b[38;5;28;01mreturn\u001b[39;00m \u001b[38;5;28mself\u001b[39m\u001b[38;5;241m.\u001b[39mcalculate_error(y, output)\n",
      "File \u001b[1;32mD:\\ML441\\ML441Assignments\\Assignment2\\ScaledConjugateGradient.py:73\u001b[0m, in \u001b[0;36mSCG.forward_pass\u001b[1;34m(self, X, weights)\u001b[0m\n\u001b[0;32m     70\u001b[0m hidden_weights \u001b[38;5;241m=\u001b[39m \u001b[38;5;28mself\u001b[39m\u001b[38;5;241m.\u001b[39mget_hidden_weights(weights)\n\u001b[0;32m     71\u001b[0m output_weights \u001b[38;5;241m=\u001b[39m \u001b[38;5;28mself\u001b[39m\u001b[38;5;241m.\u001b[39mget_output_weights(weights)\n\u001b[1;32m---> 73\u001b[0m hidden_output \u001b[38;5;241m=\u001b[39m \u001b[38;5;28mself\u001b[39m\u001b[38;5;241m.\u001b[39mrelu(\u001b[43mnp\u001b[49m\u001b[38;5;241;43m.\u001b[39;49m\u001b[43mdot\u001b[49m\u001b[43m(\u001b[49m\u001b[43mX_with_bias\u001b[49m\u001b[43m,\u001b[49m\u001b[43m \u001b[49m\u001b[43mhidden_weights\u001b[49m\u001b[38;5;241;43m.\u001b[39;49m\u001b[43mT\u001b[49m\u001b[43m)\u001b[49m)\n\u001b[0;32m     74\u001b[0m hidden_bias \u001b[38;5;241m=\u001b[39m \u001b[38;5;28mself\u001b[39m\u001b[38;5;241m.\u001b[39mbias \u001b[38;5;241m*\u001b[39m np\u001b[38;5;241m.\u001b[39mones(num_samples)\n\u001b[0;32m     75\u001b[0m hidden_output_with_bias \u001b[38;5;241m=\u001b[39m np\u001b[38;5;241m.\u001b[39mcolumn_stack([hidden_output, hidden_bias])\n",
      "\u001b[1;31mKeyboardInterrupt\u001b[0m: "
     ]
    }
   ],
   "source": [
    "from ScaledConjugateGradient import SCG\n",
    "\n",
    "scg = SCG(num_hidden=100, bias=-1, max_iter=10000,random_state=0,reg_parameter=0.003)\n",
    "scg.fit(X_train, y_train, X_temp, y_temp)"
   ]
  },
  {
   "cell_type": "code",
   "execution_count": null,
   "id": "8fb6c315-00c7-4ac2-a0ab-cbf201d28894",
   "metadata": {},
   "outputs": [],
   "source": [
    "y_pred = np.argmax(scg.predict(X_test), axis=1)\n",
    "np.sum((y_pred == np.argmax(y_test, axis=1))) / len(y_pred)"
   ]
  },
  {
   "cell_type": "code",
   "execution_count": 42,
   "id": "56be592b-ac3b-46cd-99e3-3d33ff230d42",
   "metadata": {},
   "outputs": [
    {
     "data": {
      "text/plain": [
       "0.7782857142857142"
      ]
     },
     "execution_count": 42,
     "metadata": {},
     "output_type": "execute_result"
    }
   ],
   "source": [
    "y_pred = np.argmax(scg.predict(X_train), axis=1)\n",
    "np.sum((y_pred == np.argmax(y_train, axis=1))) / len(y_pred)"
   ]
  },
  {
   "cell_type": "code",
   "execution_count": 46,
   "id": "915a57f0-78be-47ad-8dfe-922d2c5526c4",
   "metadata": {},
   "outputs": [
    {
     "data": {
      "image/png": "[encoded data removed]",
      "text/plain": [
       "<Figure size 640x480 with 1 Axes>"
      ]
     },
     "metadata": {},
     "output_type": "display_data"
    }
   ],
   "source": [
    "plt.figure()\n",
    "\n",
    "plt.plot(np.asarray(scg.validation_error))\n",
    "plt.plot(np.asarray(scg.training_error))\n",
    "\n",
    "plt.legend(['test', 'train'])\n",
    "plt.show()"
   ]
  },
  {
   "cell_type": "markdown",
   "id": "35df0d59-a6cb-4bae-866a-a92e523b0238",
   "metadata": {},
   "source": [
    "## Leap Frog"
   ]
  },
  {
   "cell_type": "code",
   "execution_count": 51,
   "id": "48620c0f-8367-4efe-b3bd-25b81c713f4c",
   "metadata": {
    "scrolled": true
   },
   "outputs": [
    {
     "name": "stdout",
     "output_type": "stream",
     "text": [
      "Training error is: 2.840188390602383 and validation error is: 2.8421111012422173\n",
      "Training error is: 2.8387653046072634 and validation error is: 2.840816697916776\n",
      "Training error is: 2.8364470192844724 and validation error is: 2.8387111721805534\n",
      "Training error is: 2.8332889860397152 and validation error is: 2.835841517323864\n",
      "Training error is: 2.8293196744225426 and validation error is: 2.8322320326070614\n",
      "Training error is: 2.824498385683244 and validation error is: 2.8278366344431043\n",
      "Training error is: 2.8186881229220604 and validation error is: 2.8225095856495703\n",
      "Training error is: 2.8116694877942403 and validation error is: 2.816042848395084\n",
      "Training error is: 2.803144870521207 and validation error is: 2.808129509938587\n",
      "Training error is: 2.7927575533574087 and validation error is: 2.798425743433132\n",
      "Training error is: 2.7801093775426304 and validation error is: 2.7865251637860515\n",
      "Training error is: 2.7648018004502153 and validation error is: 2.772028051508418\n",
      "Training error is: 2.7464877281150506 and validation error is: 2.7546049136278725\n",
      "Training error is: 2.7249996045157214 and validation error is: 2.7340616767037105\n",
      "Training error is: 2.700461033896374 and validation error is: 2.7104968138631036\n",
      "Training error is: 2.6730590498620965 and validation error is: 2.6840974262837727\n",
      "Training error is: 2.6420262618236423 and validation error is: 2.654102082794686\n",
      "Training error is: 2.604390025366262 and validation error is: 2.617571579634019\n",
      "Training error is: 2.5569225641990045 and validation error is: 2.5712578212238086\n",
      "Training error is: 2.5014839600797893 and validation error is: 2.5169255242038564\n",
      "Training error is: 2.4448676317762508 and validation error is: 2.461172134787733\n",
      "Training error is: 2.390580159242732 and validation error is: 2.4074400544878958\n",
      "Training error is: 2.3359589779439554 and validation error is: 2.3534180693128177\n",
      "Training error is: 2.2776193354633913 and validation error is: 2.296917358131199\n",
      "Training error is: 2.2182511513709855 and validation error is: 2.2420556569966688\n",
      "Training error is: 2.1657802700728572 and validation error is: 2.197137385373865\n",
      "Training error is: 2.1210807639497125 and validation error is: 2.161041420996633\n",
      "Training error is: 2.080763885018847 and validation error is: 2.1252949086891126\n",
      "Training error is: 2.056311467848952 and validation error is: 2.097668586126681\n",
      "Training error is: 2.0509726256681753 and validation error is: 2.0906192418022385\n",
      "Training error is: 2.0473960411992964 and validation error is: 2.087793540663249\n",
      "Training error is: 2.034625071219237 and validation error is: 2.083620361144787\n",
      "Training error is: 2.029094438082096 and validation error is: 2.0849012823775097\n",
      "Training error is: 2.0068065495908294 and validation error is: 2.0600999727027713\n",
      "Training error is: 1.98642584756271 and validation error is: 2.035021242190702\n",
      "Training error is: 1.9555523827105823 and validation error is: 2.0073404802423735\n",
      "Training error is: 1.9316415182601472 and validation error is: 1.9846209473592318\n",
      "Training error is: 1.91030726952289 and validation error is: 1.9609122784184225\n",
      "Training error is: 1.8927384757864238 and validation error is: 1.9545404756279057\n",
      "Training error is: 1.8883966435766593 and validation error is: 1.9528181255388273\n",
      "Training error is: 1.8774977627082197 and validation error is: 1.9403354134135602\n",
      "Training error is: 1.870952507775021 and validation error is: 1.9326401110425295\n",
      "Training error is: 1.864995005763689 and validation error is: 1.926465307437359\n",
      "Training error is: 1.8570450359229491 and validation error is: 1.920700958632238\n",
      "Training error is: 1.846368493012452 and validation error is: 1.914698606952257\n",
      "Training error is: 1.8352503384047827 and validation error is: 1.9095141542754748\n",
      "Training error is: 1.8234974882030568 and validation error is: 1.903246743176073\n",
      "Training error is: 1.8099246620446452 and validation error is: 1.8935636021554645\n",
      "Training error is: 1.7968670106262379 and validation error is: 1.8830856996166006\n",
      "Training error is: 1.7860744173946057 and validation error is: 1.8750777340719251\n",
      "Training error is: 1.7753292088778798 and validation error is: 1.8688890214597396\n",
      "Training error is: 1.7647249145773962 and validation error is: 1.8647681710553048\n",
      "Training error is: 1.7561737018933812 and validation error is: 1.863411161093328\n",
      "Training error is: 1.748390751467803 and validation error is: 1.8617314148176705\n",
      "Training error is: 1.7396087520082286 and validation error is: 1.8569527902298724\n",
      "Training error is: 1.7313133349836385 and validation error is: 1.8511203848405473\n",
      "Training error is: 1.7241665451679236 and validation error is: 1.8469109798270371\n",
      "Training error is: 1.7158167729507312 and validation error is: 1.84387281007223\n",
      "Training error is: 1.7064894844193286 and validation error is: 1.8425288155242376\n",
      "Training error is: 1.6974936476822673 and validation error is: 1.8421186141657493\n",
      "Training error is: 1.6882716470342496 and validation error is: 1.8397033956273559\n",
      "Training error is: 1.6786460900147697 and validation error is: 1.8343675189756143\n",
      "Training error is: 1.6692848316650475 and validation error is: 1.828116765313706\n",
      "Training error is: 1.660285802954452 and validation error is: 1.8237166264536468\n",
      "Training error is: 1.652817560485653 and validation error is: 1.8240260738696077\n",
      "Training error is: 1.645864007985115 and validation error is: 1.8269948815664443\n",
      "Training error is: 1.6388641589376787 and validation error is: 1.829824254036159\n",
      "Training error is: 1.6341991319352556 and validation error is: 1.8336024269265017\n",
      "Training error is: 1.630514022743113 and validation error is: 1.8375117572042252\n",
      "Training error is: 1.6279218947514773 and validation error is: 1.8431574386213778\n",
      "Training error is: 1.6251454674899364 and validation error is: 1.8494162826590053\n",
      "Training error is: 1.6176117100019685 and validation error is: 1.8517956133544793\n",
      "Training error is: 1.6142258113196648 and validation error is: 1.8597999330735264\n",
      "Training error is: 1.6101109782475018 and validation error is: 1.8683403832399645\n",
      "Training error is: 1.6073917961459954 and validation error is: 1.8707581371625868\n",
      "Training error is: 1.6060512450195268 and validation error is: 1.8740142709476726\n",
      "Training error is: 1.597298558426091 and validation error is: 1.8685933988421226\n",
      "Training error is: 1.5854764868037408 and validation error is: 1.864275541582337\n",
      "Training error is: 1.5728479417686148 and validation error is: 1.8585226076399575\n",
      "Training error is: 1.5587831881982592 and validation error is: 1.8434932679850606\n",
      "Training error is: 1.54379634011603 and validation error is: 1.828658153487508\n",
      "Training error is: 1.533210240069352 and validation error is: 1.8209965513131103\n",
      "Training error is: 1.5256339494788183 and validation error is: 1.8137186088464388\n",
      "Training error is: 1.5184398473284304 and validation error is: 1.8100881952308563\n",
      "Training error is: 1.5475106821569355 and validation error is: 1.836613775030351\n",
      "Training error is: 1.7585371880488596 and validation error is: 2.076213069328121\n",
      "Training error is: 1.5162223097354361 and validation error is: 1.804078186755913\n",
      "Training error is: 1.4992429224261856 and validation error is: 1.7856125446846067\n",
      "Training error is: 1.4945126192829656 and validation error is: 1.782143761576683\n",
      "Training error is: 1.4908281334195395 and validation error is: 1.7844351113641932\n",
      "Training error is: 1.4831082897375159 and validation error is: 1.7812912322344139\n",
      "Training error is: 1.4789302452586148 and validation error is: 1.7755255112737975\n",
      "Training error is: 1.4679149993537204 and validation error is: 1.755671188991534\n",
      "Training error is: 1.4635869019691143 and validation error is: 1.7454057490094097\n",
      "Training error is: 1.457575686958508 and validation error is: 1.7392215385452945\n",
      "Training error is: 1.4463825874605742 and validation error is: 1.7321343294319045\n",
      "Training error is: 1.4444590664395083 and validation error is: 1.7360527307505473\n",
      "Training error is: 1.4345329993050462 and validation error is: 1.7254183607585576\n",
      "Training error is: 1.4297668353542075 and validation error is: 1.7159614909366356\n",
      "Training error is: 1.4264596110237537 and validation error is: 1.7085326420650868\n",
      "Training error is: 1.4176785330001045 and validation error is: 1.698419428185726\n",
      "Training error is: 1.417489710062464 and validation error is: 1.7015615180268524\n",
      "Training error is: 1.409530553393731 and validation error is: 1.6951172516235773\n",
      "Training error is: 1.4045788708756195 and validation error is: 1.6887934656224246\n",
      "Training error is: 1.4027673342500968 and validation error is: 1.6853722131041982\n",
      "Training error is: 1.398515481484247 and validation error is: 1.677213621978888\n",
      "Training error is: 1.393943275227057 and validation error is: 1.6693117548811538\n",
      "Training error is: 1.3898303484076275 and validation error is: 1.6644175253045699\n",
      "Training error is: 1.3836090027535497 and validation error is: 1.658739169506657\n",
      "Training error is: 1.3784976947667773 and validation error is: 1.6535989924517116\n",
      "Training error is: 1.3737619082250254 and validation error is: 1.6470552211225655\n",
      "Training error is: 1.3686048526290242 and validation error is: 1.6392169476517409\n",
      "Training error is: 1.364856660477583 and validation error is: 1.6335927263488195\n",
      "Training error is: 1.3614943242510311 and validation error is: 1.6290202673231002\n",
      "Training error is: 1.358282708405602 and validation error is: 1.624134048163179\n",
      "Training error is: 1.3553443237241005 and validation error is: 1.6188434703576258\n",
      "Training error is: 1.3531069973554 and validation error is: 1.614729494112169\n",
      "Training error is: 1.3499704533367327 and validation error is: 1.6105882770063067\n",
      "Training error is: 1.3480281600531843 and validation error is: 1.607103614548473\n",
      "Training error is: 1.3455190290009693 and validation error is: 1.6012001713263189\n",
      "Training error is: 1.3419362057520647 and validation error is: 1.5937871591307275\n",
      "Training error is: 1.3394157781433975 and validation error is: 1.590464689950684\n",
      "Training error is: 1.3354227021129486 and validation error is: 1.587601510660114\n",
      "Training error is: 1.33297716005495 and validation error is: 1.5831835363733275\n",
      "Training error is: 1.330241292020708 and validation error is: 1.5746105758706141\n",
      "Training error is: 1.3281871261345213 and validation error is: 1.5688539181763046\n",
      "Training error is: 1.3264088267754963 and validation error is: 1.5683830682538464\n",
      "Training error is: 1.3244713117373563 and validation error is: 1.5660020204403162\n",
      "Training error is: 1.3239956898451501 and validation error is: 1.5595514090876086\n",
      "Training error is: 1.3223549081957753 and validation error is: 1.5548509882127388\n",
      "Training error is: 1.3222846806038595 and validation error is: 1.5593037675530463\n",
      "Training error is: 1.3209150488766743 and validation error is: 1.5601677888800713\n",
      "Training error is: 1.3204269397263224 and validation error is: 1.5570170536575252\n",
      "Training error is: 1.3203639114833994 and validation error is: 1.5583414401191948\n",
      "Training error is: 1.3184976307173604 and validation error is: 1.5585566184565511\n",
      "Training error is: 1.3179570200130877 and validation error is: 1.559097105123687\n",
      "Training error is: 1.3158799714439013 and validation error is: 1.5563503260813207\n",
      "Training error is: 1.313172251202774 and validation error is: 1.5533846801367672\n",
      "Training error is: 1.311144597295552 and validation error is: 1.5524360491326479\n",
      "Training error is: 1.309203756235957 and validation error is: 1.5507977296071727\n",
      "Training error is: 1.307524321065899 and validation error is: 1.5488112759519033\n",
      "Training error is: 1.3056241815332332 and validation error is: 1.5486208819124885\n",
      "Training error is: 1.3045338571282876 and validation error is: 1.5490320872529837\n",
      "Training error is: 1.3027463453848473 and validation error is: 1.546525468756271\n",
      "Training error is: 1.3012316446558305 and validation error is: 1.545257566953745\n",
      "Training error is: 1.2993820377565122 and validation error is: 1.5433466879339348\n",
      "Training error is: 1.297913823364842 and validation error is: 1.5406111713685817\n",
      "Training error is: 1.2955457957767227 and validation error is: 1.5400466171120866\n",
      "Training error is: 1.2931668015330855 and validation error is: 1.5398501724786997\n",
      "Training error is: 1.2917166181045767 and validation error is: 1.5382432087503015\n",
      "Training error is: 1.2902557500491918 and validation error is: 1.5381045369432562\n",
      "Training error is: 1.2892979898833563 and validation error is: 1.5390656559967186\n",
      "Training error is: 1.2882550485333764 and validation error is: 1.5360097816117335\n",
      "Training error is: 1.287626924404927 and validation error is: 1.5369796331361392\n",
      "Training error is: 1.2867467861497 and validation error is: 1.5356716635332623\n",
      "Training error is: 1.2858280856792492 and validation error is: 1.5349271876293742\n",
      "Training error is: 1.284961669230745 and validation error is: 1.5341442789306372\n",
      "Training error is: 1.2838572306533385 and validation error is: 1.5333028448540493\n",
      "Training error is: 1.2826030935382051 and validation error is: 1.5324743624323518\n",
      "Training error is: 1.2813454207965003 and validation error is: 1.5315999678637402\n",
      "Training error is: 1.2801538714393916 and validation error is: 1.530534030727587\n",
      "Training error is: 1.2790087321744799 and validation error is: 1.5292579204013894\n",
      "Training error is: 1.2778981805434646 and validation error is: 1.5278986464889759\n",
      "Training error is: 1.2767826863175427 and validation error is: 1.5265179307296362\n",
      "Training error is: 1.2756878001538734 and validation error is: 1.5251504765453863\n",
      "Training error is: 1.2746755065965818 and validation error is: 1.5236878722106906\n",
      "Training error is: 1.2737264986535508 and validation error is: 1.5220247033771157\n",
      "Training error is: 1.2727811626283143 and validation error is: 1.520302969194437\n",
      "Training error is: 1.2717667683984493 and validation error is: 1.5187694499026736\n",
      "Training error is: 1.2706542800550953 and validation error is: 1.5176162426783053\n",
      "Training error is: 1.2694234145068877 and validation error is: 1.516677230284694\n",
      "Training error is: 1.2681655297014611 and validation error is: 1.5156958250777413\n",
      "Training error is: 1.2670295338668192 and validation error is: 1.5146008278394416\n",
      "Training error is: 1.2659257965168265 and validation error is: 1.5132582855958772\n",
      "Training error is: 1.264840820620397 and validation error is: 1.5118359609029377\n",
      "Training error is: 1.2637564764379232 and validation error is: 1.5103499959987434\n",
      "Training error is: 1.2626093946341772 and validation error is: 1.5085644568778545\n",
      "Training error is: 1.261557114971874 and validation error is: 1.506487456420246\n",
      "Training error is: 1.2606703437944533 and validation error is: 1.504389788135677\n",
      "Training error is: 1.2600301545542596 and validation error is: 1.5027351186223803\n",
      "Training error is: 1.2596510453964038 and validation error is: 1.5016874611538753\n",
      "Training error is: 1.2594105592631393 and validation error is: 1.5008476126917738\n",
      "Training error is: 1.2592516523431136 and validation error is: 1.4996613330963338\n",
      "Training error is: 1.2592307958114581 and validation error is: 1.4983918959140545\n",
      "Training error is: 1.2591537432874476 and validation error is: 1.4977816506635664\n",
      "Training error is: 1.2590383696115253 and validation error is: 1.4975584062789857\n",
      "Training error is: 1.2588687457422774 and validation error is: 1.496041750578828\n",
      "Training error is: 1.2588405346706226 and validation error is: 1.4943555288468158\n",
      "Training error is: 1.258642463409442 and validation error is: 1.4943622123830478\n",
      "Training error is: 1.2585014334236695 and validation error is: 1.4943987422477536\n",
      "Training error is: 1.2575473658996728 and validation error is: 1.493993553008284\n",
      "Training error is: 1.2563312671504785 and validation error is: 1.4932640973855116\n",
      "Training error is: 1.2552526692319832 and validation error is: 1.4935030234273117\n",
      "Training error is: 1.2541846773636878 and validation error is: 1.4927365092394074\n",
      "Training error is: 1.2530899371141444 and validation error is: 1.4917415319961567\n",
      "Training error is: 1.2526056393283929 and validation error is: 1.490853222648055\n",
      "Training error is: 1.2581743317323353 and validation error is: 1.4991227606527926\n",
      "Training error is: 1.3320384812452906 and validation error is: 1.567007367638012\n",
      "Training error is: 1.2533086309254173 and validation error is: 1.4904682910059925\n",
      "Training error is: 1.2508371537073217 and validation error is: 1.4894100050318742\n",
      "Training error is: 1.2523149326948095 and validation error is: 1.4920813459428632\n",
      "Training error is: 1.2492586496897444 and validation error is: 1.4884203361543797\n",
      "Training error is: 1.2491618584080575 and validation error is: 1.4879693521344493\n",
      "Training error is: 1.2493621384318445 and validation error is: 1.4880828811365858\n",
      "Training error is: 1.2477653575835133 and validation error is: 1.4867120992926313\n",
      "Training error is: 1.247778375441228 and validation error is: 1.4869074189657088\n",
      "Training error is: 1.247688235243293 and validation error is: 1.4868264141168905\n",
      "Training error is: 1.2467468509889326 and validation error is: 1.4854273107228324\n",
      "Training error is: 1.2469193363624569 and validation error is: 1.4854830790826008\n",
      "Training error is: 1.245981229022761 and validation error is: 1.4848733632642044\n",
      "Training error is: 1.2455634714413928 and validation error is: 1.4846399510597665\n",
      "Training error is: 1.2453979757572062 and validation error is: 1.4844976761090263\n",
      "Training error is: 1.2449770581853823 and validation error is: 1.4836025166677653\n",
      "Training error is: 1.2446957916678614 and validation error is: 1.4828922578074024\n",
      "Training error is: 1.2442592635030023 and validation error is: 1.4825654368579264\n",
      "Training error is: 1.243848871998686 and validation error is: 1.4826292728984587\n",
      "Training error is: 1.2434511711046572 and validation error is: 1.4824094935155978\n",
      "Training error is: 1.2429297010994356 and validation error is: 1.481511387911131\n",
      "Training error is: 1.2425590481061266 and validation error is: 1.480736599941581\n",
      "Training error is: 1.2419794907454822 and validation error is: 1.4802506117185925\n",
      "Training error is: 1.2415802459351095 and validation error is: 1.4803150813417008\n",
      "Training error is: 1.2410237516532163 and validation error is: 1.4800033555631522\n",
      "Training error is: 1.2405537633440433 and validation error is: 1.479375258526486\n",
      "Training error is: 1.2400803626813768 and validation error is: 1.478714123136185\n",
      "Training error is: 1.2395475936122318 and validation error is: 1.4782594774011883\n",
      "Training error is: 1.2391605635397194 and validation error is: 1.4780808157204646\n",
      "Training error is: 1.2386087174818314 and validation error is: 1.47762424421234\n",
      "Training error is: 1.2382749609747812 and validation error is: 1.4773487620254242\n",
      "Training error is: 1.2377935413218213 and validation error is: 1.4769069010176543\n",
      "Training error is: 1.2374872071762868 and validation error is: 1.4765107911853648\n",
      "Training error is: 1.2371164488884898 and validation error is: 1.4759324068395556\n",
      "Training error is: 1.2368410704807746 and validation error is: 1.4756675660013494\n",
      "Training error is: 1.2365537222412302 and validation error is: 1.4756748616158255\n",
      "Training error is: 1.2363410945047035 and validation error is: 1.4755650849994466\n",
      "Training error is: 1.2361136134818718 and validation error is: 1.4749248897380176\n",
      "Training error is: 1.2359553877888412 and validation error is: 1.4744555045605774\n",
      "Training error is: 1.2357759094705605 and validation error is: 1.474604744474615\n",
      "Training error is: 1.2356556182107201 and validation error is: 1.4748344628623422\n",
      "Training error is: 1.2355523848545915 and validation error is: 1.4742853405744114\n",
      "Training error is: 1.2354273990790472 and validation error is: 1.4737644156294563\n",
      "Training error is: 1.2353810123169193 and validation error is: 1.4735369237822293\n",
      "Training error is: 1.2352749730903025 and validation error is: 1.473742829418284\n",
      "Training error is: 1.2351776452611587 and validation error is: 1.4738620339051893\n",
      "Training error is: 1.2350259393840026 and validation error is: 1.4733700149373825\n",
      "Training error is: 1.2349028073574315 and validation error is: 1.4728582370920558\n",
      "Training error is: 1.234729587634021 and validation error is: 1.4728912148884954\n",
      "Training error is: 1.2345938450278686 and validation error is: 1.4732414210677627\n",
      "Training error is: 1.2344339859210334 and validation error is: 1.4730260207797894\n",
      "Training error is: 1.234291881622481 and validation error is: 1.4723931674631148\n",
      "Training error is: 1.234144128157984 and validation error is: 1.4721652462496755\n",
      "Training error is: 1.2340061761413983 and validation error is: 1.4723710423628484\n",
      "Training error is: 1.2338561451164693 and validation error is: 1.4720920418767631\n",
      "Training error is: 1.2337060284621382 and validation error is: 1.4713046941665393\n",
      "Training error is: 1.23355530410551 and validation error is: 1.4709730533710792\n",
      "Training error is: 1.2334134996636577 and validation error is: 1.4711136919179157\n",
      "Training error is: 1.2332533796400502 and validation error is: 1.4706757343240198\n",
      "Training error is: 1.2331197689052003 and validation error is: 1.4699138948210408\n",
      "Training error is: 1.2329792898309668 and validation error is: 1.469865763495585\n",
      "Training error is: 1.2328440242578265 and validation error is: 1.4700377938990468\n",
      "Training error is: 1.2327303873798625 and validation error is: 1.4695254864940217\n",
      "Training error is: 1.2325931125838383 and validation error is: 1.4690396570071145\n",
      "Training error is: 1.232473239850611 and validation error is: 1.469119710141717\n",
      "Training error is: 1.2323759373119094 and validation error is: 1.4690154873665737\n",
      "Training error is: 1.232215259766269 and validation error is: 1.46858976062419\n",
      "Training error is: 1.2320846967828292 and validation error is: 1.468398002531841\n",
      "Training error is: 1.2319453677172985 and validation error is: 1.4687044218892855\n",
      "Training error is: 1.2317817368467927 and validation error is: 1.4685819269974458\n",
      "Training error is: 1.2316416087980993 and validation error is: 1.4679069796342685\n",
      "Training error is: 1.231468121976753 and validation error is: 1.468110247282623\n",
      "Training error is: 1.231311871578662 and validation error is: 1.4681390116414552\n",
      "Training error is: 1.2311832381543018 and validation error is: 1.4673550146473788\n",
      "Training error is: 1.2309899338978563 and validation error is: 1.467639061560046\n",
      "Training error is: 1.2308297727389497 and validation error is: 1.4678071001545394\n",
      "Training error is: 1.2306939738592608 and validation error is: 1.4672087103169251\n",
      "Training error is: 1.2305123228677062 and validation error is: 1.4674858032079707\n",
      "Training error is: 1.2303372947679834 and validation error is: 1.4677098103341706\n",
      "Training error is: 1.23017848581686 and validation error is: 1.4674014587249027\n",
      "Training error is: 1.2300176889995549 and validation error is: 1.4675527693048025\n",
      "Training error is: 1.229856154119486 and validation error is: 1.4676978929488351\n",
      "Training error is: 1.2296837517353234 and validation error is: 1.4676978965971492\n",
      "Training error is: 1.229536571128417 and validation error is: 1.467661375047451\n",
      "Training error is: 1.2294046290277105 and validation error is: 1.4678833135649434\n",
      "Training error is: 1.2292668625536867 and validation error is: 1.4681320109269642\n",
      "Training error is: 1.229145710297562 and validation error is: 1.467900343437356\n",
      "Training error is: 1.2290307810788106 and validation error is: 1.468290253403778\n",
      "Training error is: 1.228921565824279 and validation error is: 1.468476379841674\n",
      "Training error is: 1.2288598309384402 and validation error is: 1.4681978046167734\n",
      "Training error is: 1.22877683752397 and validation error is: 1.4689479073851799\n",
      "Training error is: 1.2286798463098743 and validation error is: 1.4688604644920504\n",
      "Training error is: 1.228650773085563 and validation error is: 1.4688038387197113\n",
      "Training error is: 1.2286381776725368 and validation error is: 1.4696243546442023\n",
      "Training error is: 1.2285860187064892 and validation error is: 1.469468623774417\n",
      "Training error is: 1.2285766111512655 and validation error is: 1.4696822764251078\n",
      "Training error is: 1.228532026441362 and validation error is: 1.4698005043826992\n",
      "Training error is: 1.2285114627681313 and validation error is: 1.4698945393912113\n",
      "Training error is: 1.2284228866631173 and validation error is: 1.469887162517216\n",
      "Training error is: 1.2282757063582697 and validation error is: 1.4699609295709437\n",
      "Training error is: 1.2280850829154466 and validation error is: 1.46966387277667\n",
      "Training error is: 1.2278615151924375 and validation error is: 1.4696858936412995\n",
      "Training error is: 1.227627787998117 and validation error is: 1.4692728773037689\n",
      "Training error is: 1.2273852524554254 and validation error is: 1.4690363478926418\n",
      "Training error is: 1.22713095932716 and validation error is: 1.468519573835727\n",
      "Training error is: 1.2271582727085595 and validation error is: 1.4686589021965186\n",
      "Training error is: 1.2270722040820004 and validation error is: 1.4685553028815592\n",
      "Training error is: 1.2269751579990764 and validation error is: 1.4684314556181568\n",
      "Training error is: 1.2268690821085024 and validation error is: 1.4682881078252088\n",
      "Training error is: 1.2267552528618593 and validation error is: 1.4681186229441412\n",
      "Training error is: 1.2266341156278382 and validation error is: 1.4679284779688664\n",
      "Training error is: 1.2265067481474223 and validation error is: 1.4677159750129474\n",
      "Training error is: 1.2263746936816124 and validation error is: 1.467491679096966\n",
      "Training error is: 1.2262390483793484 and validation error is: 1.467259027803131\n",
      "Training error is: 1.2261021566223584 and validation error is: 1.4670181672700275\n",
      "Training error is: 1.2259645878980014 and validation error is: 1.4667735799609798\n",
      "Training error is: 1.2258262206057773 and validation error is: 1.4665302881213027\n",
      "Training error is: 1.2256877598963805 and validation error is: 1.4663004984892367\n",
      "Training error is: 1.2255497705518221 and validation error is: 1.4660863665812127\n",
      "Training error is: 1.2254122826169302 and validation error is: 1.4658444591084647\n",
      "Training error is: 1.2252749259134332 and validation error is: 1.4655585228629384\n",
      "Training error is: 1.2251384387456228 and validation error is: 1.4652328245951771\n",
      "Training error is: 1.2250047569629101 and validation error is: 1.4649097644266984\n",
      "Training error is: 1.224874201792336 and validation error is: 1.4646226512815614\n",
      "Training error is: 1.2247462811156624 and validation error is: 1.4643570642280261\n",
      "Training error is: 1.2246232220515747 and validation error is: 1.464082971896905\n",
      "Training error is: 1.2245045662245146 and validation error is: 1.4637879449814613\n",
      "Training error is: 1.2243898773954949 and validation error is: 1.4634633546335494\n",
      "Training error is: 1.2242829490492755 and validation error is: 1.463125060501809\n",
      "Training error is: 1.2241827654240478 and validation error is: 1.4628029200082366\n",
      "Training error is: 1.2240876817028774 and validation error is: 1.4625260120928025\n",
      "Training error is: 1.2240025864910313 and validation error is: 1.462230067663389\n",
      "Training error is: 1.2239249261821428 and validation error is: 1.46185512877262\n",
      "Training error is: 1.2238584191578121 and validation error is: 1.4614835593136912\n",
      "Training error is: 1.2238007984817267 and validation error is: 1.4612246444436088\n",
      "Training error is: 1.2237484270098875 and validation error is: 1.4610569976651626\n",
      "Training error is: 1.223705426382398 and validation error is: 1.4608597509542047\n",
      "Training error is: 1.223670044761215 and validation error is: 1.4606709422899338\n",
      "Training error is: 1.223645281953175 and validation error is: 1.460473375389241\n",
      "Training error is: 1.223628838900232 and validation error is: 1.4603660990928233\n",
      "Training error is: 1.2236156175286874 and validation error is: 1.4602556997633658\n",
      "Training error is: 1.2236130182450586 and validation error is: 1.4600567421341477\n",
      "Training error is: 1.223601859749554 and validation error is: 1.4599744736644649\n",
      "Training error is: 1.22359460184853 and validation error is: 1.4599686155128857\n",
      "Training error is: 1.2235382726502593 and validation error is: 1.4599821472961094\n",
      "Training error is: 1.223445905132563 and validation error is: 1.4597993408982033\n",
      "Training error is: 1.2233273999235288 and validation error is: 1.4600019361082957\n",
      "Training error is: 1.2232388941425598 and validation error is: 1.4592576428639945\n",
      "Training error is: 1.2235181721926727 and validation error is: 1.4615379154380115\n",
      "Training error is: 1.2266327725705048 and validation error is: 1.460457781644505\n",
      "Training error is: 1.2229108166479419 and validation error is: 1.4594008608581068\n",
      "Training error is: 1.222966424769141 and validation error is: 1.4599748459796578\n",
      "Training error is: 1.2229990200315533 and validation error is: 1.4603432083686325\n",
      "Training error is: 1.2228399268219587 and validation error is: 1.46008646040155\n",
      "Training error is: 1.222783401455987 and validation error is: 1.4598509913436926\n",
      "Training error is: 1.2227705333435215 and validation error is: 1.4594702980687093\n",
      "Training error is: 1.222691455942405 and validation error is: 1.4593680888131058\n",
      "Training error is: 1.2226365143232554 and validation error is: 1.459712018026585\n",
      "Training error is: 1.2225717974014216 and validation error is: 1.4599395937882331\n",
      "Training error is: 1.2224804810601904 and validation error is: 1.4596548855666125\n",
      "Training error is: 1.2224263504203803 and validation error is: 1.4592620188934857\n",
      "Training error is: 1.222325522914489 and validation error is: 1.4592830744691945\n",
      "Training error is: 1.2222617757207277 and validation error is: 1.459698948618005\n",
      "Training error is: 1.2221697092830626 and validation error is: 1.4597939499738828\n",
      "Training error is: 1.2220884611159435 and validation error is: 1.4594343727569807\n",
      "Training error is: 1.2220086936211687 and validation error is: 1.4591834776268222\n",
      "Training error is: 1.2219081878044247 and validation error is: 1.4594086074087067\n",
      "Training error is: 1.2218454201959132 and validation error is: 1.4597225736052597\n",
      "Training error is: 1.2217341185634911 and validation error is: 1.4595259630094448\n",
      "Training error is: 1.2216792490878188 and validation error is: 1.4592096501648752\n",
      "Training error is: 1.221575067078619 and validation error is: 1.4592501825396391\n",
      "Training error is: 1.2215168076863612 and validation error is: 1.4595900033305238\n",
      "Training error is: 1.2214328611500727 and validation error is: 1.4596501966826998\n",
      "Training error is: 1.2213693574718443 and validation error is: 1.4593838834854702\n",
      "Training error is: 1.2213079368541808 and validation error is: 1.4592889287610258\n",
      "Training error is: 1.2212401107267852 and validation error is: 1.4595432855451858\n",
      "Training error is: 1.2212037778968692 and validation error is: 1.4597561033646733\n",
      "Training error is: 1.2211370802546169 and validation error is: 1.459617951537901\n",
      "Training error is: 1.2211141768318508 and validation error is: 1.4595102962138853\n",
      "Training error is: 1.2210578912382064 and validation error is: 1.4596386504997227\n",
      "Training error is: 1.2210448122640836 and validation error is: 1.4598592489600757\n",
      "Training error is: 1.2210048132233868 and validation error is: 1.4598301589570322\n",
      "Training error is: 1.2209930280961059 and validation error is: 1.4597456728573612\n",
      "Training error is: 1.220974008754621 and validation error is: 1.4598309706219732\n",
      "Training error is: 1.2209546561635278 and validation error is: 1.4599136387221656\n",
      "Training error is: 1.2209468546405147 and validation error is: 1.459963606792318\n",
      "Training error is: 1.2209273378792251 and validation error is: 1.4599271408901922\n",
      "Training error is: 1.2209080775037688 and validation error is: 1.4599335426275357\n",
      "Training error is: 1.2208803754458177 and validation error is: 1.4600205822867969\n",
      "Training error is: 1.220855070271973 and validation error is: 1.4599966382686953\n",
      "Training error is: 1.2208291852610815 and validation error is: 1.4599196887395358\n",
      "Training error is: 1.220805765283027 and validation error is: 1.4599558405199713\n",
      "Training error is: 1.2207788531325747 and validation error is: 1.459986935707568\n",
      "Training error is: 1.2207553823882056 and validation error is: 1.4599169089428032\n",
      "Training error is: 1.2207277081219101 and validation error is: 1.4599062682773036\n",
      "Training error is: 1.220706771979851 and validation error is: 1.459949728430351\n",
      "Training error is: 1.2206774540734384 and validation error is: 1.4599296749954425\n",
      "Training error is: 1.2206582205683567 and validation error is: 1.4599104627560289\n",
      "Training error is: 1.2206271428577535 and validation error is: 1.4598508394075294\n",
      "Training error is: 1.220603443021127 and validation error is: 1.4597534395759195\n",
      "Training error is: 1.2205777521686065 and validation error is: 1.4597488604675501\n",
      "Training error is: 1.2205526930829824 and validation error is: 1.4597881272820459\n",
      "Training error is: 1.2205312680223273 and validation error is: 1.4597009275958428\n",
      "Training error is: 1.2205067742106697 and validation error is: 1.4596098709261809\n",
      "Training error is: 1.2204855584596173 and validation error is: 1.4596625441293614\n",
      "Training error is: 1.2204612277023192 and validation error is: 1.4596835397173993\n",
      "Training error is: 1.2204348612940443 and validation error is: 1.4594490083170322\n",
      "Training error is: 1.2204105730220118 and validation error is: 1.4594370630410594\n",
      "Training error is: 1.2203873201533053 and validation error is: 1.4595631049399507\n",
      "Training error is: 1.2203592954737101 and validation error is: 1.4593769755692305\n",
      "Training error is: 1.2203386879086735 and validation error is: 1.4591905719161633\n",
      "Training error is: 1.220309183372732 and validation error is: 1.4593544588818486\n",
      "Training error is: 1.2202814173199688 and validation error is: 1.459337862495623\n",
      "Training error is: 1.2202527742945937 and validation error is: 1.4590804047895065\n",
      "Training error is: 1.2202202151314638 and validation error is: 1.4591532855836125\n",
      "Training error is: 1.2201870333786873 and validation error is: 1.4592058046896745\n",
      "Training error is: 1.220161977452241 and validation error is: 1.4589665613299716\n",
      "Training error is: 1.220121804205045 and validation error is: 1.4589413585639126\n",
      "Training error is: 1.2200889048084305 and validation error is: 1.4589745266638916\n",
      "Training error is: 1.2200528786095943 and validation error is: 1.4587841633443865\n",
      "Training error is: 1.220017247840326 and validation error is: 1.4588003942256393\n",
      "Training error is: 1.219982554187069 and validation error is: 1.4587004687302796\n",
      "Training error is: 1.2199419817027097 and validation error is: 1.4585790648800026\n",
      "Training error is: 1.2199392628335677 and validation error is: 1.458638278124701\n",
      "Training error is: 1.2199216076538861 and validation error is: 1.45865932537574\n",
      "Training error is: 1.2199022622790783 and validation error is: 1.4586659846174386\n",
      "Training error is: 1.21987975020716 and validation error is: 1.4586369798034486\n",
      "Training error is: 1.2198548975051482 and validation error is: 1.4585846055738176\n",
      "Training error is: 1.2198294543080133 and validation error is: 1.4585364424033385\n",
      "Training error is: 1.2198026917170381 and validation error is: 1.4585086641053726\n",
      "Training error is: 1.219775445166999 and validation error is: 1.458494049068006\n",
      "Training error is: 1.219748859389246 and validation error is: 1.4584803736571499\n",
      "Training error is: 1.2197220252238106 and validation error is: 1.4584529135478763\n",
      "Training error is: 1.21969427625819 and validation error is: 1.4584273328118225\n",
      "Training error is: 1.2196661904149653 and validation error is: 1.458402877574858\n",
      "Training error is: 1.2196384486716458 and validation error is: 1.4583666802699393\n",
      "Training error is: 1.2196100464101154 and validation error is: 1.4583143885348175\n",
      "Training error is: 1.2195815257068183 and validation error is: 1.458258535492562\n",
      "Training error is: 1.2195534078005208 and validation error is: 1.458218231893171\n",
      "Training error is: 1.2195247443312565 and validation error is: 1.458209224433196\n",
      "Training error is: 1.219495723735103 and validation error is: 1.4582049493253417\n",
      "Training error is: 1.2194667690674539 and validation error is: 1.458171340472897\n",
      "Training error is: 1.219438294503279 and validation error is: 1.4581133881685229\n",
      "Training error is: 1.2194092649970347 and validation error is: 1.4580749891615117\n",
      "Training error is: 1.2193800444560885 and validation error is: 1.4580708153679938\n",
      "Training error is: 1.2193512119699945 and validation error is: 1.4580687296931754\n",
      "Training error is: 1.2193220852787383 and validation error is: 1.4580334462613258\n",
      "Training error is: 1.2192934864733789 and validation error is: 1.4580175947578444\n",
      "Training error is: 1.219265335515295 and validation error is: 1.4580157050503848\n",
      "Training error is: 1.2192378101371708 and validation error is: 1.4579761744298936\n",
      "Training error is: 1.2192087365487057 and validation error is: 1.4579190700944857\n",
      "Training error is: 1.219179600428411 and validation error is: 1.4579128097273277\n",
      "Training error is: 1.2191514178701832 and validation error is: 1.4579012915716114\n",
      "Training error is: 1.2191242135245082 and validation error is: 1.4578189337951133\n",
      "Training error is: 1.2190983425827655 and validation error is: 1.4577606723578624\n",
      "Training error is: 1.2190733529616016 and validation error is: 1.4577852549875923\n",
      "Training error is: 1.2190501198506731 and validation error is: 1.457746841040847\n",
      "Training error is: 1.2190298263537143 and validation error is: 1.4577650625489655\n",
      "Training error is: 1.2190094120454993 and validation error is: 1.4577470053419628\n",
      "Training error is: 1.2189921630774532 and validation error is: 1.4578086965521078\n",
      "Training error is: 1.2189762056227411 and validation error is: 1.4577739009846455\n",
      "Training error is: 1.218960739777771 and validation error is: 1.4576986353319117\n",
      "Training error is: 1.218952609530723 and validation error is: 1.4577856084835106\n",
      "Training error is: 1.218955542614439 and validation error is: 1.4577177287440595\n",
      "Training error is: 1.2189228462349626 and validation error is: 1.457729201031322\n",
      "Training error is: 1.2189110057085002 and validation error is: 1.4577175944200484\n",
      "Training error is: 1.218897720008823 and validation error is: 1.457719334417157\n",
      "Training error is: 1.2188812382335055 and validation error is: 1.4577347561732905\n",
      "Training error is: 1.2188633380405203 and validation error is: 1.4577513223306813\n",
      "Training error is: 1.2188447818570733 and validation error is: 1.4577556192110577\n",
      "Training error is: 1.2188256641999256 and validation error is: 1.4577525144344667\n",
      "Training error is: 1.218807625714625 and validation error is: 1.4577502131641795\n",
      "Training error is: 1.218788169494502 and validation error is: 1.457741533211492\n",
      "Training error is: 1.2187686197374434 and validation error is: 1.4577231645657762\n",
      "Training error is: 1.2187496602887806 and validation error is: 1.4576979364295313\n",
      "Training error is: 1.218729774798661 and validation error is: 1.4576694910043746\n",
      "Training error is: 1.218710165092812 and validation error is: 1.4576545208587008\n",
      "Training error is: 1.2186892701415684 and validation error is: 1.4576635601119046\n",
      "Training error is: 1.2186683977735682 and validation error is: 1.457662020812156\n",
      "Training error is: 1.2186471703240431 and validation error is: 1.457641756293082\n",
      "Training error is: 1.2186248452811004 and validation error is: 1.4576120940898885\n",
      "Training error is: 1.2186030608213647 and validation error is: 1.4575795958909121\n",
      "Training error is: 1.2185801265184715 and validation error is: 1.4575463250090686\n",
      "Training error is: 1.2185581373565877 and validation error is: 1.4575116939244408\n",
      "Training error is: 1.2185342747240604 and validation error is: 1.4574765088522634\n",
      "Training error is: 1.2185118206189818 and validation error is: 1.4574395113686764\n",
      "Training error is: 1.2184888160851217 and validation error is: 1.4573892562445603\n",
      "Training error is: 1.21846511108567 and validation error is: 1.4573477226820049\n",
      "Training error is: 1.218441860156168 and validation error is: 1.4573036362041818\n",
      "Training error is: 1.2184184382105983 and validation error is: 1.4572704135368153\n",
      "Training error is: 1.2183967207443713 and validation error is: 1.457268122462486\n",
      "Training error is: 1.2183746293273514 and validation error is: 1.457224348908373\n",
      "Training error is: 1.2183517470708618 and validation error is: 1.4571694590232025\n",
      "Training error is: 1.2183299072957972 and validation error is: 1.457187841288445\n",
      "Training error is: 1.2183053528274312 and validation error is: 1.4571746689284284\n",
      "Training error is: 1.2182844155717918 and validation error is: 1.4571899722838095\n",
      "Training error is: 1.2182599127447102 and validation error is: 1.4572157858892774\n",
      "Training error is: 1.2182403095404386 and validation error is: 1.4571095156284943\n",
      "Training error is: 1.2182173982238225 and validation error is: 1.4572003857306395\n",
      "Training error is: 1.2181954905748955 and validation error is: 1.4571305599502304\n",
      "Training error is: 1.2181744749878154 and validation error is: 1.4570424913596784\n",
      "Training error is: 1.2181558869366318 and validation error is: 1.4571512196403749\n",
      "Training error is: 1.218151578437487 and validation error is: 1.456769992989644\n",
      "Training error is: 1.218190239866946 and validation error is: 1.4575763132970447\n",
      "Training error is: 1.2181050148415673 and validation error is: 1.4570639674418726\n",
      "Training error is: 1.2180941692766687 and validation error is: 1.4569436639194149\n",
      "Training error is: 1.21808068061444 and validation error is: 1.45690849976257\n",
      "Training error is: 1.2180598742587356 and validation error is: 1.4569854480783886\n",
      "Training error is: 1.2180454779630017 and validation error is: 1.4570658722824132\n",
      "Training error is: 1.218022008744019 and validation error is: 1.4570265627204768\n",
      "Training error is: 1.2180055852897913 and validation error is: 1.4569233361549858\n",
      "Training error is: 1.2179869068414417 and validation error is: 1.4568847703934276\n",
      "Training error is: 1.2179633946408608 and validation error is: 1.4569460619489072\n",
      "Training error is: 1.21794937812767 and validation error is: 1.4570076636396574\n",
      "Training error is: 1.2179269359343716 and validation error is: 1.4569655912170894\n",
      "Training error is: 1.2179076326984362 and validation error is: 1.4568651017374952\n",
      "Training error is: 1.2178888320812138 and validation error is: 1.456831417398112\n",
      "Training error is: 1.2178676125677896 and validation error is: 1.4568914641719923\n",
      "Training error is: 1.2178505215522133 and validation error is: 1.4569475131342422\n",
      "Training error is: 1.2178279313811822 and validation error is: 1.456889681100814\n",
      "Training error is: 1.2178116995619042 and validation error is: 1.456812746820595\n",
      "Training error is: 1.2177886064747625 and validation error is: 1.456826627193693\n",
      "Training error is: 1.2177712654680586 and validation error is: 1.4568796901668948\n",
      "Training error is: 1.217749187439661 and validation error is: 1.4568662162956805\n",
      "Training error is: 1.2177315231960066 and validation error is: 1.4568343912602566\n",
      "Training error is: 1.2177103256363795 and validation error is: 1.4568639877944847\n",
      "Training error is: 1.2176921891418875 and validation error is: 1.4568992828445306\n",
      "Training error is: 1.2176720201545939 and validation error is: 1.4568870344569307\n",
      "Training error is: 1.2176553163543302 and validation error is: 1.4568862033222745\n",
      "Training error is: 1.217635613288632 and validation error is: 1.4568792285050343\n",
      "Training error is: 1.2176200898449512 and validation error is: 1.4567772075378036\n",
      "Training error is: 1.2176038584733622 and validation error is: 1.456761037888216\n",
      "Training error is: 1.2175881224470821 and validation error is: 1.456926087320169\n",
      "Training error is: 1.2175736215895316 and validation error is: 1.4568470883779105\n",
      "Training error is: 1.217559433409326 and validation error is: 1.456731345923239\n",
      "Training error is: 1.217543517636893 and validation error is: 1.4568703726021877\n",
      "Training error is: 1.2175313789133753 and validation error is: 1.4567779785118793\n",
      "Training error is: 1.217517161335715 and validation error is: 1.4567308894508095\n",
      "Training error is: 1.2175079158711335 and validation error is: 1.4567916908960117\n",
      "Training error is: 1.2174954678071903 and validation error is: 1.4566789723905633\n",
      "Training error is: 1.2174848060815018 and validation error is: 1.4566176145171241\n",
      "Training error is: 1.2174764536298008 and validation error is: 1.4567095733401616\n",
      "Training error is: 1.2174640955928 and validation error is: 1.4566776516068982\n",
      "Training error is: 1.2174581134999696 and validation error is: 1.4566302486865919\n",
      "Training error is: 1.2174494725361038 and validation error is: 1.456617459898714\n",
      "Training error is: 1.2174456346448954 and validation error is: 1.4565907016379627\n",
      "Training error is: 1.2174336032902169 and validation error is: 1.4565937449431603\n",
      "Training error is: 1.2174247614179854 and validation error is: 1.4565347190652362\n",
      "Training error is: 1.2174142892830555 and validation error is: 1.4564832424978873\n",
      "Training error is: 1.2174071730014455 and validation error is: 1.4564891357634075\n",
      "Training error is: 1.217399155821735 and validation error is: 1.4564552101160952\n",
      "Training error is: 1.217395899434329 and validation error is: 1.4563316406785334\n",
      "Training error is: 1.2173947412432504 and validation error is: 1.456696979290708\n",
      "Training error is: 1.2174131791723417 and validation error is: 1.4560722907059611\n",
      "Training error is: 1.2173599583586063 and validation error is: 1.4563643857110269\n",
      "Training error is: 1.217348619193619 and validation error is: 1.4563974525349344\n",
      "Training error is: 1.2173367442761656 and validation error is: 1.4564003144206823\n",
      "Training error is: 1.2173216602756898 and validation error is: 1.4563534917072947\n",
      "Training error is: 1.2173063325983584 and validation error is: 1.4562907193736363\n",
      "Training error is: 1.2172884461317612 and validation error is: 1.4562562998139388\n",
      "Training error is: 1.2172722568731729 and validation error is: 1.4562535388695674\n",
      "Training error is: 1.2172575717099638 and validation error is: 1.4562406162517725\n",
      "Training error is: 1.2172394442435195 and validation error is: 1.4561907092303579\n",
      "Training error is: 1.2172234158569162 and validation error is: 1.4561415084979372\n",
      "Training error is: 1.217206815347561 and validation error is: 1.456130908131843\n",
      "Training error is: 1.217188736737393 and validation error is: 1.4561505642499515\n",
      "Training error is: 1.2171710770979862 and validation error is: 1.4561511323318026\n",
      "Training error is: 1.2171527129551545 and validation error is: 1.4561065741745556\n",
      "Training error is: 1.2171343332749016 and validation error is: 1.456050500271752\n",
      "Training error is: 1.2171144848967714 and validation error is: 1.4560298140115517\n",
      "Training error is: 1.2170949339154746 and validation error is: 1.456050210393336\n",
      "Training error is: 1.2170767550029702 and validation error is: 1.4560619806858353\n",
      "Training error is: 1.217056302053659 and validation error is: 1.4560358384714884\n",
      "Training error is: 1.2170372055854304 and validation error is: 1.4560119734537227\n",
      "Training error is: 1.217016171968062 and validation error is: 1.4560266135589535\n",
      "Training error is: 1.216996815212076 and validation error is: 1.4560678439271553\n",
      "Training error is: 1.2169776024541705 and validation error is: 1.4560724931931341\n",
      "Training error is: 1.2169575330551181 and validation error is: 1.4560263416643746\n",
      "Training error is: 1.216937909552286 and validation error is: 1.4559921559208564\n",
      "Training error is: 1.2169186087659911 and validation error is: 1.4560123204503181\n",
      "Training error is: 1.2169017297073084 and validation error is: 1.4560340314741813\n",
      "Training error is: 1.2168840191901147 and validation error is: 1.4560317734311397\n",
      "Training error is: 1.2168672613657439 and validation error is: 1.4559984722828712\n",
      "Training error is: 1.2168526839208207 and validation error is: 1.4559887705286247\n",
      "Training error is: 1.2168379152392783 and validation error is: 1.4560094111505455\n",
      "Training error is: 1.2168265987523386 and validation error is: 1.455949718354074\n",
      "Training error is: 1.216813276670302 and validation error is: 1.4559961039037552\n",
      "Training error is: 1.2168052260191513 and validation error is: 1.4559215508264733\n",
      "Training error is: 1.216798022249912 and validation error is: 1.4558598042357473\n",
      "Training error is: 1.216793293982384 and validation error is: 1.4559385314379338\n",
      "Training error is: 1.2167938976235115 and validation error is: 1.455784135454671\n",
      "Training error is: 1.216806899559223 and validation error is: 1.4560572573517092\n",
      "Training error is: 1.216851466833294 and validation error is: 1.455480491790198\n",
      "Training error is: 1.2167792241654567 and validation error is: 1.4557745215714721\n",
      "Training error is: 1.216772197771982 and validation error is: 1.4558547800621777\n",
      "Training error is: 1.2167657012613073 and validation error is: 1.4558787491012295\n",
      "Training error is: 1.2167521605892127 and validation error is: 1.455804255946425\n",
      "Training error is: 1.2167433403817318 and validation error is: 1.4557198091104888\n",
      "Training error is: 1.2167312499379208 and validation error is: 1.4557164825545454\n",
      "Training error is: 1.2167201054699412 and validation error is: 1.455766947648288\n",
      "Training error is: 1.2167127246088842 and validation error is: 1.455767521037801\n",
      "Training error is: 1.216699286597867 and validation error is: 1.4556762454730543\n",
      "Training error is: 1.2166919562393668 and validation error is: 1.455587297292128\n",
      "Training error is: 1.2166805730309198 and validation error is: 1.4555928904738082\n",
      "Training error is: 1.216669212973478 and validation error is: 1.4556700703443557\n",
      "Training error is: 1.2166608478263763 and validation error is: 1.4556981504144493\n",
      "Training error is: 1.2166469919846037 and validation error is: 1.4556205875861425\n",
      "Training error is: 1.2166398522292645 and validation error is: 1.4555668801212203\n",
      "Training error is: 1.2166265112608732 and validation error is: 1.4556226094668792\n",
      "Training error is: 1.216618368541215 and validation error is: 1.4557045804759468\n",
      "Training error is: 1.2166066562100235 and validation error is: 1.4556692254434584\n",
      "Training error is: 1.2165969376733754 and validation error is: 1.4555686248144384\n",
      "Training error is: 1.216586442310992 and validation error is: 1.4555494598665453\n",
      "Training error is: 1.2165749408768547 and validation error is: 1.4556239676994736\n",
      "Training error is: 1.216563665289991 and validation error is: 1.4556185247902134\n",
      "Training error is: 1.2165542205944815 and validation error is: 1.4555508609207868\n",
      "Training error is: 1.2165421165028392 and validation error is: 1.455608001876433\n",
      "Training error is: 1.216534092898268 and validation error is: 1.4556983529588026\n",
      "Training error is: 1.2165203290976798 and validation error is: 1.4556136767001786\n",
      "Training error is: 1.2165115120905807 and validation error is: 1.455580922384374\n",
      "Training error is: 1.2165001572304102 and validation error is: 1.4557073241129719\n",
      "Training error is: 1.2164897412592959 and validation error is: 1.4556680616955675\n",
      "Training error is: 1.216483866520209 and validation error is: 1.4555634633683998\n",
      "Training error is: 1.2164743649171583 and validation error is: 1.4557049544243768\n",
      "Training error is: 1.2164623882819061 and validation error is: 1.45560452451618\n",
      "Training error is: 1.2164578727104716 and validation error is: 1.4555016852296137\n",
      "Training error is: 1.2164536507987833 and validation error is: 1.4555870013936372\n",
      "Training error is: 1.2164473218965899 and validation error is: 1.4554540874657098\n",
      "Training error is: 1.2164402378951948 and validation error is: 1.4554298053875216\n",
      "Training error is: 1.2164407772681431 and validation error is: 1.455494345692324\n",
      "Training error is: 1.2164358744217136 and validation error is: 1.4553502865350079\n",
      "Training error is: 1.2164318753143006 and validation error is: 1.4553983134057753\n",
      "Training error is: 1.2164270067301617 and validation error is: 1.455429347137016\n",
      "Training error is: 1.2164265395898757 and validation error is: 1.455332182551812\n",
      "Training error is: 1.2164216185681944 and validation error is: 1.4553797257341727\n",
      "Training error is: 1.2164153787850553 and validation error is: 1.455365973435696\n",
      "Training error is: 1.2164146284621706 and validation error is: 1.4552718507942672\n",
      "Training error is: 1.2164103682706235 and validation error is: 1.4553226451574046\n",
      "Training error is: 1.2164050606924781 and validation error is: 1.455245512608525\n",
      "Training error is: 1.21640148370662 and validation error is: 1.4551598725214943\n",
      "Training error is: 1.2163983930814797 and validation error is: 1.4552286360482216\n",
      "Training error is: 1.2163943305411635 and validation error is: 1.4551526052195543\n",
      "Training error is: 1.2163896801594127 and validation error is: 1.4551178033685632\n",
      "Training error is: 1.216385923837905 and validation error is: 1.4550543326618293\n",
      "Training error is: 1.2163813904685101 and validation error is: 1.4549755588672553\n",
      "Training error is: 1.2163774469524635 and validation error is: 1.4550158913859144\n",
      "Training error is: 1.2163693950807852 and validation error is: 1.4549596505013107\n",
      "Training error is: 1.216362588133149 and validation error is: 1.4548603187066322\n",
      "Training error is: 1.2163557457289227 and validation error is: 1.4548259635421852\n",
      "Training error is: 1.216349673632729 and validation error is: 1.4547747738406605\n",
      "Training error is: 1.2163419909945277 and validation error is: 1.454770523694898\n",
      "Training error is: 1.2163337479663219 and validation error is: 1.454686123647709\n",
      "Training error is: 1.2163272587496308 and validation error is: 1.4547738842600206\n",
      "Training error is: 1.2163196352582613 and validation error is: 1.4546896812826386\n",
      "Training error is: 1.2163112500761764 and validation error is: 1.4545915650691905\n",
      "Training error is: 1.2163026069056935 and validation error is: 1.4547491806670592\n",
      "Training error is: 1.2162913925587273 and validation error is: 1.4546073162538513\n",
      "Training error is: 1.216280746598505 and validation error is: 1.4547003443470419\n",
      "Training error is: 1.2162690424344866 and validation error is: 1.4546506521295055\n",
      "Training error is: 1.216260932837153 and validation error is: 1.45467554457514\n",
      "Training error is: 1.2162507996550465 and validation error is: 1.454670787879371\n",
      "Training error is: 1.2162397494923907 and validation error is: 1.4546657275911277\n",
      "Training error is: 1.2162272548480222 and validation error is: 1.4546623945638686\n",
      "Training error is: 1.216212288216594 and validation error is: 1.4546613726437436\n",
      "Training error is: 1.2161977039458909 and validation error is: 1.4546596755896255\n",
      "Training error is: 1.2161837149200685 and validation error is: 1.4546502788975735\n",
      "Training error is: 1.2161698001972676 and validation error is: 1.4546367701796505\n",
      "Training error is: 1.2161549032735253 and validation error is: 1.454622113673964\n",
      "Training error is: 1.2161400159173066 and validation error is: 1.4546165282863106\n",
      "Training error is: 1.2161255543952452 and validation error is: 1.4546106453009517\n",
      "Training error is: 1.216110655173864 and validation error is: 1.4545907887270046\n",
      "Training error is: 1.2160951303008032 and validation error is: 1.4545618130877696\n",
      "Training error is: 1.2160798158999404 and validation error is: 1.4545388170099098\n",
      "Training error is: 1.2160636570961532 and validation error is: 1.454546474415185\n",
      "Training error is: 1.216046770746674 and validation error is: 1.4545671850982846\n",
      "Training error is: 1.2160306645135779 and validation error is: 1.4545815516928233\n",
      "Training error is: 1.2160150317672933 and validation error is: 1.4545781800008153\n",
      "Training error is: 1.2159987872913636 and validation error is: 1.4545812339893793\n",
      "Training error is: 1.2159836532903965 and validation error is: 1.4546015688156633\n",
      "Training error is: 1.2159676020798247 and validation error is: 1.4546072819343219\n",
      "Training error is: 1.215952086518812 and validation error is: 1.4545782044065496\n",
      "Training error is: 1.2159371347158334 and validation error is: 1.4545453888558275\n",
      "Training error is: 1.2159223961160006 and validation error is: 1.454537711198574\n",
      "Training error is: 1.2159088468864376 and validation error is: 1.4545432668209457\n",
      "Training error is: 1.215894653663077 and validation error is: 1.4545634301543944\n",
      "Training error is: 1.2158809421462613 and validation error is: 1.454563162028828\n",
      "Training error is: 1.2158680643467665 and validation error is: 1.4545556001804663\n",
      "Training error is: 1.2158564131588454 and validation error is: 1.4545639048660037\n",
      "Training error is: 1.2158463814461489 and validation error is: 1.4545665004558974\n",
      "Training error is: 1.2158377518387793 and validation error is: 1.4544987412931825\n",
      "Training error is: 1.2158310073600165 and validation error is: 1.4545407458336355\n",
      "Training error is: 1.2158227507575832 and validation error is: 1.454503927109979\n",
      "Training error is: 1.215816671157309 and validation error is: 1.4544119702951117\n",
      "Training error is: 1.2158120615603265 and validation error is: 1.4544743427940772\n",
      "Training error is: 1.2158089172940758 and validation error is: 1.454476252606555\n",
      "Training error is: 1.2158104545344426 and validation error is: 1.4545292568138684\n",
      "Training error is: 1.215817672299528 and validation error is: 1.4544787894891116\n",
      "Training error is: 1.2158347014218243 and validation error is: 1.4546032133689835\n",
      "Training error is: 1.215801112359248 and validation error is: 1.4545081871251215\n",
      "Training error is: 1.2157956486722235 and validation error is: 1.4544714386050037\n",
      "Training error is: 1.2157902422991587 and validation error is: 1.4544495793885206\n",
      "Training error is: 1.2157811543667383 and validation error is: 1.4544575073434196\n",
      "Training error is: 1.2157728945948816 and validation error is: 1.4544667808570373\n",
      "Training error is: 1.2157647535904292 and validation error is: 1.4544441832567432\n",
      "Training error is: 1.215756931013649 and validation error is: 1.454385643212285\n",
      "Training error is: 1.2157502751871017 and validation error is: 1.454342785267071\n",
      "Training error is: 1.215742193658747 and validation error is: 1.4543309255034678\n",
      "Training error is: 1.215734654788814 and validation error is: 1.454345422123648\n",
      "Training error is: 1.215727144320911 and validation error is: 1.454355644063404\n",
      "Training error is: 1.2157197167015152 and validation error is: 1.454349901716795\n",
      "Training error is: 1.2157132119812006 and validation error is: 1.4543578003237088\n",
      "Training error is: 1.2157051144241868 and validation error is: 1.4543749273755577\n",
      "Training error is: 1.215698780589268 and validation error is: 1.4543865814608836\n",
      "Training error is: 1.2156907721946006 and validation error is: 1.4543835059469892\n",
      "Training error is: 1.2156833670259544 and validation error is: 1.4543543748498264\n",
      "Training error is: 1.21567492749386 and validation error is: 1.4543289424555232\n",
      "Training error is: 1.2156657537507507 and validation error is: 1.4543006698832541\n",
      "Training error is: 1.2156577439340035 and validation error is: 1.4542679807216587\n",
      "Training error is: 1.2156498832571123 and validation error is: 1.45424339303612\n",
      "Training error is: 1.2156418593571845 and validation error is: 1.4542470973417045\n",
      "Training error is: 1.2156337126288985 and validation error is: 1.4542643737382512\n",
      "Training error is: 1.2156268207586196 and validation error is: 1.4542807387549153\n",
      "Training error is: 1.215619399809151 and validation error is: 1.4542677605339458\n",
      "Training error is: 1.2156126736753907 and validation error is: 1.454260119337928\n",
      "Training error is: 1.215605683715757 and validation error is: 1.4542519756346741\n",
      "Training error is: 1.2155987407060875 and validation error is: 1.454269770839417\n",
      "Training error is: 1.215591559080569 and validation error is: 1.454316576489005\n",
      "Training error is: 1.2155848320358182 and validation error is: 1.4542690279096286\n",
      "Training error is: 1.2155794758810172 and validation error is: 1.45421612220612\n",
      "Training error is: 1.2155730440306365 and validation error is: 1.4542466071360522\n",
      "Training error is: 1.2155677770813877 and validation error is: 1.454262937524063\n",
      "Training error is: 1.2155612059826058 and validation error is: 1.4542313313788708\n",
      "Training error is: 1.215555253377061 and validation error is: 1.4543088278185103\n",
      "Training error is: 1.2155503666611653 and validation error is: 1.4543089310659774\n",
      "Training error is: 1.2155460770626032 and validation error is: 1.4543472173493535\n",
      "Training error is: 1.2155414211106543 and validation error is: 1.4543226100336666\n",
      "Training error is: 1.215538105254529 and validation error is: 1.454410960623683\n",
      "Training error is: 1.215530537526206 and validation error is: 1.4543603375238265\n",
      "Training error is: 1.2155247896175936 and validation error is: 1.4543479593241488\n",
      "Training error is: 1.215518664415542 and validation error is: 1.4543394381242782\n",
      "Training error is: 1.2155109518520772 and validation error is: 1.4543421975388433\n",
      "Training error is: 1.2155027679856638 and validation error is: 1.454361764915065\n",
      "Training error is: 1.2154954680502863 and validation error is: 1.4543862043928\n",
      "Training error is: 1.2154881428162958 and validation error is: 1.454399434449038\n",
      "Training error is: 1.215480672544997 and validation error is: 1.4543962851200063\n",
      "Training error is: 1.2154738846462947 and validation error is: 1.4543937803586648\n",
      "Training error is: 1.2154671414417237 and validation error is: 1.4543932734169707\n",
      "Training error is: 1.215460545278007 and validation error is: 1.454387013721107\n",
      "Training error is: 1.2154537596881072 and validation error is: 1.4543724123255524\n",
      "Training error is: 1.2154469933104957 and validation error is: 1.4543678588968778\n",
      "Training error is: 1.2154402277953746 and validation error is: 1.4543809690222453\n",
      "Training error is: 1.2154333358707186 and validation error is: 1.4543863232038339\n",
      "Training error is: 1.2154257901111096 and validation error is: 1.4543846804285088\n",
      "Training error is: 1.215419304000459 and validation error is: 1.4543845005045868\n",
      "Training error is: 1.2154123169858289 and validation error is: 1.4544006000361778\n",
      "Training error is: 1.215405364346795 and validation error is: 1.454408358288382\n",
      "Training error is: 1.2153981033924204 and validation error is: 1.4544073398489537\n",
      "Training error is: 1.2153909379358958 and validation error is: 1.4543911087212007\n",
      "Training error is: 1.2153847520403205 and validation error is: 1.4543847668440986\n",
      "Training error is: 1.2153786001161224 and validation error is: 1.4544003045311356\n",
      "Training error is: 1.2153730613309373 and validation error is: 1.4543995768252778\n",
      "Training error is: 1.215367188011619 and validation error is: 1.454392218842065\n",
      "Training error is: 1.2153603637085861 and validation error is: 1.4544231978093665\n",
      "Training error is: 1.215354005537337 and validation error is: 1.4544571545925222\n",
      "Training error is: 1.215348266080137 and validation error is: 1.4544771477411897\n",
      "Training error is: 1.2153424936198836 and validation error is: 1.454446182042728\n",
      "Training error is: 1.2153388609453089 and validation error is: 1.4544472953806487\n",
      "Training error is: 1.2153353174026464 and validation error is: 1.4544781504798348\n",
      "Training error is: 1.2153321028422615 and validation error is: 1.4544567927713223\n",
      "Training error is: 1.2153282960680674 and validation error is: 1.4544304937750003\n",
      "Training error is: 1.2153247100848281 and validation error is: 1.4545197938104428\n",
      "Training error is: 1.215321457213665 and validation error is: 1.454525072356525\n",
      "Training error is: 1.2153178746763995 and validation error is: 1.4544971287601411\n",
      "Training error is: 1.215317096131046 and validation error is: 1.45456986621488\n",
      "Training error is: 1.2153141976176456 and validation error is: 1.454533992177161\n",
      "Training error is: 1.2153130001422778 and validation error is: 1.4544916181312506\n",
      "Training error is: 1.2153118739032214 and validation error is: 1.4545125959091036\n",
      "Training error is: 1.2153037594512317 and validation error is: 1.454500657370937\n",
      "Training error is: 1.2152986803554517 and validation error is: 1.454499951764801\n",
      "Training error is: 1.2152932933796152 and validation error is: 1.4545071267656966\n",
      "Training error is: 1.2152861634983378 and validation error is: 1.4545211408528087\n",
      "Training error is: 1.21527960947888 and validation error is: 1.4545369027046242\n",
      "Training error is: 1.2152739102918027 and validation error is: 1.454534034679539\n",
      "Training error is: 1.2152679557826098 and validation error is: 1.4545151726130316\n",
      "Training error is: 1.215262321585252 and validation error is: 1.454493861632244\n",
      "Training error is: 1.21525667261613 and validation error is: 1.454485701681155\n",
      "Training error is: 1.2152508973446101 and validation error is: 1.454477938413394\n",
      "Training error is: 1.2152459975439565 and validation error is: 1.4544613383717013\n",
      "Training error is: 1.2152407912727345 and validation error is: 1.4544413124420785\n",
      "Training error is: 1.2152354868440172 and validation error is: 1.4544180346287372\n",
      "Training error is: 1.2152305274391293 and validation error is: 1.4544088923899214\n",
      "Training error is: 1.2152251905530953 and validation error is: 1.4544080039220488\n",
      "Training error is: 1.2152201097355197 and validation error is: 1.4543964358263295\n",
      "Training error is: 1.2152152537995846 and validation error is: 1.4543655516831098\n",
      "Training error is: 1.215210616321094 and validation error is: 1.4543505111454893\n",
      "Training error is: 1.2152053410859658 and validation error is: 1.4543465609505015\n",
      "Training error is: 1.2152003755590246 and validation error is: 1.4543419915167082\n",
      "Training error is: 1.215195373133263 and validation error is: 1.4543259878073722\n",
      "Training error is: 1.2151900595575147 and validation error is: 1.4543137055659487\n",
      "Training error is: 1.2151854785445653 and validation error is: 1.4543200534483631\n",
      "Training error is: 1.215181210291549 and validation error is: 1.4543459837347368\n",
      "Training error is: 1.2151770765630345 and validation error is: 1.4543612782974855\n",
      "Training error is: 1.2151723782494133 and validation error is: 1.4543617985795594\n",
      "Training error is: 1.2151680932010476 and validation error is: 1.4543697550737944\n",
      "Training error is: 1.2151641971511762 and validation error is: 1.4543766974116303\n",
      "Training error is: 1.2151597826606184 and validation error is: 1.4543673558438603\n",
      "Training error is: 1.2151560825470042 and validation error is: 1.4543121361939422\n",
      "Training error is: 1.2151517081909113 and validation error is: 1.4543217392239516\n",
      "Training error is: 1.215147904361935 and validation error is: 1.4543683468020228\n",
      "Training error is: 1.2151436448307076 and validation error is: 1.4543423280856258\n",
      "Training error is: 1.2151414290897549 and validation error is: 1.4544225536476065\n",
      "Training error is: 1.2151402001704685 and validation error is: 1.4544150391936623\n",
      "Training error is: 1.2151384360160822 and validation error is: 1.4543984719719973\n",
      "Training error is: 1.2151361541283223 and validation error is: 1.4544142283848829\n",
      "Training error is: 1.2151285077267486 and validation error is: 1.4544021426080784\n",
      "Training error is: 1.2151237163552842 and validation error is: 1.4543966979285639\n",
      "Training error is: 1.2151190364475202 and validation error is: 1.4543874663714662\n",
      "Training error is: 1.21511343101011 and validation error is: 1.454383808455351\n",
      "Training error is: 1.2151076685093574 and validation error is: 1.4543855472918175\n",
      "Training error is: 1.2151029828765663 and validation error is: 1.4543864156444375\n",
      "Training error is: 1.2150983363134404 and validation error is: 1.4543842505081928\n",
      "Training error is: 1.2150938530145141 and validation error is: 1.45439163875491\n",
      "Training error is: 1.2150890615971166 and validation error is: 1.4544059347372595\n",
      "Training error is: 1.215085072860301 and validation error is: 1.4544142850446673\n",
      "Training error is: 1.2150814117643076 and validation error is: 1.4544161299741565\n",
      "Training error is: 1.2150774419099006 and validation error is: 1.4544167424247236\n",
      "Training error is: 1.2150734013851896 and validation error is: 1.4544081064436019\n",
      "Training error is: 1.215069392711292 and validation error is: 1.4543989441612668\n",
      "Training error is: 1.215065437106285 and validation error is: 1.4543901122647354\n",
      "Training error is: 1.2150617866005964 and validation error is: 1.4543929991401199\n",
      "Training error is: 1.2150577437326138 and validation error is: 1.454393373436584\n",
      "Training error is: 1.2150542772911086 and validation error is: 1.454386101830495\n",
      "Training error is: 1.2150501714146333 and validation error is: 1.4543761061762723\n",
      "Training error is: 1.2150469127140293 and validation error is: 1.4543690406991274\n",
      "Training error is: 1.2150428072587263 and validation error is: 1.454369500580111\n",
      "Training error is: 1.2150391698119751 and validation error is: 1.4543868607377122\n",
      "Training error is: 1.2150353327663086 and validation error is: 1.4544069003088023\n",
      "Training error is: 1.2150321291509383 and validation error is: 1.4544163778918722\n",
      "Training error is: 1.2150289087289075 and validation error is: 1.4544088867860432\n",
      "Training error is: 1.2150263876130811 and validation error is: 1.454404833252597\n",
      "Training error is: 1.2150234619637188 and validation error is: 1.4544263610108676\n",
      "Training error is: 1.2150211944455127 and validation error is: 1.4544475766268856\n",
      "Training error is: 1.215018779812349 and validation error is: 1.454425799168964\n",
      "Training error is: 1.2150164418183178 and validation error is: 1.4544329702191021\n",
      "Training error is: 1.215014186591756 and validation error is: 1.4544544271809272\n",
      "Training error is: 1.2150125710496038 and validation error is: 1.4544353318480674\n",
      "Training error is: 1.2150106310398234 and validation error is: 1.454406030435126\n",
      "Training error is: 1.2150089822691554 and validation error is: 1.4544085393095254\n",
      "Training error is: 1.215008035320442 and validation error is: 1.4544100096221853\n",
      "Training error is: 1.215007717468128 and validation error is: 1.4543953956802405\n",
      "Training error is: 1.215008469926956 and validation error is: 1.4543908654151965\n",
      "Training error is: 1.2150090509833331 and validation error is: 1.4544860486356015\n",
      "Training error is: 1.215011797499303 and validation error is: 1.4543981153690222\n",
      "Training error is: 1.2150023486154722 and validation error is: 1.454450748176825\n",
      "Training error is: 1.214998193026523 and validation error is: 1.4544751396665507\n",
      "Training error is: 1.2149951084912307 and validation error is: 1.4544905010410825\n",
      "Training error is: 1.2149907314544017 and validation error is: 1.4544813835927222\n",
      "Training error is: 1.2149857110482096 and validation error is: 1.4544604609639875\n",
      "Training error is: 1.214981717253454 and validation error is: 1.4544444403549135\n",
      "Training error is: 1.214978348926094 and validation error is: 1.4544422436425242\n",
      "Training error is: 1.2149745629309443 and validation error is: 1.4544500283077955\n",
      "Training error is: 1.2149713367862516 and validation error is: 1.4544641989075078\n",
      "Training error is: 1.2149684546422543 and validation error is: 1.4544786273430685\n",
      "Training error is: 1.2149657994648166 and validation error is: 1.4544905852403913\n",
      "Training error is: 1.2149630553678663 and validation error is: 1.4545041343719922\n",
      "Training error is: 1.2149599650059708 and validation error is: 1.4545139371277103\n",
      "Training error is: 1.2149579718019134 and validation error is: 1.4545124090763744\n",
      "Training error is: 1.2149550362385249 and validation error is: 1.4545082259151532\n",
      "Training error is: 1.2149522287278867 and validation error is: 1.4545105903028637\n",
      "Training error is: 1.2149505993170227 and validation error is: 1.4545242477286093\n",
      "Training error is: 1.2149480374204034 and validation error is: 1.4545412351559617\n",
      "Training error is: 1.2149454852506096 and validation error is: 1.4545195807197966\n",
      "Training error is: 1.2149434661896197 and validation error is: 1.4544923885887173\n",
      "Training error is: 1.2149406543433046 and validation error is: 1.4545127220004062\n",
      "Training error is: 1.2149382719918824 and validation error is: 1.4545475524197287\n",
      "Training error is: 1.2149362907850927 and validation error is: 1.4545449187619819\n",
      "Training error is: 1.2149337332435848 and validation error is: 1.4545368598011499\n",
      "Training error is: 1.2149309720050012 and validation error is: 1.4545573015082232\n",
      "Training error is: 1.2149295712471142 and validation error is: 1.4545676778399081\n",
      "Training error is: 1.2149264808662616 and validation error is: 1.4545624098315226\n",
      "Training error is: 1.2149258988031155 and validation error is: 1.4545573665170004\n",
      "Training error is: 1.2149232139498345 and validation error is: 1.4545571855120605\n",
      "Training error is: 1.2149226164901612 and validation error is: 1.454571257601288\n",
      "Training error is: 1.2149205954749625 and validation error is: 1.4545947173583742\n",
      "Training error is: 1.2149188981922059 and validation error is: 1.4545419682362954\n",
      "Training error is: 1.2149188564492008 and validation error is: 1.4545489791805963\n",
      "Training error is: 1.2149178237693707 and validation error is: 1.4545749588783976\n",
      "Training error is: 1.2149164743418681 and validation error is: 1.4545111812667075\n",
      "Training error is: 1.2149142055766582 and validation error is: 1.4545117842624273\n",
      "Training error is: 1.2149125488522392 and validation error is: 1.4545570435708406\n",
      "Training error is: 1.2149117288265163 and validation error is: 1.4545127353576617\n",
      "Training error is: 1.214910335020217 and validation error is: 1.454511921012425\n",
      "Training error is: 1.2149102794053017 and validation error is: 1.4545852056918394\n",
      "Training error is: 1.2149082191666394 and validation error is: 1.4544759383583452\n",
      "Training error is: 1.2149071731639443 and validation error is: 1.454487268994304\n",
      "Training error is: 1.2149064056182315 and validation error is: 1.4545397930979052\n",
      "Training error is: 1.21490515333115 and validation error is: 1.4544570008489492\n",
      "Training error is: 1.2149032763852485 and validation error is: 1.454517179155546\n",
      "Training error is: 1.214901739387368 and validation error is: 1.4545236651993028\n",
      "Training error is: 1.2149005726650453 and validation error is: 1.454456925467321\n",
      "Training error is: 1.2149000493539694 and validation error is: 1.4545347974065583\n",
      "Training error is: 1.214898410261134 and validation error is: 1.4545192077648108\n",
      "Training error is: 1.2148978006099027 and validation error is: 1.454465243482404\n",
      "Training error is: 1.2148964513516702 and validation error is: 1.4545430321635278\n",
      "Training error is: 1.2148952829004154 and validation error is: 1.4545016964597028\n",
      "Training error is: 1.2148930966793976 and validation error is: 1.4544691792214557\n",
      "Training error is: 1.2148946954048068 and validation error is: 1.454508199542565\n",
      "Training error is: 1.214892993378977 and validation error is: 1.454433697296225\n",
      "Training error is: 1.21489287751963 and validation error is: 1.4545011978526934\n",
      "Training error is: 1.2148864686159109 and validation error is: 1.4545135183454188\n",
      "Training error is: 1.214884482748799 and validation error is: 1.4545004904029493\n",
      "Training error is: 1.2148790601356527 and validation error is: 1.4544563176683025\n",
      "Training error is: 1.2148696684005955 and validation error is: 1.4545468708597813\n",
      "Training error is: 1.2148643476392142 and validation error is: 1.454501088735833\n",
      "Training error is: 1.2148591423413688 and validation error is: 1.4545270282942344\n",
      "Training error is: 1.2148548222734399 and validation error is: 1.454539166496605\n",
      "Training error is: 1.2148509888688868 and validation error is: 1.454554225394813\n",
      "Training error is: 1.214846217073911 and validation error is: 1.4545625331632266\n",
      "Training error is: 1.2148415101807788 and validation error is: 1.4545601024003045\n",
      "Training error is: 1.214837894234003 and validation error is: 1.454559576516874\n",
      "Training error is: 1.2148342635610843 and validation error is: 1.454569514334597\n",
      "Training error is: 1.2148309441500915 and validation error is: 1.454576151993325\n",
      "Training error is: 1.2148280487774268 and validation error is: 1.4545790789139676\n",
      "Training error is: 1.214825600890741 and validation error is: 1.4545783895610025\n",
      "Training error is: 1.2148227918437011 and validation error is: 1.4545809400934162\n",
      "Training error is: 1.2148198489918678 and validation error is: 1.4545862280928943\n",
      "Training error is: 1.2148173235940072 and validation error is: 1.45459759442923\n",
      "Training error is: 1.2148143107328995 and validation error is: 1.454618721526098\n",
      "Training error is: 1.214811231489141 and validation error is: 1.454636452714396\n",
      "Training error is: 1.2148081978055933 and validation error is: 1.4546358457646897\n",
      "Training error is: 1.2148052037894401 and validation error is: 1.454625314445269\n",
      "Training error is: 1.214802559962072 and validation error is: 1.454620977943481\n",
      "Training error is: 1.214799942822741 and validation error is: 1.454619732222763\n",
      "Training error is: 1.2147973248388102 and validation error is: 1.4546166039310355\n",
      "Training error is: 1.2147945644714042 and validation error is: 1.454581273447606\n",
      "Training error is: 1.2147918901482595 and validation error is: 1.4545682617072315\n",
      "Training error is: 1.2147888708567338 and validation error is: 1.45457491904707\n",
      "Training error is: 1.2147855755539436 and validation error is: 1.4545632928649068\n",
      "Training error is: 1.2147831364068868 and validation error is: 1.4545350441820055\n",
      "Training error is: 1.214780574600268 and validation error is: 1.4545243323330341\n",
      "Training error is: 1.2147781795382957 and validation error is: 1.4545540679934121\n",
      "Training error is: 1.2147758532670494 and validation error is: 1.4545598573607545\n",
      "Training error is: 1.2147741061925594 and validation error is: 1.454549550483466\n",
      "Training error is: 1.2147722922955633 and validation error is: 1.4545481838821717\n",
      "Training error is: 1.2147703603168183 and validation error is: 1.4545776956093022\n",
      "Training error is: 1.214768218386022 and validation error is: 1.4545777171632386\n",
      "Training error is: 1.2147664950901245 and validation error is: 1.4545624847033913\n",
      "Training error is: 1.214763609639261 and validation error is: 1.4545860972234093\n",
      "Training error is: 1.2147626707554946 and validation error is: 1.4545930583749038\n",
      "Training error is: 1.2147607739826434 and validation error is: 1.4545065346039063\n",
      "Training error is: 1.2147597774166177 and validation error is: 1.4544570505653338\n",
      "Training error is: 1.2147591466339738 and validation error is: 1.4545348906279973\n",
      "Training error is: 1.2147576725041942 and validation error is: 1.4545408205452932\n",
      "Training error is: 1.214757484134985 and validation error is: 1.4544865484053868\n",
      "Training error is: 1.2147563960866 and validation error is: 1.45453073826288\n",
      "Training error is: 1.2147563580407341 and validation error is: 1.4546191539358388\n",
      "Training error is: 1.2147559655729565 and validation error is: 1.4545682604378554\n",
      "Training error is: 1.214755900494596 and validation error is: 1.4545267201591372\n",
      "Training error is: 1.2147564042022374 and validation error is: 1.4546109366914777\n",
      "Training error is: 1.2147572652330227 and validation error is: 1.4545500241904739\n",
      "Training error is: 1.2147577490998096 and validation error is: 1.4545708002697113\n",
      "Training error is: 1.2147572386528198 and validation error is: 1.4546565098117092\n",
      "Training error is: 1.214757734402942 and validation error is: 1.4546539378384087\n",
      "Training error is: 1.2147591935969015 and validation error is: 1.4546210973503813\n",
      "Training error is: 1.214755200494349 and validation error is: 1.4546399532796375\n",
      "Training error is: 1.2147534130324327 and validation error is: 1.4546483058931032\n",
      "Training error is: 1.214748785455089 and validation error is: 1.45465960700648\n",
      "Training error is: 1.2147430577155043 and validation error is: 1.454623705676127\n",
      "Training error is: 1.2147405606633144 and validation error is: 1.4546639285724465\n",
      "Training error is: 1.2147378076086595 and validation error is: 1.4546223443368502\n",
      "Training error is: 1.2147321679278151 and validation error is: 1.4546411094705491\n",
      "Training error is: 1.2147287192189173 and validation error is: 1.454637161904342\n",
      "Training error is: 1.214725962034165 and validation error is: 1.454637797078476\n",
      "Training error is: 1.2147219063147037 and validation error is: 1.4546465731838447\n",
      "Training error is: 1.214718790179758 and validation error is: 1.4546556254263563\n",
      "Training error is: 1.2147165851666095 and validation error is: 1.454656161652038\n",
      "Training error is: 1.214713988758555 and validation error is: 1.4546516719202796\n",
      "Training error is: 1.2147122133156238 and validation error is: 1.4546500826528241\n",
      "Training error is: 1.214710249165305 and validation error is: 1.4546508202430413\n",
      "Training error is: 1.2147079833940482 and validation error is: 1.4546490129544651\n",
      "Training error is: 1.2147062909787107 and validation error is: 1.4546381396112595\n",
      "Training error is: 1.2147039416208578 and validation error is: 1.4546272968570373\n",
      "Training error is: 1.2147019490757036 and validation error is: 1.454625711313416\n",
      "Training error is: 1.2146998922761045 and validation error is: 1.4546274479955223\n",
      "Training error is: 1.2146976641743814 and validation error is: 1.4546245384288694\n",
      "Training error is: 1.2146952591636597 and validation error is: 1.4546149187496122\n",
      "Training error is: 1.2146931083568042 and validation error is: 1.4546165091416168\n",
      "Training error is: 1.2146906579552046 and validation error is: 1.4546314255581503\n",
      "Training error is: 1.2146882281359577 and validation error is: 1.4546381474725023\n",
      "Training error is: 1.2146863205764311 and validation error is: 1.4546352597798857\n",
      "Training error is: 1.2146845906256896 and validation error is: 1.4546329573944796\n",
      "Training error is: 1.214682758276473 and validation error is: 1.4546347125611512\n",
      "Training error is: 1.2146804646983425 and validation error is: 1.4546345834827383\n",
      "Training error is: 1.214678715651132 and validation error is: 1.4546316431728206\n",
      "Training error is: 1.2146761707623166 and validation error is: 1.4546315073640181\n",
      "Training error is: 1.2146745401452348 and validation error is: 1.454612476069896\n",
      "Training error is: 1.214672452082693 and validation error is: 1.4545999988254672\n",
      "Training error is: 1.2146707250557298 and validation error is: 1.4546085778660907\n",
      "Training error is: 1.2146685003247724 and validation error is: 1.4546115532532298\n",
      "Training error is: 1.21466626098071 and validation error is: 1.4545893229890519\n",
      "Training error is: 1.2146648257076555 and validation error is: 1.4545755268722262\n",
      "Training error is: 1.214662992726181 and validation error is: 1.454566588825085\n",
      "Training error is: 1.2146615222539967 and validation error is: 1.4545624933097863\n",
      "Training error is: 1.2146598908183268 and validation error is: 1.454559441382879\n",
      "Training error is: 1.2146596969269887 and validation error is: 1.4545647389506517\n",
      "Training error is: 1.2146576876168274 and validation error is: 1.4545655211034654\n",
      "Training error is: 1.2146529520843834 and validation error is: 1.4545647845876806\n",
      "Training error is: 1.2146499903089336 and validation error is: 1.4545669919887896\n",
      "Training error is: 1.2146475076030403 and validation error is: 1.4545723663634758\n",
      "Training error is: 1.214643678474168 and validation error is: 1.4545762066488206\n",
      "Training error is: 1.2146404997095268 and validation error is: 1.454579781467958\n",
      "Training error is: 1.214638807904218 and validation error is: 1.4545782186222778\n",
      "Training error is: 1.2146368457714716 and validation error is: 1.454574536743774\n",
      "Training error is: 1.2146350462452824 and validation error is: 1.454576522093772\n",
      "Training error is: 1.2146339238424915 and validation error is: 1.4545915442780069\n",
      "Training error is: 1.2146327923412592 and validation error is: 1.4546101312330135\n",
      "Training error is: 1.2146314577893251 and validation error is: 1.4546138041580015\n",
      "Training error is: 1.2146305091156357 and validation error is: 1.4546088041199234\n",
      "Training error is: 1.214629124246012 and validation error is: 1.454607435005695\n",
      "Training error is: 1.214627796432458 and validation error is: 1.4546176754183628\n",
      "Training error is: 1.214626711124967 and validation error is: 1.4546280417540776\n",
      "Training error is: 1.2146251738843095 and validation error is: 1.4546238202216082\n",
      "Training error is: 1.2146240198676876 and validation error is: 1.4546111911450783\n",
      "Training error is: 1.2146229741406218 and validation error is: 1.4546111320147515\n",
      "Training error is: 1.2146221452717327 and validation error is: 1.4546138840008758\n",
      "Training error is: 1.214620955817817 and validation error is: 1.4546080953052258\n",
      "Training error is: 1.2146202660128036 and validation error is: 1.4545971340946617\n",
      "Training error is: 1.2146194104832015 and validation error is: 1.45460221026649\n",
      "Training error is: 1.2146185608447997 and validation error is: 1.4546012672199038\n",
      "Training error is: 1.2146174334543007 and validation error is: 1.4545891779487872\n",
      "Training error is: 1.214616492604065 and validation error is: 1.4545905485531776\n",
      "Training error is: 1.2146153187893765 and validation error is: 1.4546088700765258\n",
      "Training error is: 1.2146145288728065 and validation error is: 1.4546092609618935\n",
      "Training error is: 1.2146134338179952 and validation error is: 1.4545946401998258\n",
      "Training error is: 1.2146126963177466 and validation error is: 1.4546073991496735\n",
      "Training error is: 1.2146113167573915 and validation error is: 1.4546125732314792\n",
      "Training error is: 1.214609670639197 and validation error is: 1.4545958675401067\n",
      "Training error is: 1.2146088174980254 and validation error is: 1.4545736109791396\n",
      "Training error is: 1.2146084252143352 and validation error is: 1.4545712413516187\n",
      "Training error is: 1.2146072551816376 and validation error is: 1.4545611927096969\n",
      "Training error is: 1.2146062189069644 and validation error is: 1.4545508246878882\n",
      "Training error is: 1.214605263954951 and validation error is: 1.454575658609778\n",
      "Training error is: 1.2146036990066407 and validation error is: 1.454560431363379\n",
      "Training error is: 1.2146034425770122 and validation error is: 1.4545554205725377\n",
      "Training error is: 1.2146022869236686 and validation error is: 1.4545840551617109\n",
      "Training error is: 1.2146006581181497 and validation error is: 1.4545837564718127\n",
      "Training error is: 1.214600239778163 and validation error is: 1.45455758115359\n",
      "Training error is: 1.2145985586120922 and validation error is: 1.454579457221531\n",
      "Training error is: 1.214598204492619 and validation error is: 1.454583651123207\n",
      "Training error is: 1.2145969484788344 and validation error is: 1.4545825724837693\n",
      "Training error is: 1.2145959098877102 and validation error is: 1.4546024858374347\n",
      "Training error is: 1.2145943109341686 and validation error is: 1.454585529765677\n",
      "Training error is: 1.2145927746683758 and validation error is: 1.4545943180238967\n",
      "Training error is: 1.2145918221402288 and validation error is: 1.4546149869700518\n",
      "Training error is: 1.2145913399373671 and validation error is: 1.4545884351483847\n",
      "Training error is: 1.2145908866794364 and validation error is: 1.4545840582831897\n"
     ]
    },
    {
     "ename": "KeyboardInterrupt",
     "evalue": "",
     "output_type": "error",
     "traceback": [
      "\u001b[1;31m---------------------------------------------------------------------------\u001b[0m",
      "\u001b[1;31mKeyboardInterrupt\u001b[0m                         Traceback (most recent call last)",
      "Cell \u001b[1;32mIn[51], line 4\u001b[0m\n\u001b[0;32m      1\u001b[0m \u001b[38;5;28;01mfrom\u001b[39;00m \u001b[38;5;21;01mLeapFrog\u001b[39;00m \u001b[38;5;28;01mimport\u001b[39;00m LFrog\n\u001b[0;32m      3\u001b[0m lf \u001b[38;5;241m=\u001b[39m LFrog(num_hidden\u001b[38;5;241m=\u001b[39m\u001b[38;5;241m248\u001b[39m,random_state\u001b[38;5;241m=\u001b[39m\u001b[38;5;241m0\u001b[39m,reg_parameter\u001b[38;5;241m=\u001b[39m\u001b[38;5;241m0.003\u001b[39m)\n\u001b[1;32m----> 4\u001b[0m \u001b[43mlf\u001b[49m\u001b[38;5;241;43m.\u001b[39;49m\u001b[43mfit\u001b[49m\u001b[43m(\u001b[49m\u001b[43mX_train\u001b[49m\u001b[43m,\u001b[49m\u001b[43m \u001b[49m\u001b[43my_train\u001b[49m\u001b[43m,\u001b[49m\u001b[43m \u001b[49m\u001b[43mX_val\u001b[49m\u001b[43m,\u001b[49m\u001b[43m \u001b[49m\u001b[43my_val\u001b[49m\u001b[43m)\u001b[49m\n",
      "File \u001b[1;32mD:\\ML441\\ML441Assignments\\Assignment2\\LeapFrog.py:182\u001b[0m, in \u001b[0;36mLFrog.fit\u001b[1;34m(self, X, y, X_val, y_val)\u001b[0m\n\u001b[0;32m    180\u001b[0m prev_velocity \u001b[38;5;241m=\u001b[39m velocity\n\u001b[0;32m    181\u001b[0m prev_acceleration \u001b[38;5;241m=\u001b[39m acceleration\n\u001b[1;32m--> 182\u001b[0m acceleration \u001b[38;5;241m=\u001b[39m \u001b[38;5;241m-\u001b[39m(\u001b[38;5;28;43mself\u001b[39;49m\u001b[38;5;241;43m.\u001b[39;49m\u001b[43mcalculate_gradient\u001b[49m\u001b[43m(\u001b[49m\u001b[38;5;28;43mself\u001b[39;49m\u001b[38;5;241;43m.\u001b[39;49m\u001b[43mweights\u001b[49m\u001b[43m,\u001b[49m\u001b[43m \u001b[49m\u001b[43mX\u001b[49m\u001b[43m,\u001b[49m\u001b[43m \u001b[49m\u001b[43my\u001b[49m\u001b[43m)\u001b[49m)\n\u001b[0;32m    183\u001b[0m velocity \u001b[38;5;241m=\u001b[39m velocity \u001b[38;5;241m+\u001b[39m (acceleration \u001b[38;5;241m*\u001b[39m Delta_t)\n\u001b[0;32m    185\u001b[0m \u001b[38;5;28;01mif\u001b[39;00m acceleration\u001b[38;5;241m.\u001b[39mT \u001b[38;5;241m@\u001b[39m prev_acceleration \u001b[38;5;241m>\u001b[39m \u001b[38;5;241m0\u001b[39m:\n",
      "File \u001b[1;32mD:\\ML441\\ML441Assignments\\Assignment2\\LeapFrog.py:122\u001b[0m, in \u001b[0;36mLFrog.calculate_gradient\u001b[1;34m(self, weights, X, y)\u001b[0m\n\u001b[0;32m    119\u001b[0m delta_hidden \u001b[38;5;241m=\u001b[39m np\u001b[38;5;241m.\u001b[39mdot(delta_output, output_weights[:, :\u001b[38;5;241m-\u001b[39m\u001b[38;5;241m1\u001b[39m]) \u001b[38;5;241m*\u001b[39m \u001b[38;5;28mself\u001b[39m\u001b[38;5;241m.\u001b[39mrelu_derivative(hidden_output)\n\u001b[0;32m    121\u001b[0m grad_output \u001b[38;5;241m=\u001b[39m np\u001b[38;5;241m.\u001b[39mdot(delta_output\u001b[38;5;241m.\u001b[39mT, hidden_output_with_bias) \u001b[38;5;241m/\u001b[39m num_samples\n\u001b[1;32m--> 122\u001b[0m grad_hidden \u001b[38;5;241m=\u001b[39m \u001b[43mnp\u001b[49m\u001b[38;5;241;43m.\u001b[39;49m\u001b[43mdot\u001b[49m\u001b[43m(\u001b[49m\u001b[43mdelta_hidden\u001b[49m\u001b[38;5;241;43m.\u001b[39;49m\u001b[43mT\u001b[49m\u001b[43m,\u001b[49m\u001b[43m \u001b[49m\u001b[43mX_with_bias\u001b[49m\u001b[43m)\u001b[49m \u001b[38;5;241m/\u001b[39m num_samples\n\u001b[0;32m    124\u001b[0m total_gradient \u001b[38;5;241m=\u001b[39m np\u001b[38;5;241m.\u001b[39mconcatenate([grad_hidden\u001b[38;5;241m.\u001b[39mflatten(), grad_output\u001b[38;5;241m.\u001b[39mflatten()])\n\u001b[0;32m    126\u001b[0m \u001b[38;5;66;03m# Add the gradient of the L2 regularization term\u001b[39;00m\n",
      "\u001b[1;31mKeyboardInterrupt\u001b[0m: "
     ]
    }
   ],
   "source": [
    "from LeapFrog import LFrog\n",
    "\n",
    "lf = LFrog(num_hidden=248,random_state=0,reg_parameter=0.003)\n",
    "lf.fit(X_train, y_train, X_val, y_val)"
   ]
  },
  {
   "cell_type": "code",
   "execution_count": 52,
   "id": "76f0d770-d687-4c7d-b852-67a76edadd2d",
   "metadata": {},
   "outputs": [
    {
     "data": {
      "text/plain": [
       "0.7835555555555556"
      ]
     },
     "execution_count": 52,
     "metadata": {},
     "output_type": "execute_result"
    }
   ],
   "source": [
    "y_pred = np.argmax(lf.predict(X_test), axis=1)\n",
    "np.sum((y_pred == np.argmax(y_test, axis=1))) / len(y_pred)"
   ]
  },
  {
   "cell_type": "code",
   "execution_count": 53,
   "id": "fe85255e-138f-4bcc-a92f-5947d18bcdb0",
   "metadata": {},
   "outputs": [
    {
     "data": {
      "text/plain": [
       "0.909047619047619"
      ]
     },
     "execution_count": 53,
     "metadata": {},
     "output_type": "execute_result"
    }
   ],
   "source": [
    "y_pred = np.argmax(lf.predict(X_train), axis=1)\n",
    "np.sum((y_pred == np.argmax(y_train, axis=1))) / len(y_pred)"
   ]
  },
  {
   "cell_type": "code",
   "execution_count": 54,
   "id": "85a2cf55-bf94-4460-a09d-6fc4373dea12",
   "metadata": {},
   "outputs": [
    {
     "data": {
      "image/png": "[encoded data removed]",
      "text/plain": [
       "<Figure size 640x480 with 1 Axes>"
      ]
     },
     "metadata": {},
     "output_type": "display_data"
    }
   ],
   "source": [
    "plt.figure()\n",
    "\n",
    "plt.plot(np.asarray(lf.validation_error))\n",
    "plt.plot(np.asarray(lf.training_error))\n",
    "\n",
    "plt.legend(['test', 'train'])\n",
    "plt.show()"
   ]
  },
  {
   "cell_type": "code",
   "execution_count": 84,
   "id": "8ba3e00f-7d7c-4b05-baaf-ff15528ef3de",
   "metadata": {},
   "outputs": [],
   "source": [
    "def generate_regression_data(n, scale=0.25, seed=4433):\n",
    "    np.random.seed(seed)\n",
    "    x = np.random.uniform(-10,10,(n,))\n",
    "    err = np.random.normal(0., scale, (n,))\n",
    "    y = 0.2*x**3 + 0.8*x**2 + 1 + err\n",
    "    \n",
    "    mux = np.mean(x)\n",
    "    muy = np.mean(y)\n",
    "    sigx = np.std(x)\n",
    "    sigy = np.std(y)\n",
    "    x = (x-mux)/sigx\n",
    "    y = (y-muy)/sigy\n",
    "    return x,y"
   ]
  },
  {
   "cell_type": "code",
   "execution_count": 85,
   "id": "99ed404e-6435-4565-9ee5-0e73b349e0f0",
   "metadata": {},
   "outputs": [],
   "source": [
    "x,y = generate_regression_data(5000)"
   ]
  },
  {
   "cell_type": "code",
   "execution_count": 86,
   "id": "8a689d9e-602d-4a8e-ab9b-af10c776b2bf",
   "metadata": {},
   "outputs": [
    {
     "data": {
      "image/png": "[encoded data removed]",
      "text/plain": [
       "<Figure size 400x300 with 1 Axes>"
      ]
     },
     "metadata": {},
     "output_type": "display_data"
    }
   ],
   "source": [
    "plt.figure(figsize=(4,3))\n",
    "plt.scatter(x,y)\n",
    "plt.show()"
   ]
  },
  {
   "cell_type": "code",
   "execution_count": 87,
   "id": "2ac3b725-0f87-4a46-bcab-9ed6b4228e4a",
   "metadata": {},
   "outputs": [
    {
     "name": "stdout",
     "output_type": "stream",
     "text": [
      "Current shape:\n",
      "x = (5000,)\n",
      "y = (5000,)\n",
      "New shape:\n",
      "x = (5000, 1)\n",
      "y = (5000, 1)\n"
     ]
    }
   ],
   "source": [
    "print(f'Current shape:\\nx = {x.shape}\\ny = {y.shape}')\n",
    "x = x.reshape(-1,1)\n",
    "y = y.reshape(-1,1)\n",
    "print(f'New shape:\\nx = {x.shape}\\ny = {y.shape}')"
   ]
  },
  {
   "cell_type": "code",
   "execution_count": 88,
   "id": "5214f4fb-624b-4150-87b7-7a7f04042040",
   "metadata": {
    "scrolled": true
   },
   "outputs": [
    {
     "name": "stdout",
     "output_type": "stream",
     "text": [
      "Training error is: 1.0098174089468244 and validation error is: 1.0098174089468244\n",
      "Training error is: 1.008561291313025 and validation error is: 1.008561291313025\n",
      "Training error is: 1.0065751782716787 and validation error is: 1.0065751782716787\n",
      "Training error is: 1.0040382208469127 and validation error is: 1.0040382208469127\n",
      "Training error is: 1.0014455343173347 and validation error is: 1.0014455343173347\n",
      "Training error is: 1.0 and validation error is: 1.0\n",
      "Training error is: 1.0 and validation error is: 1.0\n",
      "Training error is: 1.0 and validation error is: 1.0\n",
      "Training error is: 1.0 and validation error is: 1.0\n",
      "Training error is: 1.0 and validation error is: 1.0\n",
      "Training error is: 1.0 and validation error is: 1.0\n",
      "Training error is: 1.0013090428880473 and validation error is: 1.0013090428880473\n",
      "Training error is: 0.9953620570810353 and validation error is: 0.9953620570810353\n",
      "Training error is: 0.9427471675300286 and validation error is: 0.9427471675300286\n",
      "Training error is: 0.8896694322257294 and validation error is: 0.8896694322257294\n",
      "Training error is: 0.8375850778111581 and validation error is: 0.8375850778111581\n",
      "Training error is: 0.7873900455993756 and validation error is: 0.7873900455993756\n",
      "Training error is: 0.7400138424912056 and validation error is: 0.7400138424912056\n",
      "Training error is: 0.6964039036970275 and validation error is: 0.6964039036970275\n",
      "Training error is: 0.6575060969720112 and validation error is: 0.6575060969720112\n",
      "Training error is: 0.6242485245763438 and validation error is: 0.6242485245763438\n",
      "Training error is: 0.604253425095027 and validation error is: 0.604253425095027\n",
      "Training error is: 0.6177818832004128 and validation error is: 0.6177818832004128\n",
      "Training error is: 0.6418366784143981 and validation error is: 0.6418366784143981\n",
      "Training error is: 0.6663349626979252 and validation error is: 0.6663349626979252\n",
      "Training error is: 0.6777349089054435 and validation error is: 0.6777349089054435\n",
      "Training error is: 0.6831624811429998 and validation error is: 0.6831624811429998\n",
      "Training error is: 0.6857804876473389 and validation error is: 0.6857804876473389\n",
      "Training error is: 0.6847788011363394 and validation error is: 0.6847788011363394\n",
      "Training error is: 0.682699611282887 and validation error is: 0.682699611282887\n",
      "Training error is: 0.6794852543569229 and validation error is: 0.6794852543569229\n",
      "Training error is: 0.6750882593101143 and validation error is: 0.6750882593101143\n",
      "Training error is: 0.6694780694416875 and validation error is: 0.6694780694416875\n",
      "Training error is: 0.6626033738997059 and validation error is: 0.6626033738997059\n",
      "Training error is: 0.6544949815505336 and validation error is: 0.6544949815505336\n",
      "Training error is: 0.6452826740870451 and validation error is: 0.6452826740870451\n",
      "Training error is: 0.6350577018604605 and validation error is: 0.6350577018604605\n",
      "Training error is: 0.6240594595173932 and validation error is: 0.6240594595173932\n",
      "Training error is: 0.6125736898599514 and validation error is: 0.6125736898599514\n",
      "Training error is: 0.600924808303108 and validation error is: 0.600924808303108\n",
      "Training error is: 0.5951759084505064 and validation error is: 0.5951759084505064\n",
      "Training error is: 0.5923210967914128 and validation error is: 0.5923210967914128\n",
      "Training error is: 0.5927753982323526 and validation error is: 0.5927753982323526\n",
      "Training error is: 0.5937250742244065 and validation error is: 0.5937250742244065\n",
      "Training error is: 0.5951923904570313 and validation error is: 0.5951923904570313\n",
      "Training error is: 0.5971684528958514 and validation error is: 0.5971684528958514\n",
      "Training error is: 0.5995872382834891 and validation error is: 0.5995872382834891\n",
      "Training error is: 0.6023248124909131 and validation error is: 0.6023248124909131\n",
      "Training error is: 0.6051825002361143 and validation error is: 0.6051825002361143\n",
      "Training error is: 0.6078380829086525 and validation error is: 0.6078380829086525\n",
      "Training error is: 0.6099157735039273 and validation error is: 0.6099157735039273\n",
      "Training error is: 0.6109525435588358 and validation error is: 0.6109525435588358\n",
      "Training error is: 0.6104425532611333 and validation error is: 0.6104425532611333\n",
      "Training error is: 0.6079301198159954 and validation error is: 0.6079301198159954\n",
      "Training error is: 0.6030992410470543 and validation error is: 0.6030992410470543\n",
      "Training error is: 0.5959359115937581 and validation error is: 0.5959359115937581\n",
      "Training error is: 0.5867430327647921 and validation error is: 0.5867430327647921\n",
      "Training error is: 0.5762992731927606 and validation error is: 0.5762992731927606\n",
      "Training error is: 0.5656896299763646 and validation error is: 0.5656896299763646\n",
      "Training error is: 0.5562040628814169 and validation error is: 0.5562040628814169\n",
      "Training error is: 0.548854630119068 and validation error is: 0.548854630119068\n",
      "Training error is: 0.5441461037809951 and validation error is: 0.5441461037809951\n",
      "Training error is: 0.5420918661339147 and validation error is: 0.5420918661339147\n",
      "Training error is: 0.5420073347089038 and validation error is: 0.5420073347089038\n",
      "Training error is: 0.5424252139314155 and validation error is: 0.5424252139314155\n",
      "Training error is: 0.5413344388910492 and validation error is: 0.5413344388910492\n",
      "Training error is: 0.5370304706659462 and validation error is: 0.5370304706659462\n",
      "Training error is: 0.5297611641647474 and validation error is: 0.5297611641647474\n",
      "Training error is: 0.525588626822077 and validation error is: 0.525588626822077\n",
      "Training error is: 0.5237083983773869 and validation error is: 0.5237083983773869\n",
      "Training error is: 0.5236889597147647 and validation error is: 0.5236889597147647\n",
      "Training error is: 0.5236443598863445 and validation error is: 0.5236443598863445\n",
      "Training error is: 0.523567470730655 and validation error is: 0.523567470730655\n",
      "Training error is: 0.5234532445009634 and validation error is: 0.5234532445009634\n",
      "Training error is: 0.52329987436623 and validation error is: 0.52329987436623\n",
      "Training error is: 0.5230746035209848 and validation error is: 0.5230746035209848\n",
      "Training error is: 0.5226608224752939 and validation error is: 0.5226608224752939\n",
      "Training error is: 0.5218879622548479 and validation error is: 0.5218879622548479\n",
      "Training error is: 0.5206639209157845 and validation error is: 0.5206639209157845\n",
      "Training error is: 0.5189546036957982 and validation error is: 0.5189546036957982\n",
      "Training error is: 0.516661813639866 and validation error is: 0.516661813639866\n",
      "Training error is: 0.5139104339981699 and validation error is: 0.5139104339981699\n",
      "Training error is: 0.5113031292962771 and validation error is: 0.5113031292962771\n",
      "Training error is: 0.5094325710616466 and validation error is: 0.5094325710616466\n",
      "Training error is: 0.5087099020622156 and validation error is: 0.5087099020622156\n",
      "Training error is: 0.508398142077355 and validation error is: 0.508398142077355\n",
      "Training error is: 0.5085991073132491 and validation error is: 0.5085991073132491\n",
      "Training error is: 0.5082764867422707 and validation error is: 0.5082764867422707\n",
      "Training error is: 0.5612135131522841 and validation error is: 0.5612135131522841\n",
      "Training error is: 1.0 and validation error is: 1.0\n",
      "Training error is: 0.534559881660643 and validation error is: 0.534559881660643\n",
      "Training error is: 0.5306452367048113 and validation error is: 0.5306452367048113\n",
      "Training error is: 0.625503758081718 and validation error is: 0.625503758081718\n",
      "Training error is: 0.5101332481670875 and validation error is: 0.5101332481670875\n",
      "Training error is: 0.5081340235331351 and validation error is: 0.5081340235331351\n",
      "Training error is: 0.5084613572664275 and validation error is: 0.5084613572664275\n",
      "Training error is: 0.5087297575754997 and validation error is: 0.5087297575754997\n",
      "Training error is: 0.5085261428871716 and validation error is: 0.5085261428871716\n",
      "Training error is: 0.5083975413381638 and validation error is: 0.5083975413381638\n",
      "Training error is: 0.5083502083061702 and validation error is: 0.5083502083061702\n",
      "Training error is: 0.5084811201853628 and validation error is: 0.5084811201853628\n",
      "Training error is: 0.5085164360873085 and validation error is: 0.5085164360873085\n",
      "Training error is: 0.5083700126722043 and validation error is: 0.5083700126722043\n",
      "Training error is: 0.5083666803063169 and validation error is: 0.5083666803063169\n",
      "Training error is: 0.5085227194809582 and validation error is: 0.5085227194809582\n",
      "Training error is: 0.5084920423557221 and validation error is: 0.5084920423557221\n",
      "Training error is: 0.5083378087329916 and validation error is: 0.5083378087329916\n",
      "Training error is: 0.5083958315401759 and validation error is: 0.5083958315401759\n",
      "Training error is: 0.508556628792892 and validation error is: 0.508556628792892\n",
      "Training error is: 0.5084399544627737 and validation error is: 0.5084399544627737\n"
     ]
    }
   ],
   "source": [
    "from LeapFrog import LFrog\n",
    "\n",
    "lf = LFrog(num_hidden=256, output_activation='linear', random_state=0)\n",
    "lf.fit(x, y, x, y)"
   ]
  },
  {
   "cell_type": "code",
   "execution_count": 89,
   "id": "71bd4a80-2399-4b6f-ba78-17d74bfdca6d",
   "metadata": {},
   "outputs": [],
   "source": [
    "xseq = np.linspace(x.min()-1e-02, x.max()+1e-02, 100)\n",
    "yseq = lf.predict(xseq.reshape(-1,1))"
   ]
  },
  {
   "cell_type": "code",
   "execution_count": 90,
   "id": "d6e8b435-27a2-4327-ab87-b995c1604e8f",
   "metadata": {},
   "outputs": [
    {
     "data": {
      "image/png": "[encoded data removed]",
      "text/plain": [
       "<Figure size 400x300 with 1 Axes>"
      ]
     },
     "metadata": {},
     "output_type": "display_data"
    }
   ],
   "source": [
    "plt.figure(figsize=(4,3))\n",
    "plt.scatter(x,y,color='lightblue',alpha=0.1)\n",
    "plt.plot(xseq, yseq.ravel(), color='black', linewidth=2.0)\n",
    "plt.show()"
   ]
  },
  {
   "cell_type": "code",
   "execution_count": 91,
   "id": "76135bed-b806-41ca-a681-d651d35e46f0",
   "metadata": {
    "scrolled": true
   },
   "outputs": [
    {
     "name": "stdout",
     "output_type": "stream",
     "text": [
      "Training error is: 0.686230561056843 and validation error is: 0.686230561056843\n",
      "Training error is: 0.6107309815444594 and validation error is: 0.6107309815444594\n",
      "Training error is: 0.5323459949825884 and validation error is: 0.5323459949825884\n",
      "Training error is: 0.5169648088986016 and validation error is: 0.5169648088986016\n",
      "Training error is: 0.5137272853484306 and validation error is: 0.5137272853484306\n",
      "Training error is: 0.509009064930005 and validation error is: 0.509009064930005\n",
      "Training error is: 0.509009064930005 and validation error is: 0.509009064930005\n",
      "Training error is: 0.509009064930005 and validation error is: 0.509009064930005\n",
      "Training error is: 0.509009064930005 and validation error is: 0.509009064930005\n",
      "Training error is: 0.509009064930005 and validation error is: 0.509009064930005\n",
      "Training error is: 0.509009064930005 and validation error is: 0.509009064930005\n",
      "Training error is: 0.509009064930005 and validation error is: 0.509009064930005\n",
      "Training error is: 0.509009064930005 and validation error is: 0.509009064930005\n",
      "Training error is: 0.509009064930005 and validation error is: 0.509009064930005\n",
      "Training error is: 0.509009064930005 and validation error is: 0.509009064930005\n",
      "Training error is: 0.509009064930005 and validation error is: 0.509009064930005\n",
      "Training error is: 0.509009064930005 and validation error is: 0.509009064930005\n",
      "Training error is: 0.509009064930005 and validation error is: 0.509009064930005\n",
      "Training error is: 0.509009064930005 and validation error is: 0.509009064930005\n",
      "Training error is: 0.509009064930005 and validation error is: 0.509009064930005\n",
      "Training error is: 0.509009064930005 and validation error is: 0.509009064930005\n",
      "Training error is: 0.509009064930005 and validation error is: 0.509009064930005\n",
      "Training error is: 0.509009064930005 and validation error is: 0.509009064930005\n",
      "Training error is: 0.509009064930005 and validation error is: 0.509009064930005\n",
      "Training error is: 0.509009064930005 and validation error is: 0.509009064930005\n",
      "Training error is: 0.509009064930005 and validation error is: 0.509009064930005\n",
      "Training error is: 0.509009064930005 and validation error is: 0.509009064930005\n",
      "Training error is: 0.509009064930005 and validation error is: 0.509009064930005\n",
      "Training error is: 0.509009064930005 and validation error is: 0.509009064930005\n",
      "Training error is: 0.509009064930005 and validation error is: 0.509009064930005\n",
      "Training error is: 0.509009064930005 and validation error is: 0.509009064930005\n",
      "Training error is: 0.509009064930005 and validation error is: 0.509009064930005\n",
      "Training error is: 0.509009064930005 and validation error is: 0.509009064930005\n",
      "Training error is: 0.509009064930005 and validation error is: 0.509009064930005\n",
      "Training error is: 0.509009064930005 and validation error is: 0.509009064930005\n",
      "Early stopping due to small weight changes.\n"
     ]
    }
   ],
   "source": [
    "from ScaledConjugateGradient import SCG\n",
    "\n",
    "scg = SCG(num_hidden=256, output_activation='linear', random_state=0)\n",
    "scg.fit(x, y, x, y)"
   ]
  },
  {
   "cell_type": "code",
   "execution_count": 92,
   "id": "81c066f8-f438-4dc0-8b83-38b15ce89b76",
   "metadata": {},
   "outputs": [],
   "source": [
    "xseq = np.linspace(x.min()-1e-02, x.max()+1e-02, 100)\n",
    "yseq = scg.predict(xseq.reshape(-1,1))"
   ]
  },
  {
   "cell_type": "code",
   "execution_count": 93,
   "id": "0aae1434-4de9-4ff0-8eb1-89f992db3919",
   "metadata": {
    "scrolled": true
   },
   "outputs": [
    {
     "data": {
      "image/png": "[encoded data removed]",
      "text/plain": [
       "<Figure size 400x300 with 1 Axes>"
      ]
     },
     "metadata": {},
     "output_type": "display_data"
    }
   ],
   "source": [
    "plt.figure(figsize=(4,3))\n",
    "plt.scatter(x,y,color='lightblue',alpha=0.1)\n",
    "plt.plot(xseq, yseq.ravel(), color='black', linewidth=2.0)\n",
    "plt.show()"
   ]
  },
  {
   "cell_type": "code",
   "execution_count": 94,
   "id": "29e023d9-650e-4018-976d-6e3be60df6b7",
   "metadata": {
    "scrolled": true
   },
   "outputs": [
    {
     "name": "stdout",
     "output_type": "stream",
     "text": [
      "Epoch 1/100, Error: nan, Avg Weight Change: nan\n",
      "Validation Error: nan\n",
      "Epoch 2/100, Error: nan, Avg Weight Change: nan\n",
      "Validation Error: nan\n",
      "Epoch 3/100, Error: nan, Avg Weight Change: nan\n",
      "Validation Error: nan\n",
      "Epoch 4/100, Error: nan, Avg Weight Change: nan\n",
      "Validation Error: nan\n",
      "Epoch 5/100, Error: nan, Avg Weight Change: nan\n",
      "Validation Error: nan\n",
      "Epoch 6/100, Error: nan, Avg Weight Change: nan\n",
      "Validation Error: nan\n",
      "Epoch 7/100, Error: nan, Avg Weight Change: nan\n",
      "Validation Error: nan\n",
      "Epoch 8/100, Error: nan, Avg Weight Change: nan\n",
      "Validation Error: nan\n",
      "Epoch 9/100, Error: nan, Avg Weight Change: nan\n",
      "Validation Error: nan\n",
      "Epoch 10/100, Error: nan, Avg Weight Change: nan\n",
      "Validation Error: nan\n",
      "Epoch 11/100, Error: nan, Avg Weight Change: nan\n",
      "Validation Error: nan\n",
      "Epoch 12/100, Error: nan, Avg Weight Change: nan\n",
      "Validation Error: nan\n",
      "Epoch 13/100, Error: nan, Avg Weight Change: nan\n",
      "Validation Error: nan\n",
      "Epoch 14/100, Error: nan, Avg Weight Change: nan\n",
      "Validation Error: nan\n",
      "Epoch 15/100, Error: nan, Avg Weight Change: nan\n",
      "Validation Error: nan\n",
      "Epoch 16/100, Error: nan, Avg Weight Change: nan\n",
      "Validation Error: nan\n",
      "Epoch 17/100, Error: nan, Avg Weight Change: nan\n",
      "Validation Error: nan\n",
      "Epoch 18/100, Error: nan, Avg Weight Change: nan\n",
      "Validation Error: nan\n",
      "Epoch 19/100, Error: nan, Avg Weight Change: nan\n",
      "Validation Error: nan\n",
      "Epoch 20/100, Error: nan, Avg Weight Change: nan\n",
      "Validation Error: nan\n",
      "Epoch 21/100, Error: nan, Avg Weight Change: nan\n",
      "Validation Error: nan\n",
      "Epoch 22/100, Error: nan, Avg Weight Change: nan\n",
      "Validation Error: nan\n",
      "Epoch 23/100, Error: nan, Avg Weight Change: nan\n",
      "Validation Error: nan\n",
      "Epoch 24/100, Error: nan, Avg Weight Change: nan\n",
      "Validation Error: nan\n",
      "Epoch 25/100, Error: nan, Avg Weight Change: nan\n",
      "Validation Error: nan\n",
      "Epoch 26/100, Error: nan, Avg Weight Change: nan\n",
      "Validation Error: nan\n",
      "Epoch 27/100, Error: nan, Avg Weight Change: nan\n",
      "Validation Error: nan\n",
      "Epoch 28/100, Error: nan, Avg Weight Change: nan\n",
      "Validation Error: nan\n",
      "Epoch 29/100, Error: nan, Avg Weight Change: nan\n",
      "Validation Error: nan\n",
      "Epoch 30/100, Error: nan, Avg Weight Change: nan\n",
      "Validation Error: nan\n",
      "Epoch 31/100, Error: nan, Avg Weight Change: nan\n",
      "Validation Error: nan\n",
      "Epoch 32/100, Error: nan, Avg Weight Change: nan\n",
      "Validation Error: nan\n",
      "Epoch 33/100, Error: nan, Avg Weight Change: nan\n",
      "Validation Error: nan\n",
      "Epoch 34/100, Error: nan, Avg Weight Change: nan\n",
      "Validation Error: nan\n",
      "Epoch 35/100, Error: nan, Avg Weight Change: nan\n",
      "Validation Error: nan\n",
      "Epoch 36/100, Error: nan, Avg Weight Change: nan\n",
      "Validation Error: nan\n",
      "Epoch 37/100, Error: nan, Avg Weight Change: nan\n",
      "Validation Error: nan\n",
      "Epoch 38/100, Error: nan, Avg Weight Change: nan\n",
      "Validation Error: nan\n",
      "Epoch 39/100, Error: nan, Avg Weight Change: nan\n",
      "Validation Error: nan\n",
      "Epoch 40/100, Error: nan, Avg Weight Change: nan\n",
      "Validation Error: nan\n",
      "Epoch 41/100, Error: nan, Avg Weight Change: nan\n",
      "Validation Error: nan\n",
      "Epoch 42/100, Error: nan, Avg Weight Change: nan\n",
      "Validation Error: nan\n",
      "Epoch 43/100, Error: nan, Avg Weight Change: nan\n",
      "Validation Error: nan\n",
      "Epoch 44/100, Error: nan, Avg Weight Change: nan\n",
      "Validation Error: nan\n",
      "Epoch 45/100, Error: nan, Avg Weight Change: nan\n",
      "Validation Error: nan\n",
      "Epoch 46/100, Error: nan, Avg Weight Change: nan\n",
      "Validation Error: nan\n",
      "Epoch 47/100, Error: nan, Avg Weight Change: nan\n",
      "Validation Error: nan\n",
      "Epoch 48/100, Error: nan, Avg Weight Change: nan\n",
      "Validation Error: nan\n",
      "Epoch 49/100, Error: nan, Avg Weight Change: nan\n",
      "Validation Error: nan\n",
      "Epoch 50/100, Error: nan, Avg Weight Change: nan\n",
      "Validation Error: nan\n",
      "Epoch 51/100, Error: nan, Avg Weight Change: nan\n",
      "Validation Error: nan\n",
      "Epoch 52/100, Error: nan, Avg Weight Change: nan\n",
      "Validation Error: nan\n",
      "Epoch 53/100, Error: nan, Avg Weight Change: nan\n",
      "Validation Error: nan\n",
      "Epoch 54/100, Error: nan, Avg Weight Change: nan\n",
      "Validation Error: nan\n",
      "Epoch 55/100, Error: nan, Avg Weight Change: nan\n",
      "Validation Error: nan\n",
      "Epoch 56/100, Error: nan, Avg Weight Change: nan\n",
      "Validation Error: nan\n",
      "Epoch 57/100, Error: nan, Avg Weight Change: nan\n",
      "Validation Error: nan\n",
      "Epoch 58/100, Error: nan, Avg Weight Change: nan\n",
      "Validation Error: nan\n",
      "Epoch 59/100, Error: nan, Avg Weight Change: nan\n",
      "Validation Error: nan\n",
      "Epoch 60/100, Error: nan, Avg Weight Change: nan\n",
      "Validation Error: nan\n",
      "Epoch 61/100, Error: nan, Avg Weight Change: nan\n",
      "Validation Error: nan\n",
      "Epoch 62/100, Error: nan, Avg Weight Change: nan\n",
      "Validation Error: nan\n",
      "Epoch 63/100, Error: nan, Avg Weight Change: nan\n",
      "Validation Error: nan\n",
      "Epoch 64/100, Error: nan, Avg Weight Change: nan\n",
      "Validation Error: nan\n",
      "Epoch 65/100, Error: nan, Avg Weight Change: nan\n",
      "Validation Error: nan\n",
      "Epoch 66/100, Error: nan, Avg Weight Change: nan\n",
      "Validation Error: nan\n",
      "Epoch 67/100, Error: nan, Avg Weight Change: nan\n",
      "Validation Error: nan\n",
      "Epoch 68/100, Error: nan, Avg Weight Change: nan\n",
      "Validation Error: nan\n",
      "Epoch 69/100, Error: nan, Avg Weight Change: nan\n",
      "Validation Error: nan\n",
      "Epoch 70/100, Error: nan, Avg Weight Change: nan\n",
      "Validation Error: nan\n",
      "Epoch 71/100, Error: nan, Avg Weight Change: nan\n",
      "Validation Error: nan\n",
      "Epoch 72/100, Error: nan, Avg Weight Change: nan\n",
      "Validation Error: nan\n",
      "Epoch 73/100, Error: nan, Avg Weight Change: nan\n",
      "Validation Error: nan\n",
      "Epoch 74/100, Error: nan, Avg Weight Change: nan\n",
      "Validation Error: nan\n",
      "Epoch 75/100, Error: nan, Avg Weight Change: nan\n",
      "Validation Error: nan\n",
      "Epoch 76/100, Error: nan, Avg Weight Change: nan\n",
      "Validation Error: nan\n",
      "Epoch 77/100, Error: nan, Avg Weight Change: nan\n",
      "Validation Error: nan\n",
      "Epoch 78/100, Error: nan, Avg Weight Change: nan\n",
      "Validation Error: nan\n",
      "Epoch 79/100, Error: nan, Avg Weight Change: nan\n",
      "Validation Error: nan\n",
      "Epoch 80/100, Error: nan, Avg Weight Change: nan\n",
      "Validation Error: nan\n",
      "Epoch 81/100, Error: nan, Avg Weight Change: nan\n",
      "Validation Error: nan\n",
      "Epoch 82/100, Error: nan, Avg Weight Change: nan\n",
      "Validation Error: nan\n",
      "Epoch 83/100, Error: nan, Avg Weight Change: nan\n",
      "Validation Error: nan\n",
      "Epoch 84/100, Error: nan, Avg Weight Change: nan\n",
      "Validation Error: nan\n",
      "Epoch 85/100, Error: nan, Avg Weight Change: nan\n",
      "Validation Error: nan\n",
      "Epoch 86/100, Error: nan, Avg Weight Change: nan\n",
      "Validation Error: nan\n",
      "Epoch 87/100, Error: nan, Avg Weight Change: nan\n",
      "Validation Error: nan\n",
      "Epoch 88/100, Error: nan, Avg Weight Change: nan\n",
      "Validation Error: nan\n",
      "Epoch 89/100, Error: nan, Avg Weight Change: nan\n",
      "Validation Error: nan\n",
      "Epoch 90/100, Error: nan, Avg Weight Change: nan\n",
      "Validation Error: nan\n",
      "Epoch 91/100, Error: nan, Avg Weight Change: nan\n",
      "Validation Error: nan\n",
      "Epoch 92/100, Error: nan, Avg Weight Change: nan\n",
      "Validation Error: nan\n",
      "Epoch 93/100, Error: nan, Avg Weight Change: nan\n",
      "Validation Error: nan\n",
      "Epoch 94/100, Error: nan, Avg Weight Change: nan\n",
      "Validation Error: nan\n",
      "Epoch 95/100, Error: nan, Avg Weight Change: nan\n",
      "Validation Error: nan\n",
      "Epoch 96/100, Error: nan, Avg Weight Change: nan\n",
      "Validation Error: nan\n",
      "Epoch 97/100, Error: nan, Avg Weight Change: nan\n",
      "Validation Error: nan\n",
      "Epoch 98/100, Error: nan, Avg Weight Change: nan\n",
      "Validation Error: nan\n",
      "Epoch 99/100, Error: nan, Avg Weight Change: nan\n",
      "Validation Error: nan\n",
      "Epoch 100/100, Error: nan, Avg Weight Change: nan\n",
      "Validation Error: nan\n"
     ]
    }
   ],
   "source": [
    "from StochasticGradientDescent import SGD\n",
    "\n",
    "sgd = SGD(num_hidden=256, epochs=100, output_activation='linear', random_state=0)\n",
    "sgd.fit(x, y, x, y)"
   ]
  },
  {
   "cell_type": "code",
   "execution_count": 95,
   "id": "63755410-4068-447d-ba3f-6c26be0ea65f",
   "metadata": {},
   "outputs": [],
   "source": [
    "xseq = np.linspace(x.min()-1e-02, x.max()+1e-02, 100)\n",
    "yseq = sgd.predict(xseq.reshape(-1,1))"
   ]
  },
  {
   "cell_type": "code",
   "execution_count": 96,
   "id": "73ee37cd-979a-4f00-a098-796f7b33c800",
   "metadata": {
    "scrolled": true
   },
   "outputs": [
    {
     "data": {
      "image/png": "[encoded data removed]",
      "text/plain": [
       "<Figure size 400x300 with 1 Axes>"
      ]
     },
     "metadata": {},
     "output_type": "display_data"
    }
   ],
   "source": [
    "plt.figure(figsize=(4,3))\n",
    "plt.scatter(x,y,color='lightblue',alpha=0.1)\n",
    "plt.plot(xseq, yseq.ravel(), color='black', linewidth=2.0)\n",
    "plt.show()"
   ]
  },
  {
   "cell_type": "code",
   "execution_count": null,
   "id": "cd6f8d56-24a3-4527-9ee8-590e984c3d42",
   "metadata": {},
   "outputs": [],
   "source": []
  }
 ],
 "metadata": {
  "kernelspec": {
   "display_name": "Python 3 (ipykernel)",
   "language": "python",
   "name": "python3"
  },
  "language_info": {
   "codemirror_mode": {
    "name": "ipython",
    "version": 3
   },
   "file_extension": ".py",
   "mimetype": "text/x-python",
   "name": "python",
   "nbconvert_exporter": "python",
   "pygments_lexer": "ipython3",
   "version": "3.9.12"
  }
 },
 "nbformat": 4,
 "nbformat_minor": 5
}
